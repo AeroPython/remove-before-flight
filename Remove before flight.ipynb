{
 "cells": [
  {
   "cell_type": "markdown",
   "metadata": {},
   "source": [
    "![PyData_logo](./static/pydata-logo-madrid-2016.png)"
   ]
  },
  {
   "cell_type": "markdown",
   "metadata": {},
   "source": [
    "# Remove Before Flight\n",
    "## Analyzing Flight Safety Data with Python"
   ]
  },
  {
   "cell_type": "markdown",
   "metadata": {},
   "source": [
    "###### Jesús Martos Carrizo\n",
    "###### Alejandro Sáez Mollejo"
   ]
  },
  {
   "cell_type": "markdown",
   "metadata": {},
   "source": [
    "### Introduction"
   ]
  },
  {
   "cell_type": "markdown",
   "metadata": {},
   "source": [
    "#### Some figures "
   ]
  },
  {
   "cell_type": "markdown",
   "metadata": {},
   "source": [
    "![passengers](./static/passenger.jpg)\n",
    "###### by Ryan McGuire"
   ]
  },
  {
   "cell_type": "markdown",
   "metadata": {},
   "source": [
    "####  Flight Safety"
   ]
  },
  {
   "cell_type": "markdown",
   "metadata": {},
   "source": [
    "#### Obejctive of this talk "
   ]
  },
  {
   "cell_type": "markdown",
   "metadata": {},
   "source": [
    "##### Disclaimer"
   ]
  },
  {
   "cell_type": "markdown",
   "metadata": {},
   "source": [
    "#### Some remarks about"
   ]
  },
  {
   "cell_type": "markdown",
   "metadata": {},
   "source": [
    "![pandas-logo](./static/pandas_logo.png)"
   ]
  },
  {
   "cell_type": "markdown",
   "metadata": {},
   "source": [
    "#### Data source"
   ]
  },
  {
   "cell_type": "markdown",
   "metadata": {},
   "source": [
    "<img src=\"./static/ntsb.jpg\" style=\"width: 150px;\"/>\n",
    "\n",
    "__National Transportation Safety Board__ is charged with determining the probable cause of transportation accidents and promoting transportation safety, and assisting victims of transportation accidents and their families.\n",
    "\n",
    "Data: http://www.ntsb.gov/_layouts/ntsb.aviation/index.aspx"
   ]
  },
  {
   "cell_type": "markdown",
   "metadata": {},
   "source": [
    "### Loading & Cleaning data "
   ]
  },
  {
   "cell_type": "code",
   "execution_count": 1,
   "metadata": {
    "collapsed": false
   },
   "outputs": [],
   "source": [
    "import pandas as pd\n",
    "\n",
    "%matplotlib inline\n",
    "import matplotlib.pyplot as plt"
   ]
  },
  {
   "cell_type": "code",
   "execution_count": 2,
   "metadata": {
    "collapsed": false
   },
   "outputs": [],
   "source": [
    "# Some configuration options:\n",
    "pd.set_option('max_columns', 70)\n",
    "pd.set_option('max_rows', 50)\n",
    "\n",
    "# to show all posiible options:\n",
    "# pd.describe_option()\n",
    "\n",
    "# to reset to default option value:\n",
    "# pd.reset_option('max_columns')\n",
    "\n",
    "# to show current value:\n",
    "# pd.get_option('max_columns')"
   ]
  },
  {
   "cell_type": "code",
   "execution_count": 3,
   "metadata": {
    "collapsed": false
   },
   "outputs": [
    {
     "name": "stderr",
     "output_type": "stream",
     "text": [
      "/miniconda/envs/pydata-safety/lib/python3.5/site-packages/IPython/core/interactiveshell.py:2723: DtypeWarning: Columns (12) have mixed types. Specify dtype option on import or set low_memory=False.\n",
      "  interactivity=interactivity, compiler=compiler, result=result)\n"
     ]
    }
   ],
   "source": [
    "events = pd.read_csv(\"./data/events.csv\",\n",
    "                                    sep='|',\n",
    "                                    index_col=0)  # Use eventid as index\n",
    "occurrences = pd.read_csv(\"./data/Occurrences1.csv\",\n",
    "                                    sep=';',\n",
    "                                    index_col=0)  # Use eventid as index"
   ]
  },
  {
   "cell_type": "raw",
   "metadata": {},
   "source": [
    "In avall.mdb data base, column names are already lowercase and have no spaces.  If we had to convert them manually, a good option woulb be:\n",
    "\n",
    "    events.columns = events.columns.str.strip().str.lower().str.replace(' ', '_')"
   ]
  },
  {
   "cell_type": "raw",
   "metadata": {},
   "source": [
    "-- RAW CELLS FOR COMMENTS -- \n",
    "TODO: Remove before definitive version.\n",
    "\n",
    "Read csv accepts many other input arguments:\n",
    "    http://pandas.pydata.org/pandas-docs/stable/io.html#io-read-csv-table\n",
    "    \n",
    "Interesting ones for us are: \n",
    "* `header` and `names`: allow us to choose the names of the columns\n",
    "* `use_cols`: read only certain columns\n",
    "* `dtype` : Type name or dict of column -> type, default None. Data type for data or columns. E.g. {'a': np.float64, 'b': np.int32} (unsupported with engine='python'). Use str or object to preserve and not interpret dtype.\n",
    "* `converters` : dict, default None. Dict of functions for converting values in certain columns. Keys can either be integers or column labels.\n",
    "* `true_values` : list, default None. Values to consider as True.\n",
    "* `false_values` : list, default None. Values to consider as False.\n",
    "* `parse_dates`\n",
    "\n",
    "However, these coversions will be perfomed afterwards (we can come back to these later maybe, but lets face the problem as we had no previous information about the data we will use."
   ]
  },
  {
   "cell_type": "raw",
   "metadata": {},
   "source": [
    "In case anyone ask, for large data sets: \n",
    "* iterator : boolean, default False\n",
    "    Return TextFileReader object for iteration or getting chunks with get_chunk().\n",
    "* chunksize : int, default None\n",
    "    Return TextFileReader object for iteration. See iterating and chunking below.\n",
    "    \n",
    "\n",
    "* compression : {'infer', 'gzip', 'bz2', None}, default 'infer'\n",
    "        For on-the-fly decompression of on-disk data. If ‘infer’, then use gzip or bz2 if filepath_or_buffer is a string ending in ‘.gz’ or ‘.bz2’, respectively, and no decompression otherwise. Set to None for no decompression."
   ]
  },
  {
   "cell_type": "markdown",
   "metadata": {},
   "source": [
    "##### A first glipse of the data "
   ]
  },
  {
   "cell_type": "code",
   "execution_count": 4,
   "metadata": {
    "collapsed": false
   },
   "outputs": [
    {
     "data": {
      "text/html": [
       "<div>\n",
       "<table border=\"1\" class=\"dataframe\">\n",
       "  <thead>\n",
       "    <tr style=\"text-align: right;\">\n",
       "      <th></th>\n",
       "      <th>ntsb_no</th>\n",
       "      <th>ev_type</th>\n",
       "      <th>ev_date</th>\n",
       "      <th>ev_dow</th>\n",
       "      <th>ev_time</th>\n",
       "      <th>ev_tmzn</th>\n",
       "      <th>ev_city</th>\n",
       "      <th>ev_state</th>\n",
       "      <th>ev_country</th>\n",
       "      <th>ev_site_zipcode</th>\n",
       "      <th>ev_year</th>\n",
       "      <th>ev_month</th>\n",
       "      <th>mid_air</th>\n",
       "      <th>on_ground_collision</th>\n",
       "      <th>latitude</th>\n",
       "      <th>longitude</th>\n",
       "      <th>latlong_acq</th>\n",
       "      <th>apt_name</th>\n",
       "      <th>ev_nr_apt_id</th>\n",
       "      <th>ev_nr_apt_loc</th>\n",
       "      <th>apt_dist</th>\n",
       "      <th>apt_dir</th>\n",
       "      <th>apt_elev</th>\n",
       "      <th>wx_brief_comp</th>\n",
       "      <th>wx_src_iic</th>\n",
       "      <th>wx_obs_time</th>\n",
       "      <th>wx_obs_dir</th>\n",
       "      <th>wx_obs_fac_id</th>\n",
       "      <th>wx_obs_elev</th>\n",
       "      <th>wx_obs_dist</th>\n",
       "      <th>wx_obs_tmzn</th>\n",
       "      <th>light_cond</th>\n",
       "      <th>sky_cond_nonceil</th>\n",
       "      <th>sky_nonceil_ht</th>\n",
       "      <th>sky_ceil_ht</th>\n",
       "      <th>sky_cond_ceil</th>\n",
       "      <th>vis_rvr</th>\n",
       "      <th>vis_rvv</th>\n",
       "      <th>vis_sm</th>\n",
       "      <th>wx_temp</th>\n",
       "      <th>wx_dew_pt</th>\n",
       "      <th>wind_dir_deg</th>\n",
       "      <th>wind_dir_ind</th>\n",
       "      <th>wind_vel_kts</th>\n",
       "      <th>wind_vel_ind</th>\n",
       "      <th>gust_ind</th>\n",
       "      <th>gust_kts</th>\n",
       "      <th>altimeter</th>\n",
       "      <th>wx_dens_alt</th>\n",
       "      <th>wx_int_precip</th>\n",
       "      <th>metar</th>\n",
       "      <th>ev_highest_injury</th>\n",
       "      <th>inj_f_grnd</th>\n",
       "      <th>inj_m_grnd</th>\n",
       "      <th>inj_s_grnd</th>\n",
       "      <th>inj_tot_f</th>\n",
       "      <th>inj_tot_m</th>\n",
       "      <th>inj_tot_n</th>\n",
       "      <th>inj_tot_s</th>\n",
       "      <th>inj_tot_t</th>\n",
       "      <th>invest_agy</th>\n",
       "      <th>ntsb_docket</th>\n",
       "      <th>ntsb_notf_from</th>\n",
       "      <th>ntsb_notf_date</th>\n",
       "      <th>ntsb_notf_tm</th>\n",
       "      <th>fiche_number</th>\n",
       "      <th>lchg_date</th>\n",
       "      <th>lchg_userid</th>\n",
       "      <th>wx_cond_basic</th>\n",
       "      <th>faa_dist_office</th>\n",
       "    </tr>\n",
       "    <tr>\n",
       "      <th>ev_id</th>\n",
       "      <th></th>\n",
       "      <th></th>\n",
       "      <th></th>\n",
       "      <th></th>\n",
       "      <th></th>\n",
       "      <th></th>\n",
       "      <th></th>\n",
       "      <th></th>\n",
       "      <th></th>\n",
       "      <th></th>\n",
       "      <th></th>\n",
       "      <th></th>\n",
       "      <th></th>\n",
       "      <th></th>\n",
       "      <th></th>\n",
       "      <th></th>\n",
       "      <th></th>\n",
       "      <th></th>\n",
       "      <th></th>\n",
       "      <th></th>\n",
       "      <th></th>\n",
       "      <th></th>\n",
       "      <th></th>\n",
       "      <th></th>\n",
       "      <th></th>\n",
       "      <th></th>\n",
       "      <th></th>\n",
       "      <th></th>\n",
       "      <th></th>\n",
       "      <th></th>\n",
       "      <th></th>\n",
       "      <th></th>\n",
       "      <th></th>\n",
       "      <th></th>\n",
       "      <th></th>\n",
       "      <th></th>\n",
       "      <th></th>\n",
       "      <th></th>\n",
       "      <th></th>\n",
       "      <th></th>\n",
       "      <th></th>\n",
       "      <th></th>\n",
       "      <th></th>\n",
       "      <th></th>\n",
       "      <th></th>\n",
       "      <th></th>\n",
       "      <th></th>\n",
       "      <th></th>\n",
       "      <th></th>\n",
       "      <th></th>\n",
       "      <th></th>\n",
       "      <th></th>\n",
       "      <th></th>\n",
       "      <th></th>\n",
       "      <th></th>\n",
       "      <th></th>\n",
       "      <th></th>\n",
       "      <th></th>\n",
       "      <th></th>\n",
       "      <th></th>\n",
       "      <th></th>\n",
       "      <th></th>\n",
       "      <th></th>\n",
       "      <th></th>\n",
       "      <th></th>\n",
       "      <th></th>\n",
       "      <th></th>\n",
       "      <th></th>\n",
       "      <th></th>\n",
       "      <th></th>\n",
       "    </tr>\n",
       "  </thead>\n",
       "  <tbody>\n",
       "    <tr>\n",
       "      <th>20001208X07734</th>\n",
       "      <td>LAX97FA143</td>\n",
       "      <td>ACC</td>\n",
       "      <td>04/02/1997 12:00:00 AM</td>\n",
       "      <td>WE</td>\n",
       "      <td>2016.0</td>\n",
       "      <td>MST</td>\n",
       "      <td>GRAND CANYON</td>\n",
       "      <td>AZ</td>\n",
       "      <td>USA</td>\n",
       "      <td>86023</td>\n",
       "      <td>1997.0</td>\n",
       "      <td>4</td>\n",
       "      <td>N</td>\n",
       "      <td>N</td>\n",
       "      <td></td>\n",
       "      <td></td>\n",
       "      <td>NaN</td>\n",
       "      <td></td>\n",
       "      <td></td>\n",
       "      <td>OFAP</td>\n",
       "      <td>NaN</td>\n",
       "      <td>NaN</td>\n",
       "      <td>NaN</td>\n",
       "      <td>PARP</td>\n",
       "      <td>WFAC</td>\n",
       "      <td>1954.0</td>\n",
       "      <td>180.0</td>\n",
       "      <td>GCN</td>\n",
       "      <td>6606.0</td>\n",
       "      <td>21.0</td>\n",
       "      <td>MST</td>\n",
       "      <td>NDRK</td>\n",
       "      <td>SCAT</td>\n",
       "      <td>3600.0</td>\n",
       "      <td>6000.0</td>\n",
       "      <td>BKN</td>\n",
       "      <td>0,00000000e+00</td>\n",
       "      <td>0.0</td>\n",
       "      <td>1,00000000e+01</td>\n",
       "      <td>-2.0</td>\n",
       "      <td>-3.0</td>\n",
       "      <td>0.0</td>\n",
       "      <td>U</td>\n",
       "      <td>0.0</td>\n",
       "      <td>CALM</td>\n",
       "      <td>N</td>\n",
       "      <td>0.0</td>\n",
       "      <td>2,90000000e+01</td>\n",
       "      <td>NaN</td>\n",
       "      <td>UNK</td>\n",
       "      <td>NaN</td>\n",
       "      <td>FATL</td>\n",
       "      <td>0.0</td>\n",
       "      <td>0.0</td>\n",
       "      <td>0.0</td>\n",
       "      <td>2.0</td>\n",
       "      <td>NaN</td>\n",
       "      <td>NaN</td>\n",
       "      <td>NaN</td>\n",
       "      <td>2.0</td>\n",
       "      <td>N</td>\n",
       "      <td>1890.0</td>\n",
       "      <td>NaN</td>\n",
       "      <td>04/02/1997 12:00:00 AM</td>\n",
       "      <td>1922.0</td>\n",
       "      <td>IMAGE</td>\n",
       "      <td>12/08/2000 12:13:19 PM</td>\n",
       "      <td>dbo</td>\n",
       "      <td>IMC</td>\n",
       "      <td>NaN</td>\n",
       "    </tr>\n",
       "    <tr>\n",
       "      <th>20021008X05297</th>\n",
       "      <td>CHI02LA299</td>\n",
       "      <td>ACC</td>\n",
       "      <td>09/29/2002 12:00:00 AM</td>\n",
       "      <td>Su</td>\n",
       "      <td>2100.0</td>\n",
       "      <td>CDT</td>\n",
       "      <td>Moorhead</td>\n",
       "      <td>MN</td>\n",
       "      <td>USA</td>\n",
       "      <td>56560</td>\n",
       "      <td>2002.0</td>\n",
       "      <td>9</td>\n",
       "      <td>N</td>\n",
       "      <td>N</td>\n",
       "      <td>465021N</td>\n",
       "      <td>0963947W</td>\n",
       "      <td>NaN</td>\n",
       "      <td>Moorhead Municipal</td>\n",
       "      <td>JKJ</td>\n",
       "      <td>ONAP</td>\n",
       "      <td>NaN</td>\n",
       "      <td>NaN</td>\n",
       "      <td>917.0</td>\n",
       "      <td>UNK</td>\n",
       "      <td>WFAC</td>\n",
       "      <td>2053.0</td>\n",
       "      <td>47.0</td>\n",
       "      <td>FAR</td>\n",
       "      <td>908.0</td>\n",
       "      <td>9.0</td>\n",
       "      <td>BST</td>\n",
       "      <td>NDRK</td>\n",
       "      <td>CLER</td>\n",
       "      <td>NaN</td>\n",
       "      <td>1300.0</td>\n",
       "      <td>OVC</td>\n",
       "      <td>NaN</td>\n",
       "      <td>NaN</td>\n",
       "      <td>7,00000000e+00</td>\n",
       "      <td>14.0</td>\n",
       "      <td>12.0</td>\n",
       "      <td>160.0</td>\n",
       "      <td>Y</td>\n",
       "      <td>13.0</td>\n",
       "      <td>SPEC</td>\n",
       "      <td>Y</td>\n",
       "      <td>0.0</td>\n",
       "      <td>2,97099991e+01</td>\n",
       "      <td>NaN</td>\n",
       "      <td>NaN</td>\n",
       "      <td>NaN</td>\n",
       "      <td>SERS</td>\n",
       "      <td>NaN</td>\n",
       "      <td>NaN</td>\n",
       "      <td>NaN</td>\n",
       "      <td>NaN</td>\n",
       "      <td>1.0</td>\n",
       "      <td>NaN</td>\n",
       "      <td>1.0</td>\n",
       "      <td>2.0</td>\n",
       "      <td>N</td>\n",
       "      <td>13246.0</td>\n",
       "      <td>FAA</td>\n",
       "      <td>10/03/2002 12:00:00 AM</td>\n",
       "      <td>945.0</td>\n",
       "      <td>DMS</td>\n",
       "      <td>04/23/2003 12:26:44 PM</td>\n",
       "      <td>NTSB\\\\MONR</td>\n",
       "      <td>VMC</td>\n",
       "      <td>Minneapolis FSDO</td>\n",
       "    </tr>\n",
       "    <tr>\n",
       "      <th>20040127X00111</th>\n",
       "      <td>LAX04LA103</td>\n",
       "      <td>ACC</td>\n",
       "      <td>10/12/2003 12:00:00 AM</td>\n",
       "      <td>Su</td>\n",
       "      <td>1640.0</td>\n",
       "      <td>MST</td>\n",
       "      <td>Scottsdale</td>\n",
       "      <td>AZ</td>\n",
       "      <td>USA</td>\n",
       "      <td>85255</td>\n",
       "      <td>2003.0</td>\n",
       "      <td>10</td>\n",
       "      <td>N</td>\n",
       "      <td>N</td>\n",
       "      <td>333722N</td>\n",
       "      <td>1115438W</td>\n",
       "      <td>NaN</td>\n",
       "      <td>Scottsdale</td>\n",
       "      <td>SDL</td>\n",
       "      <td>ONAP</td>\n",
       "      <td>NaN</td>\n",
       "      <td>NaN</td>\n",
       "      <td>1510.0</td>\n",
       "      <td>FULL</td>\n",
       "      <td>WFAC</td>\n",
       "      <td>1653.0</td>\n",
       "      <td>NaN</td>\n",
       "      <td>KSDL</td>\n",
       "      <td>1510.0</td>\n",
       "      <td>NaN</td>\n",
       "      <td>MST</td>\n",
       "      <td>DAYL</td>\n",
       "      <td>CLER</td>\n",
       "      <td>NaN</td>\n",
       "      <td>NaN</td>\n",
       "      <td>NONE</td>\n",
       "      <td>NaN</td>\n",
       "      <td>NaN</td>\n",
       "      <td>1,00000000e+01</td>\n",
       "      <td>33.0</td>\n",
       "      <td>12.0</td>\n",
       "      <td>NaN</td>\n",
       "      <td>NaN</td>\n",
       "      <td>NaN</td>\n",
       "      <td>CALM</td>\n",
       "      <td>N</td>\n",
       "      <td>NaN</td>\n",
       "      <td>2,98899994e+01</td>\n",
       "      <td>NaN</td>\n",
       "      <td>NaN</td>\n",
       "      <td>NaN</td>\n",
       "      <td>NONE</td>\n",
       "      <td>NaN</td>\n",
       "      <td>NaN</td>\n",
       "      <td>NaN</td>\n",
       "      <td>NaN</td>\n",
       "      <td>NaN</td>\n",
       "      <td>3.0</td>\n",
       "      <td>NaN</td>\n",
       "      <td>NaN</td>\n",
       "      <td>N</td>\n",
       "      <td>17586.0</td>\n",
       "      <td>FAA</td>\n",
       "      <td>01/22/2004 12:00:00 AM</td>\n",
       "      <td>1215.0</td>\n",
       "      <td>DMS</td>\n",
       "      <td>04/28/2005 02:59:26 PM</td>\n",
       "      <td>NTSB\\\\JOHB</td>\n",
       "      <td>VMC</td>\n",
       "      <td>WP-SDL-FSDO</td>\n",
       "    </tr>\n",
       "    <tr>\n",
       "      <th>20001213X34369</th>\n",
       "      <td>ANC86LA135</td>\n",
       "      <td>ACC</td>\n",
       "      <td>08/23/1986 12:00:00 AM</td>\n",
       "      <td>SA</td>\n",
       "      <td>1100.0</td>\n",
       "      <td>AKD</td>\n",
       "      <td>TALKEETNA</td>\n",
       "      <td>AK</td>\n",
       "      <td>USA</td>\n",
       "      <td>99676</td>\n",
       "      <td>1986.0</td>\n",
       "      <td>8</td>\n",
       "      <td>N</td>\n",
       "      <td>N</td>\n",
       "      <td></td>\n",
       "      <td></td>\n",
       "      <td>NaN</td>\n",
       "      <td></td>\n",
       "      <td></td>\n",
       "      <td>OFAP</td>\n",
       "      <td>0,00000000e+00</td>\n",
       "      <td>0.0</td>\n",
       "      <td>0.0</td>\n",
       "      <td>UNK</td>\n",
       "      <td>PILO</td>\n",
       "      <td>0.0</td>\n",
       "      <td>0.0</td>\n",
       "      <td></td>\n",
       "      <td>0.0</td>\n",
       "      <td>0.0</td>\n",
       "      <td></td>\n",
       "      <td>DAYL</td>\n",
       "      <td>CLER</td>\n",
       "      <td>0.0</td>\n",
       "      <td>0.0</td>\n",
       "      <td>NONE</td>\n",
       "      <td>0,00000000e+00</td>\n",
       "      <td>0.0</td>\n",
       "      <td>5,00000000e+01</td>\n",
       "      <td>10.0</td>\n",
       "      <td>-18.0</td>\n",
       "      <td>0.0</td>\n",
       "      <td>U</td>\n",
       "      <td>0.0</td>\n",
       "      <td>UNK</td>\n",
       "      <td>U</td>\n",
       "      <td>0.0</td>\n",
       "      <td>NaN</td>\n",
       "      <td>NaN</td>\n",
       "      <td>UNK</td>\n",
       "      <td>NaN</td>\n",
       "      <td>NONE</td>\n",
       "      <td>0.0</td>\n",
       "      <td>0.0</td>\n",
       "      <td>0.0</td>\n",
       "      <td>NaN</td>\n",
       "      <td>NaN</td>\n",
       "      <td>3.0</td>\n",
       "      <td>NaN</td>\n",
       "      <td>NaN</td>\n",
       "      <td>N</td>\n",
       "      <td>891.0</td>\n",
       "      <td>NaN</td>\n",
       "      <td>08/23/1986 12:00:00 AM</td>\n",
       "      <td>1430.0</td>\n",
       "      <td>31238</td>\n",
       "      <td>01/02/2001 09:14:50 AM</td>\n",
       "      <td>dbo</td>\n",
       "      <td>VMC</td>\n",
       "      <td>NaN</td>\n",
       "    </tr>\n",
       "    <tr>\n",
       "      <th>20001213X35290</th>\n",
       "      <td>ANC87LA019</td>\n",
       "      <td>ACC</td>\n",
       "      <td>12/07/1986 12:00:00 AM</td>\n",
       "      <td>SU</td>\n",
       "      <td>1256.0</td>\n",
       "      <td>AST</td>\n",
       "      <td>SHAGELUK</td>\n",
       "      <td>AK</td>\n",
       "      <td>USA</td>\n",
       "      <td>99665</td>\n",
       "      <td>1986.0</td>\n",
       "      <td>12</td>\n",
       "      <td>N</td>\n",
       "      <td>N</td>\n",
       "      <td></td>\n",
       "      <td></td>\n",
       "      <td>NaN</td>\n",
       "      <td></td>\n",
       "      <td>1</td>\n",
       "      <td>OFAP</td>\n",
       "      <td>0,00000000e+00</td>\n",
       "      <td>0.0</td>\n",
       "      <td>0.0</td>\n",
       "      <td>UNK</td>\n",
       "      <td>PILO</td>\n",
       "      <td>0.0</td>\n",
       "      <td>0.0</td>\n",
       "      <td></td>\n",
       "      <td>0.0</td>\n",
       "      <td>0.0</td>\n",
       "      <td></td>\n",
       "      <td>DAYL</td>\n",
       "      <td>SCAT</td>\n",
       "      <td>1500.0</td>\n",
       "      <td>0.0</td>\n",
       "      <td>NONE</td>\n",
       "      <td>0,00000000e+00</td>\n",
       "      <td>0.0</td>\n",
       "      <td>4,00000000e+01</td>\n",
       "      <td>-1.0</td>\n",
       "      <td>-1.0</td>\n",
       "      <td>0.0</td>\n",
       "      <td>U</td>\n",
       "      <td>0.0</td>\n",
       "      <td>CALM</td>\n",
       "      <td>N</td>\n",
       "      <td>0.0</td>\n",
       "      <td>2,90000000e+01</td>\n",
       "      <td>NaN</td>\n",
       "      <td>LGT</td>\n",
       "      <td>NaN</td>\n",
       "      <td>NONE</td>\n",
       "      <td>0.0</td>\n",
       "      <td>0.0</td>\n",
       "      <td>0.0</td>\n",
       "      <td>NaN</td>\n",
       "      <td>NaN</td>\n",
       "      <td>1.0</td>\n",
       "      <td>NaN</td>\n",
       "      <td>NaN</td>\n",
       "      <td>N</td>\n",
       "      <td>1400.0</td>\n",
       "      <td>NaN</td>\n",
       "      <td>12/07/1986 12:00:00 AM</td>\n",
       "      <td>1300.0</td>\n",
       "      <td>31791</td>\n",
       "      <td>01/02/2001 09:14:55 AM</td>\n",
       "      <td>dbo</td>\n",
       "      <td>VMC</td>\n",
       "      <td>NaN</td>\n",
       "    </tr>\n",
       "  </tbody>\n",
       "</table>\n",
       "</div>"
      ],
      "text/plain": [
       "                   ntsb_no ev_type                 ev_date ev_dow  ev_time  \\\n",
       "ev_id                                                                        \n",
       "20001208X07734  LAX97FA143     ACC  04/02/1997 12:00:00 AM     WE   2016.0   \n",
       "20021008X05297  CHI02LA299     ACC  09/29/2002 12:00:00 AM     Su   2100.0   \n",
       "20040127X00111  LAX04LA103     ACC  10/12/2003 12:00:00 AM     Su   1640.0   \n",
       "20001213X34369  ANC86LA135     ACC  08/23/1986 12:00:00 AM     SA   1100.0   \n",
       "20001213X35290  ANC87LA019     ACC  12/07/1986 12:00:00 AM     SU   1256.0   \n",
       "\n",
       "               ev_tmzn          ev_city ev_state ev_country ev_site_zipcode  \\\n",
       "ev_id                                                                         \n",
       "20001208X07734     MST  GRAND CANYON          AZ        USA       86023       \n",
       "20021008X05297     CDT         Moorhead       MN        USA           56560   \n",
       "20040127X00111     MST       Scottsdale       AZ        USA           85255   \n",
       "20001213X34369     AKD  TALKEETNA             AK        USA       99676       \n",
       "20001213X35290     AST  SHAGELUK              AK        USA       99665       \n",
       "\n",
       "                ev_year ev_month mid_air on_ground_collision latitude  \\\n",
       "ev_id                                                                   \n",
       "20001208X07734   1997.0        4       N                   N            \n",
       "20021008X05297   2002.0        9       N                   N  465021N   \n",
       "20040127X00111   2003.0       10       N                   N  333722N   \n",
       "20001213X34369   1986.0        8       N                   N            \n",
       "20001213X35290   1986.0       12       N                   N            \n",
       "\n",
       "               longitude latlong_acq                   apt_name ev_nr_apt_id  \\\n",
       "ev_id                                                                          \n",
       "20001208X07734                   NaN                                           \n",
       "20021008X05297  0963947W         NaN         Moorhead Municipal          JKJ   \n",
       "20040127X00111  1115438W         NaN                 Scottsdale          SDL   \n",
       "20001213X34369                   NaN                                           \n",
       "20001213X35290                   NaN                                    1      \n",
       "\n",
       "               ev_nr_apt_loc        apt_dist  apt_dir  apt_elev wx_brief_comp  \\\n",
       "ev_id                                                                           \n",
       "20001208X07734          OFAP             NaN      NaN       NaN          PARP   \n",
       "20021008X05297          ONAP             NaN      NaN     917.0           UNK   \n",
       "20040127X00111          ONAP             NaN      NaN    1510.0          FULL   \n",
       "20001213X34369          OFAP  0,00000000e+00      0.0       0.0           UNK   \n",
       "20001213X35290          OFAP  0,00000000e+00      0.0       0.0           UNK   \n",
       "\n",
       "               wx_src_iic  wx_obs_time  wx_obs_dir wx_obs_fac_id  wx_obs_elev  \\\n",
       "ev_id                                                                           \n",
       "20001208X07734       WFAC       1954.0       180.0          GCN        6606.0   \n",
       "20021008X05297       WFAC       2053.0        47.0           FAR        908.0   \n",
       "20040127X00111       WFAC       1653.0         NaN          KSDL       1510.0   \n",
       "20001213X34369       PILO          0.0         0.0                        0.0   \n",
       "20001213X35290       PILO          0.0         0.0                        0.0   \n",
       "\n",
       "                wx_obs_dist wx_obs_tmzn light_cond sky_cond_nonceil  \\\n",
       "ev_id                                                                 \n",
       "20001208X07734         21.0         MST       NDRK             SCAT   \n",
       "20021008X05297          9.0         BST       NDRK             CLER   \n",
       "20040127X00111          NaN         MST       DAYL             CLER   \n",
       "20001213X34369          0.0                   DAYL             CLER   \n",
       "20001213X35290          0.0                   DAYL             SCAT   \n",
       "\n",
       "                sky_nonceil_ht  sky_ceil_ht sky_cond_ceil         vis_rvr  \\\n",
       "ev_id                                                                       \n",
       "20001208X07734          3600.0       6000.0           BKN  0,00000000e+00   \n",
       "20021008X05297             NaN       1300.0           OVC             NaN   \n",
       "20040127X00111             NaN          NaN          NONE             NaN   \n",
       "20001213X34369             0.0          0.0          NONE  0,00000000e+00   \n",
       "20001213X35290          1500.0          0.0          NONE  0,00000000e+00   \n",
       "\n",
       "                vis_rvv          vis_sm  wx_temp  wx_dew_pt  wind_dir_deg  \\\n",
       "ev_id                                                                       \n",
       "20001208X07734      0.0  1,00000000e+01     -2.0       -3.0           0.0   \n",
       "20021008X05297      NaN  7,00000000e+00     14.0       12.0         160.0   \n",
       "20040127X00111      NaN  1,00000000e+01     33.0       12.0           NaN   \n",
       "20001213X34369      0.0  5,00000000e+01     10.0      -18.0           0.0   \n",
       "20001213X35290      0.0  4,00000000e+01     -1.0       -1.0           0.0   \n",
       "\n",
       "               wind_dir_ind  wind_vel_kts wind_vel_ind gust_ind  gust_kts  \\\n",
       "ev_id                                                                       \n",
       "20001208X07734            U           0.0         CALM        N       0.0   \n",
       "20021008X05297            Y          13.0         SPEC        Y       0.0   \n",
       "20040127X00111          NaN           NaN         CALM        N       NaN   \n",
       "20001213X34369            U           0.0          UNK        U       0.0   \n",
       "20001213X35290            U           0.0         CALM        N       0.0   \n",
       "\n",
       "                     altimeter  wx_dens_alt wx_int_precip metar  \\\n",
       "ev_id                                                             \n",
       "20001208X07734  2,90000000e+01          NaN           UNK   NaN   \n",
       "20021008X05297  2,97099991e+01          NaN           NaN   NaN   \n",
       "20040127X00111  2,98899994e+01          NaN           NaN   NaN   \n",
       "20001213X34369             NaN          NaN           UNK   NaN   \n",
       "20001213X35290  2,90000000e+01          NaN           LGT   NaN   \n",
       "\n",
       "               ev_highest_injury  inj_f_grnd  inj_m_grnd  inj_s_grnd  \\\n",
       "ev_id                                                                  \n",
       "20001208X07734              FATL         0.0         0.0         0.0   \n",
       "20021008X05297              SERS         NaN         NaN         NaN   \n",
       "20040127X00111              NONE         NaN         NaN         NaN   \n",
       "20001213X34369              NONE         0.0         0.0         0.0   \n",
       "20001213X35290              NONE         0.0         0.0         0.0   \n",
       "\n",
       "                inj_tot_f  inj_tot_m  inj_tot_n  inj_tot_s  inj_tot_t  \\\n",
       "ev_id                                                                   \n",
       "20001208X07734        2.0        NaN        NaN        NaN        2.0   \n",
       "20021008X05297        NaN        1.0        NaN        1.0        2.0   \n",
       "20040127X00111        NaN        NaN        3.0        NaN        NaN   \n",
       "20001213X34369        NaN        NaN        3.0        NaN        NaN   \n",
       "20001213X35290        NaN        NaN        1.0        NaN        NaN   \n",
       "\n",
       "               invest_agy  ntsb_docket                  ntsb_notf_from  \\\n",
       "ev_id                                                                    \n",
       "20001208X07734          N       1890.0                             NaN   \n",
       "20021008X05297          N      13246.0  FAA                              \n",
       "20040127X00111          N      17586.0  FAA                              \n",
       "20001213X34369          N        891.0                             NaN   \n",
       "20001213X35290          N       1400.0                             NaN   \n",
       "\n",
       "                        ntsb_notf_date  ntsb_notf_tm fiche_number  \\\n",
       "ev_id                                                               \n",
       "20001208X07734  04/02/1997 12:00:00 AM        1922.0        IMAGE   \n",
       "20021008X05297  10/03/2002 12:00:00 AM         945.0          DMS   \n",
       "20040127X00111  01/22/2004 12:00:00 AM        1215.0          DMS   \n",
       "20001213X34369  08/23/1986 12:00:00 AM        1430.0        31238   \n",
       "20001213X35290  12/07/1986 12:00:00 AM        1300.0        31791   \n",
       "\n",
       "                             lchg_date          lchg_userid wx_cond_basic  \\\n",
       "ev_id                                                                       \n",
       "20001208X07734  12/08/2000 12:13:19 PM   dbo                          IMC   \n",
       "20021008X05297  04/23/2003 12:26:44 PM  NTSB\\\\MONR                    VMC   \n",
       "20040127X00111  04/28/2005 02:59:26 PM  NTSB\\\\JOHB                    VMC   \n",
       "20001213X34369  01/02/2001 09:14:50 AM   dbo                          VMC   \n",
       "20001213X35290  01/02/2001 09:14:55 AM   dbo                          VMC   \n",
       "\n",
       "                 faa_dist_office  \n",
       "ev_id                             \n",
       "20001208X07734               NaN  \n",
       "20021008X05297  Minneapolis FSDO  \n",
       "20040127X00111       WP-SDL-FSDO  \n",
       "20001213X34369               NaN  \n",
       "20001213X35290               NaN  "
      ]
     },
     "execution_count": 4,
     "metadata": {},
     "output_type": "execute_result"
    }
   ],
   "source": [
    "events.head(5)\n",
    "# there is an extra row for ev_id with no data because we have used index_col=0 as an argument in the function read_csv()"
   ]
  },
  {
   "cell_type": "code",
   "execution_count": 5,
   "metadata": {
    "collapsed": false
   },
   "outputs": [
    {
     "data": {
      "text/plain": [
       "Index(['ntsb_no', 'ev_type', 'ev_date', 'ev_dow', 'ev_time', 'ev_tmzn',\n",
       "       'ev_city', 'ev_state', 'ev_country', 'ev_site_zipcode', 'ev_year',\n",
       "       'ev_month', 'mid_air', 'on_ground_collision', 'latitude', 'longitude',\n",
       "       'latlong_acq', 'apt_name', 'ev_nr_apt_id', 'ev_nr_apt_loc', 'apt_dist',\n",
       "       'apt_dir', 'apt_elev', 'wx_brief_comp', 'wx_src_iic', 'wx_obs_time',\n",
       "       'wx_obs_dir', 'wx_obs_fac_id', 'wx_obs_elev', 'wx_obs_dist',\n",
       "       'wx_obs_tmzn', 'light_cond', 'sky_cond_nonceil', 'sky_nonceil_ht',\n",
       "       'sky_ceil_ht', 'sky_cond_ceil', 'vis_rvr', 'vis_rvv', 'vis_sm',\n",
       "       'wx_temp', 'wx_dew_pt', 'wind_dir_deg', 'wind_dir_ind', 'wind_vel_kts',\n",
       "       'wind_vel_ind', 'gust_ind', 'gust_kts', 'altimeter', 'wx_dens_alt',\n",
       "       'wx_int_precip', 'metar', 'ev_highest_injury', 'inj_f_grnd',\n",
       "       'inj_m_grnd', 'inj_s_grnd', 'inj_tot_f', 'inj_tot_m', 'inj_tot_n',\n",
       "       'inj_tot_s', 'inj_tot_t', 'invest_agy', 'ntsb_docket', 'ntsb_notf_from',\n",
       "       'ntsb_notf_date', 'ntsb_notf_tm', 'fiche_number', 'lchg_date',\n",
       "       'lchg_userid', 'wx_cond_basic', 'faa_dist_office'],\n",
       "      dtype='object')"
      ]
     },
     "execution_count": 5,
     "metadata": {},
     "output_type": "execute_result"
    }
   ],
   "source": [
    "events.columns"
   ]
  },
  {
   "cell_type": "code",
   "execution_count": 6,
   "metadata": {
    "collapsed": false
   },
   "outputs": [],
   "source": [
    "# Why should we change the column names?\n",
    "# Moreover, names with capitals and spaces make it more complicated for us\n",
    "# to select the column (ie. `events.ev_dow` is valid and `events.Event day of the week` is not)\n",
    "\n",
    "#events = events.rename(columns = {'ev_dow':'Event day of the week','light_cond':'Light Conditions','wind_vel_kts':'Wind Speed(knots)',\n",
    "#                       'metar':'METAR Weather Report','vis_rvr':'Visibility Runway Visual Range (Feet)',\n",
    "#                        'vis_rvv':'Visibility Runway Visual Value (Statute Miles)','vis_sm':'Visibility (Statute Miles)',\n",
    "#                        'wx_cond_basic':'Basic Weather Conditions'})"
   ]
  },
  {
   "cell_type": "raw",
   "metadata": {},
   "source": [
    "Maybe once we have shown the complete dataframe, we could reload the data from events with less columns... \n",
    "I agree, here the function drop_duplicates() can be useful."
   ]
  },
  {
   "cell_type": "code",
   "execution_count": 7,
   "metadata": {
    "collapsed": false
   },
   "outputs": [
    {
     "data": {
      "text/plain": [
       "ntsb_no                 object\n",
       "ev_type                 object\n",
       "ev_date                 object\n",
       "ev_dow                  object\n",
       "ev_time                float64\n",
       "ev_tmzn                 object\n",
       "ev_city                 object\n",
       "ev_state                object\n",
       "ev_country              object\n",
       "ev_site_zipcode         object\n",
       "ev_year                float64\n",
       "ev_month                object\n",
       "mid_air                 object\n",
       "on_ground_collision     object\n",
       "latitude                object\n",
       "longitude               object\n",
       "latlong_acq             object\n",
       "apt_name                object\n",
       "ev_nr_apt_id            object\n",
       "ev_nr_apt_loc           object\n",
       "apt_dist                object\n",
       "apt_dir                float64\n",
       "apt_elev               float64\n",
       "wx_brief_comp           object\n",
       "wx_src_iic              object\n",
       "                        ...   \n",
       "gust_ind                object\n",
       "gust_kts               float64\n",
       "altimeter               object\n",
       "wx_dens_alt            float64\n",
       "wx_int_precip           object\n",
       "metar                   object\n",
       "ev_highest_injury       object\n",
       "inj_f_grnd             float64\n",
       "inj_m_grnd             float64\n",
       "inj_s_grnd             float64\n",
       "inj_tot_f              float64\n",
       "inj_tot_m              float64\n",
       "inj_tot_n              float64\n",
       "inj_tot_s              float64\n",
       "inj_tot_t              float64\n",
       "invest_agy              object\n",
       "ntsb_docket            float64\n",
       "ntsb_notf_from          object\n",
       "ntsb_notf_date          object\n",
       "ntsb_notf_tm           float64\n",
       "fiche_number            object\n",
       "lchg_date               object\n",
       "lchg_userid             object\n",
       "wx_cond_basic           object\n",
       "faa_dist_office         object\n",
       "dtype: object"
      ]
     },
     "execution_count": 7,
     "metadata": {},
     "output_type": "execute_result"
    }
   ],
   "source": [
    "events.dtypes"
   ]
  },
  {
   "cell_type": "code",
   "execution_count": 8,
   "metadata": {
    "collapsed": false
   },
   "outputs": [
    {
     "data": {
      "text/html": [
       "<div>\n",
       "<table border=\"1\" class=\"dataframe\">\n",
       "  <thead>\n",
       "    <tr style=\"text-align: right;\">\n",
       "      <th></th>\n",
       "      <th>ev_time</th>\n",
       "      <th>ev_year</th>\n",
       "      <th>apt_dir</th>\n",
       "      <th>apt_elev</th>\n",
       "      <th>wx_obs_time</th>\n",
       "      <th>wx_obs_dir</th>\n",
       "      <th>wx_obs_elev</th>\n",
       "      <th>wx_obs_dist</th>\n",
       "      <th>sky_nonceil_ht</th>\n",
       "      <th>sky_ceil_ht</th>\n",
       "      <th>vis_rvv</th>\n",
       "      <th>wx_temp</th>\n",
       "      <th>wx_dew_pt</th>\n",
       "      <th>wind_dir_deg</th>\n",
       "      <th>wind_vel_kts</th>\n",
       "      <th>gust_kts</th>\n",
       "      <th>wx_dens_alt</th>\n",
       "      <th>inj_f_grnd</th>\n",
       "      <th>inj_m_grnd</th>\n",
       "      <th>inj_s_grnd</th>\n",
       "      <th>inj_tot_f</th>\n",
       "      <th>inj_tot_m</th>\n",
       "      <th>inj_tot_n</th>\n",
       "      <th>inj_tot_s</th>\n",
       "      <th>inj_tot_t</th>\n",
       "      <th>ntsb_docket</th>\n",
       "      <th>ntsb_notf_tm</th>\n",
       "    </tr>\n",
       "  </thead>\n",
       "  <tbody>\n",
       "    <tr>\n",
       "      <th>count</th>\n",
       "      <td>76535.000000</td>\n",
       "      <td>76848.000000</td>\n",
       "      <td>37020.000000</td>\n",
       "      <td>48146.000000</td>\n",
       "      <td>69909.000000</td>\n",
       "      <td>63990.000000</td>\n",
       "      <td>67552.000000</td>\n",
       "      <td>65299.000000</td>\n",
       "      <td>56454.000000</td>\n",
       "      <td>55382.000000</td>\n",
       "      <td>48754.000000</td>\n",
       "      <td>67043.000000</td>\n",
       "      <td>55773.000000</td>\n",
       "      <td>67986.000000</td>\n",
       "      <td>69080.000000</td>\n",
       "      <td>53729.000000</td>\n",
       "      <td>20314.000000</td>\n",
       "      <td>49522.000000</td>\n",
       "      <td>49526.000000</td>\n",
       "      <td>49513.000000</td>\n",
       "      <td>15253.000000</td>\n",
       "      <td>14347.000000</td>\n",
       "      <td>46273.000000</td>\n",
       "      <td>10793.000000</td>\n",
       "      <td>35217.000000</td>\n",
       "      <td>72695.000000</td>\n",
       "      <td>56995.000000</td>\n",
       "    </tr>\n",
       "    <tr>\n",
       "      <th>mean</th>\n",
       "      <td>1373.671196</td>\n",
       "      <td>1996.920427</td>\n",
       "      <td>49.827769</td>\n",
       "      <td>1055.010344</td>\n",
       "      <td>999.464661</td>\n",
       "      <td>103.528911</td>\n",
       "      <td>866.237728</td>\n",
       "      <td>11.339745</td>\n",
       "      <td>3255.918819</td>\n",
       "      <td>2930.506861</td>\n",
       "      <td>0.146039</td>\n",
       "      <td>19.850603</td>\n",
       "      <td>6.877970</td>\n",
       "      <td>161.884167</td>\n",
       "      <td>7.257426</td>\n",
       "      <td>3.650245</td>\n",
       "      <td>1772.910357</td>\n",
       "      <td>0.010157</td>\n",
       "      <td>0.013064</td>\n",
       "      <td>0.011209</td>\n",
       "      <td>2.813545</td>\n",
       "      <td>1.866732</td>\n",
       "      <td>7.574676</td>\n",
       "      <td>1.543037</td>\n",
       "      <td>2.451969</td>\n",
       "      <td>8586.409781</td>\n",
       "      <td>1043.181577</td>\n",
       "    </tr>\n",
       "    <tr>\n",
       "      <th>std</th>\n",
       "      <td>434.386422</td>\n",
       "      <td>101.770110</td>\n",
       "      <td>100.047186</td>\n",
       "      <td>1655.995540</td>\n",
       "      <td>720.507141</td>\n",
       "      <td>122.243560</td>\n",
       "      <td>3746.138486</td>\n",
       "      <td>30.473635</td>\n",
       "      <td>6264.894555</td>\n",
       "      <td>6349.779335</td>\n",
       "      <td>22.881972</td>\n",
       "      <td>17.341558</td>\n",
       "      <td>15.660181</td>\n",
       "      <td>117.043219</td>\n",
       "      <td>5.951389</td>\n",
       "      <td>10.485619</td>\n",
       "      <td>2706.629533</td>\n",
       "      <td>0.353946</td>\n",
       "      <td>0.393807</td>\n",
       "      <td>0.518030</td>\n",
       "      <td>11.025730</td>\n",
       "      <td>5.172820</td>\n",
       "      <td>31.982420</td>\n",
       "      <td>2.722736</td>\n",
       "      <td>8.733082</td>\n",
       "      <td>10805.425263</td>\n",
       "      <td>718.420703</td>\n",
       "    </tr>\n",
       "    <tr>\n",
       "      <th>min</th>\n",
       "      <td>0.000000</td>\n",
       "      <td>1948.000000</td>\n",
       "      <td>0.000000</td>\n",
       "      <td>-210.000000</td>\n",
       "      <td>0.000000</td>\n",
       "      <td>0.000000</td>\n",
       "      <td>-115.000000</td>\n",
       "      <td>0.000000</td>\n",
       "      <td>0.000000</td>\n",
       "      <td>0.000000</td>\n",
       "      <td>0.000000</td>\n",
       "      <td>-62.000000</td>\n",
       "      <td>-38.000000</td>\n",
       "      <td>0.000000</td>\n",
       "      <td>0.000000</td>\n",
       "      <td>0.000000</td>\n",
       "      <td>-30536.000000</td>\n",
       "      <td>0.000000</td>\n",
       "      <td>0.000000</td>\n",
       "      <td>0.000000</td>\n",
       "      <td>1.000000</td>\n",
       "      <td>1.000000</td>\n",
       "      <td>1.000000</td>\n",
       "      <td>1.000000</td>\n",
       "      <td>1.000000</td>\n",
       "      <td>0.000000</td>\n",
       "      <td>0.000000</td>\n",
       "    </tr>\n",
       "    <tr>\n",
       "      <th>25%</th>\n",
       "      <td>1100.000000</td>\n",
       "      <td>1988.000000</td>\n",
       "      <td>0.000000</td>\n",
       "      <td>20.000000</td>\n",
       "      <td>0.000000</td>\n",
       "      <td>0.000000</td>\n",
       "      <td>0.000000</td>\n",
       "      <td>0.000000</td>\n",
       "      <td>0.000000</td>\n",
       "      <td>0.000000</td>\n",
       "      <td>0.000000</td>\n",
       "      <td>12.000000</td>\n",
       "      <td>0.000000</td>\n",
       "      <td>45.000000</td>\n",
       "      <td>4.000000</td>\n",
       "      <td>0.000000</td>\n",
       "      <td>0.000000</td>\n",
       "      <td>0.000000</td>\n",
       "      <td>0.000000</td>\n",
       "      <td>0.000000</td>\n",
       "      <td>1.000000</td>\n",
       "      <td>1.000000</td>\n",
       "      <td>1.000000</td>\n",
       "      <td>1.000000</td>\n",
       "      <td>1.000000</td>\n",
       "      <td>945.000000</td>\n",
       "      <td>1.000000</td>\n",
       "    </tr>\n",
       "    <tr>\n",
       "      <th>50%</th>\n",
       "      <td>1400.000000</td>\n",
       "      <td>1996.000000</td>\n",
       "      <td>0.000000</td>\n",
       "      <td>434.000000</td>\n",
       "      <td>1153.000000</td>\n",
       "      <td>40.000000</td>\n",
       "      <td>128.000000</td>\n",
       "      <td>1.000000</td>\n",
       "      <td>0.000000</td>\n",
       "      <td>0.000000</td>\n",
       "      <td>0.000000</td>\n",
       "      <td>21.000000</td>\n",
       "      <td>8.000000</td>\n",
       "      <td>170.000000</td>\n",
       "      <td>7.000000</td>\n",
       "      <td>0.000000</td>\n",
       "      <td>500.000000</td>\n",
       "      <td>0.000000</td>\n",
       "      <td>0.000000</td>\n",
       "      <td>0.000000</td>\n",
       "      <td>2.000000</td>\n",
       "      <td>1.000000</td>\n",
       "      <td>2.000000</td>\n",
       "      <td>1.000000</td>\n",
       "      <td>1.000000</td>\n",
       "      <td>2005.000000</td>\n",
       "      <td>1200.000000</td>\n",
       "    </tr>\n",
       "    <tr>\n",
       "      <th>75%</th>\n",
       "      <td>1700.000000</td>\n",
       "      <td>2005.000000</td>\n",
       "      <td>20.000000</td>\n",
       "      <td>1071.000000</td>\n",
       "      <td>1553.000000</td>\n",
       "      <td>200.000000</td>\n",
       "      <td>845.000000</td>\n",
       "      <td>16.000000</td>\n",
       "      <td>4000.000000</td>\n",
       "      <td>2700.000000</td>\n",
       "      <td>0.000000</td>\n",
       "      <td>27.000000</td>\n",
       "      <td>16.000000</td>\n",
       "      <td>260.000000</td>\n",
       "      <td>10.000000</td>\n",
       "      <td>0.000000</td>\n",
       "      <td>2370.750000</td>\n",
       "      <td>0.000000</td>\n",
       "      <td>0.000000</td>\n",
       "      <td>0.000000</td>\n",
       "      <td>2.000000</td>\n",
       "      <td>2.000000</td>\n",
       "      <td>2.000000</td>\n",
       "      <td>2.000000</td>\n",
       "      <td>2.000000</td>\n",
       "      <td>16468.500000</td>\n",
       "      <td>1600.000000</td>\n",
       "    </tr>\n",
       "    <tr>\n",
       "      <th>max</th>\n",
       "      <td>2400.000000</td>\n",
       "      <td>26733.000000</td>\n",
       "      <td>979.000000</td>\n",
       "      <td>13250.000000</td>\n",
       "      <td>2400.000000</td>\n",
       "      <td>360.000000</td>\n",
       "      <td>751635.000000</td>\n",
       "      <td>1526.000000</td>\n",
       "      <td>250000.000000</td>\n",
       "      <td>250000.000000</td>\n",
       "      <td>4444.000000</td>\n",
       "      <td>1652.000000</td>\n",
       "      <td>1646.000000</td>\n",
       "      <td>999.000000</td>\n",
       "      <td>210.000000</td>\n",
       "      <td>999.000000</td>\n",
       "      <td>26858.000000</td>\n",
       "      <td>44.000000</td>\n",
       "      <td>62.000000</td>\n",
       "      <td>71.000000</td>\n",
       "      <td>349.000000</td>\n",
       "      <td>380.000000</td>\n",
       "      <td>699.000000</td>\n",
       "      <td>111.000000</td>\n",
       "      <td>380.000000</td>\n",
       "      <td>34935.000000</td>\n",
       "      <td>2400.000000</td>\n",
       "    </tr>\n",
       "  </tbody>\n",
       "</table>\n",
       "</div>"
      ],
      "text/plain": [
       "            ev_time       ev_year       apt_dir      apt_elev   wx_obs_time  \\\n",
       "count  76535.000000  76848.000000  37020.000000  48146.000000  69909.000000   \n",
       "mean    1373.671196   1996.920427     49.827769   1055.010344    999.464661   \n",
       "std      434.386422    101.770110    100.047186   1655.995540    720.507141   \n",
       "min        0.000000   1948.000000      0.000000   -210.000000      0.000000   \n",
       "25%     1100.000000   1988.000000      0.000000     20.000000      0.000000   \n",
       "50%     1400.000000   1996.000000      0.000000    434.000000   1153.000000   \n",
       "75%     1700.000000   2005.000000     20.000000   1071.000000   1553.000000   \n",
       "max     2400.000000  26733.000000    979.000000  13250.000000   2400.000000   \n",
       "\n",
       "         wx_obs_dir    wx_obs_elev   wx_obs_dist  sky_nonceil_ht  \\\n",
       "count  63990.000000   67552.000000  65299.000000    56454.000000   \n",
       "mean     103.528911     866.237728     11.339745     3255.918819   \n",
       "std      122.243560    3746.138486     30.473635     6264.894555   \n",
       "min        0.000000    -115.000000      0.000000        0.000000   \n",
       "25%        0.000000       0.000000      0.000000        0.000000   \n",
       "50%       40.000000     128.000000      1.000000        0.000000   \n",
       "75%      200.000000     845.000000     16.000000     4000.000000   \n",
       "max      360.000000  751635.000000   1526.000000   250000.000000   \n",
       "\n",
       "         sky_ceil_ht       vis_rvv       wx_temp     wx_dew_pt  wind_dir_deg  \\\n",
       "count   55382.000000  48754.000000  67043.000000  55773.000000  67986.000000   \n",
       "mean     2930.506861      0.146039     19.850603      6.877970    161.884167   \n",
       "std      6349.779335     22.881972     17.341558     15.660181    117.043219   \n",
       "min         0.000000      0.000000    -62.000000    -38.000000      0.000000   \n",
       "25%         0.000000      0.000000     12.000000      0.000000     45.000000   \n",
       "50%         0.000000      0.000000     21.000000      8.000000    170.000000   \n",
       "75%      2700.000000      0.000000     27.000000     16.000000    260.000000   \n",
       "max    250000.000000   4444.000000   1652.000000   1646.000000    999.000000   \n",
       "\n",
       "       wind_vel_kts      gust_kts   wx_dens_alt    inj_f_grnd    inj_m_grnd  \\\n",
       "count  69080.000000  53729.000000  20314.000000  49522.000000  49526.000000   \n",
       "mean       7.257426      3.650245   1772.910357      0.010157      0.013064   \n",
       "std        5.951389     10.485619   2706.629533      0.353946      0.393807   \n",
       "min        0.000000      0.000000 -30536.000000      0.000000      0.000000   \n",
       "25%        4.000000      0.000000      0.000000      0.000000      0.000000   \n",
       "50%        7.000000      0.000000    500.000000      0.000000      0.000000   \n",
       "75%       10.000000      0.000000   2370.750000      0.000000      0.000000   \n",
       "max      210.000000    999.000000  26858.000000     44.000000     62.000000   \n",
       "\n",
       "         inj_s_grnd     inj_tot_f     inj_tot_m     inj_tot_n     inj_tot_s  \\\n",
       "count  49513.000000  15253.000000  14347.000000  46273.000000  10793.000000   \n",
       "mean       0.011209      2.813545      1.866732      7.574676      1.543037   \n",
       "std        0.518030     11.025730      5.172820     31.982420      2.722736   \n",
       "min        0.000000      1.000000      1.000000      1.000000      1.000000   \n",
       "25%        0.000000      1.000000      1.000000      1.000000      1.000000   \n",
       "50%        0.000000      2.000000      1.000000      2.000000      1.000000   \n",
       "75%        0.000000      2.000000      2.000000      2.000000      2.000000   \n",
       "max       71.000000    349.000000    380.000000    699.000000    111.000000   \n",
       "\n",
       "          inj_tot_t   ntsb_docket  ntsb_notf_tm  \n",
       "count  35217.000000  72695.000000  56995.000000  \n",
       "mean       2.451969   8586.409781   1043.181577  \n",
       "std        8.733082  10805.425263    718.420703  \n",
       "min        1.000000      0.000000      0.000000  \n",
       "25%        1.000000    945.000000      1.000000  \n",
       "50%        1.000000   2005.000000   1200.000000  \n",
       "75%        2.000000  16468.500000   1600.000000  \n",
       "max      380.000000  34935.000000   2400.000000  "
      ]
     },
     "execution_count": 8,
     "metadata": {},
     "output_type": "execute_result"
    }
   ],
   "source": [
    "# Not really useful for the majority of columns\n",
    "events.describe()"
   ]
  },
  {
   "cell_type": "code",
   "execution_count": 9,
   "metadata": {
    "collapsed": false
   },
   "outputs": [
    {
     "name": "stdout",
     "output_type": "stream",
     "text": [
      "<class 'pandas.core.frame.DataFrame'>\n",
      "Index: 76880 entries, 20001208X07734 to 20150121X60411\n",
      "Columns: 70 entries, ntsb_no to faa_dist_office\n",
      "dtypes: float64(27), object(43)\n",
      "memory usage: 41.6+ MB\n"
     ]
    }
   ],
   "source": [
    "# Lets gather some info about the data\n",
    "events.info(max_cols=0)"
   ]
  },
  {
   "cell_type": "raw",
   "metadata": {},
   "source": [
    "The + symbol indicates that the true memory usage could be higher, because pandas does not count the memory used by values in columns with dtype=object.\n",
    "\n",
    "Passing `memory_usage='deep'` will enable a more accurate memory usage report, that accounts for the full usage of the contained objects. This is optional as it can be expensive to do this deeper introspection.\n",
    "\n",
    "The memory usage displayed by the info method utilizes the memory_usage method to determine the memory usage of a dataframe while also formatting the output in human-readable units (base-2 representation; i.e., 1KB = 1024 bytes).\n",
    "\n",
    "**The memory usage of a Categorical is proportional to the number of categories times the length of the data. In contrast, an object dtype is a constant times the length of the data.**"
   ]
  },
  {
   "cell_type": "code",
   "execution_count": 10,
   "metadata": {
    "collapsed": false
   },
   "outputs": [
    {
     "name": "stdout",
     "output_type": "stream",
     "text": [
      "<class 'pandas.core.frame.DataFrame'>\n",
      "Index: 76880 entries, 20001208X07734 to 20150121X60411\n",
      "Columns: 70 entries, ntsb_no to faa_dist_office\n",
      "dtypes: float64(27), object(43)\n",
      "memory usage: 209.2 MB\n"
     ]
    }
   ],
   "source": [
    "# What does 41.6+ MB mean???\n",
    "events.info(max_cols=0, memory_usage='deep')"
   ]
  },
  {
   "cell_type": "code",
   "execution_count": 11,
   "metadata": {
    "collapsed": false
   },
   "outputs": [
    {
     "data": {
      "text/plain": [
       "209329.80534351146"
      ]
     },
     "execution_count": 11,
     "metadata": {},
     "output_type": "execute_result"
    }
   ],
   "source": [
    "events.memory_usage(deep=True).sum() / 1048  # KiB  "
   ]
  },
  {
   "cell_type": "code",
   "execution_count": 12,
   "metadata": {
    "collapsed": false
   },
   "outputs": [
    {
     "data": {
      "text/plain": [
       "41080.916030534354"
      ]
     },
     "execution_count": 12,
     "metadata": {},
     "output_type": "execute_result"
    }
   ],
   "source": [
    "# with deep=False same as events.values.nbyte; what is the difference when is True?\n",
    "events.values.nbytes / 1048"
   ]
  },
  {
   "cell_type": "code",
   "execution_count": 13,
   "metadata": {
    "collapsed": false
   },
   "outputs": [],
   "source": [
    "# Maybe there is a better way to select...\n",
    "# Make a brief comparison of results and performance (%timeit)\n",
    "events = events[events['ev_type'] == 'ACC']\n",
    "# options:\n",
    "# events = events.where(events['ev_dow']=='WE')       # the return a DataFrame of the same shape as the original.When the logical \n",
    "                                                    # condition in False the result is the whole row filled with NaNs.\n",
    "                                                    # By default, where returns a modified copy of the data. There is an \n",
    "                                                    # optional parameter inplace so that the original data can be modified\n",
    "                                                    # without creating a copy\n",
    "\n",
    "# events = events.where(events['ev_dow']=='WE', 0, inplace=True)     # same that above but choosing the result instead of NaN and \n",
    "                                                                 # without creating a copy\n",
    "\n",
    "# events = events.mask(events['ev_dow']=='WE')      # mask is the inverse boolean operation of where\n",
    "\n",
    "# events = events.query('ev_type == ACC')     #  query() method that allows selection using an expression. In pandas 0.18 is \n",
    "                                              # an experimental method. Can this become useful?"
   ]
  },
  {
   "cell_type": "code",
   "execution_count": 14,
   "metadata": {
    "collapsed": false
   },
   "outputs": [
    {
     "name": "stdout",
     "output_type": "stream",
     "text": [
      "<class 'pandas.core.frame.DataFrame'>\n",
      "Index: 73893 entries, 20001208X07734 to 20150121X60411\n",
      "Columns: 70 entries, ntsb_no to faa_dist_office\n",
      "dtypes: float64(27), object(43)\n",
      "memory usage: 201.5 MB\n"
     ]
    }
   ],
   "source": [
    "events.info(max_cols=0, memory_usage='deep')"
   ]
  },
  {
   "cell_type": "code",
   "execution_count": 15,
   "metadata": {
    "collapsed": false
   },
   "outputs": [
    {
     "data": {
      "text/plain": [
       "ev_id\n",
       "20001208X07734    04/02/1997 12:00:00 AM\n",
       "20021008X05297    09/29/2002 12:00:00 AM\n",
       "20040127X00111    10/12/2003 12:00:00 AM\n",
       "20001213X34369    08/23/1986 12:00:00 AM\n",
       "20001213X35290    12/07/1986 12:00:00 AM\n",
       "Name: ev_date, dtype: object"
      ]
     },
     "execution_count": 15,
     "metadata": {},
     "output_type": "execute_result"
    }
   ],
   "source": [
    "events['ev_date'].head()"
   ]
  },
  {
   "cell_type": "code",
   "execution_count": 16,
   "metadata": {
    "collapsed": false
   },
   "outputs": [],
   "source": [
    "#%timeit pd.to_datetime(events['ev_date'], infer_datetime_format=True)"
   ]
  },
  {
   "cell_type": "code",
   "execution_count": 17,
   "metadata": {
    "collapsed": false
   },
   "outputs": [],
   "source": [
    "#%timeit pd.to_datetime(events['ev_date'], infer_datetime_format=False)"
   ]
  },
  {
   "cell_type": "code",
   "execution_count": 18,
   "metadata": {
    "collapsed": false
   },
   "outputs": [
    {
     "name": "stdout",
     "output_type": "stream",
     "text": [
      "1 loop, best of 3: 794 ms per loop\n"
     ]
    }
   ],
   "source": [
    "# Information about date format: \n",
    "# https://docs.python.org/3.5/library/datetime.html#strftime-and-strptime-behavior\n",
    "date_format = \"%m/%d/%Y %I:%M:%S %p\"\n",
    "% timeit pd.to_datetime(events['ev_date'], format=date_format)"
   ]
  },
  {
   "cell_type": "code",
   "execution_count": 19,
   "metadata": {
    "collapsed": false
   },
   "outputs": [],
   "source": [
    "date_format = \"%m/%d/%Y %I:%M:%S %p\"\n",
    "events['ev_date'] = pd.to_datetime(events['ev_date'], format=date_format)"
   ]
  },
  {
   "cell_type": "raw",
   "metadata": {},
   "source": [
    "ev_dow can be discarded since that info is contained in the datetime format:"
   ]
  },
  {
   "cell_type": "code",
   "execution_count": 20,
   "metadata": {
    "collapsed": false
   },
   "outputs": [
    {
     "data": {
      "text/plain": [
       "2"
      ]
     },
     "execution_count": 20,
     "metadata": {},
     "output_type": "execute_result"
    }
   ],
   "source": [
    "events['ev_date'][0].dayofweek"
   ]
  },
  {
   "cell_type": "raw",
   "metadata": {},
   "source": [
    "The time of the event is registered in ev_time & ev_tmzn columns.\n",
    "ev_time can be easily parsed:"
   ]
  },
  {
   "cell_type": "code",
   "execution_count": 21,
   "metadata": {
    "collapsed": false
   },
   "outputs": [
    {
     "data": {
      "text/plain": [
       "ev_id\n",
       "20001208X07734   1900-01-01 20:16:00\n",
       "20021008X05297   1900-01-01 21:00:00\n",
       "20040127X00111   1900-01-01 16:40:00\n",
       "20001213X34369   1900-01-01 11:00:00\n",
       "20001213X35290   1900-01-01 12:56:00\n",
       "20001214X43255   1900-01-01 13:00:00\n",
       "20010110X00143   1900-01-01 16:15:00\n",
       "20001213X33703   1900-01-01 18:15:00\n",
       "20001214X40436   1900-01-01 11:20:00\n",
       "20001211X14218   1900-01-01 11:45:00\n",
       "20001212X23966   1900-01-01 19:30:00\n",
       "20001214X42435   1900-01-01 11:00:00\n",
       "20030924X01588   1900-01-01 10:30:00\n",
       "20120214X84853   1900-01-01 12:20:00\n",
       "20001214X37578   1900-01-01 09:30:00\n",
       "20001214X38462   1900-01-01 13:00:00\n",
       "20020917X03633   1900-01-01 20:30:00\n",
       "20081003X65757   1900-01-01 18:30:00\n",
       "20110716X12058   1900-01-01 15:45:00\n",
       "20001212X21991   1900-01-01 16:22:00\n",
       "20001213X28279   1900-01-01 16:20:00\n",
       "20060803X01083   1900-01-01 14:00:00\n",
       "20080718X01072   1900-01-01 17:00:00\n",
       "20001211X13648   1900-01-01 13:20:00\n",
       "20001212X23150   1900-01-01 08:20:00\n",
       "                         ...        \n",
       "20001213X26120   1900-01-01 23:03:00\n",
       "20020724X01196   1900-01-01 15:20:00\n",
       "20001212X23149   1900-01-01 15:15:00\n",
       "20001213X33874   1900-01-01 15:35:00\n",
       "20001214X43992   1900-01-01 18:40:00\n",
       "20001214X44349   1900-01-01 10:30:00\n",
       "20020917X01791   1900-01-01 15:30:00\n",
       "20030701X00987   1900-01-01 19:24:00\n",
       "20110426X03427   1900-01-01 16:25:00\n",
       "20001214X41399   1900-01-01 13:35:00\n",
       "20001206X01607   1900-01-01 22:48:00\n",
       "20001208X07141   1900-01-01 18:15:00\n",
       "20001212X20587   1900-01-01 15:00:00\n",
       "20001213X30599   1900-01-01 23:18:00\n",
       "20001213X35193   1900-01-01 18:30:00\n",
       "20020429X00594   1900-01-01 17:24:00\n",
       "20020710X01082   1900-01-01 18:01:00\n",
       "20001208X08442   1900-01-01 17:08:00\n",
       "20001212X17087   1900-01-01 14:27:00\n",
       "20001214X40995   1900-01-01 16:30:00\n",
       "20021204X05564   1900-01-01 09:00:00\n",
       "20080810X01201   1900-01-01 10:30:00\n",
       "20120410X30119   1900-01-01 14:00:00\n",
       "20130227X23115   1900-01-01 10:20:00\n",
       "20150121X60411   1900-01-01 11:00:00\n",
       "Name: ev_time, dtype: datetime64[ns]"
      ]
     },
     "execution_count": 21,
     "metadata": {},
     "output_type": "execute_result"
    }
   ],
   "source": [
    "# Convert column dtype to string, extract the time and pad with zeros\n",
    "ev_time = events['ev_time'].astype(str).str.split('.').str[0].str.zfill(4)\n",
    "\n",
    "pd.to_datetime(ev_time,\n",
    "               format=\"%H%M\",  # format\n",
    "               errors='coerce')  # for nan values"
   ]
  },
  {
   "cell_type": "code",
   "execution_count": 22,
   "metadata": {
    "collapsed": false
   },
   "outputs": [],
   "source": [
    "events['ev_time'] = pd.to_datetime(ev_time, format=\"%H%M\", errors='coerce') "
   ]
  },
  {
   "cell_type": "raw",
   "metadata": {
    "collapsed": true
   },
   "source": [
    "We can get only the hour from this date and change it in the ev_date:"
   ]
  },
  {
   "cell_type": "code",
   "execution_count": 23,
   "metadata": {
    "collapsed": false
   },
   "outputs": [
    {
     "data": {
      "text/plain": [
       "ev_id\n",
       "20001208X07734    1997-04-02 20:16:00\n",
       "20021008X05297    2002-09-29 21:00:00\n",
       "20040127X00111    2003-10-12 16:40:00\n",
       "20001213X34369    1986-08-23 11:00:00\n",
       "20001213X35290    1986-12-07 12:56:00\n",
       "dtype: object"
      ]
     },
     "execution_count": 23,
     "metadata": {},
     "output_type": "execute_result"
    }
   ],
   "source": [
    "events['ev_date'][0:5].dt.date.astype(str) + ' ' + events['ev_time'][0:5].dt.time.astype(str)"
   ]
  },
  {
   "cell_type": "code",
   "execution_count": 24,
   "metadata": {
    "collapsed": false
   },
   "outputs": [],
   "source": [
    "# FIXME\n",
    "time_series = pd.to_datetime(events['ev_date'].dt.date.astype(str) + ' ' + events['ev_time'].dt.time.astype(str), \n",
    "                         format=\"%Y-%m-%d %H:%M:%S\",\n",
    "                         errors='coerce')  # !! WATCH OUT I am loosing some dates due to missing times..."
   ]
  },
  {
   "cell_type": "code",
   "execution_count": 25,
   "metadata": {
    "collapsed": false
   },
   "outputs": [
    {
     "data": {
      "text/plain": [
       "NaT"
      ]
     },
     "execution_count": 25,
     "metadata": {},
     "output_type": "execute_result"
    }
   ],
   "source": [
    "pd.to_datetime('2002-09-29' + ' ' + 'NaT', \n",
    "                               format=\"%Y-%m-%d %H:%M:%S\",\n",
    "                               errors='coerce')"
   ]
  },
  {
   "cell_type": "code",
   "execution_count": 26,
   "metadata": {
    "collapsed": false
   },
   "outputs": [
    {
     "data": {
      "text/plain": [
       "Timestamp('2002-09-29 00:00:00')"
      ]
     },
     "execution_count": 26,
     "metadata": {},
     "output_type": "execute_result"
    }
   ],
   "source": [
    "pd.to_datetime('2002-09-29' + ' ' + '00', \n",
    "                               format=\"%Y-%m-%d %H:%M:%S\",\n",
    "                               errors='coerce')"
   ]
  },
  {
   "cell_type": "code",
   "execution_count": 27,
   "metadata": {
    "collapsed": false
   },
   "outputs": [
    {
     "data": {
      "text/plain": [
       "194"
      ]
     },
     "execution_count": 27,
     "metadata": {},
     "output_type": "execute_result"
    }
   ],
   "source": [
    "# isnull detects 'NaT'\n",
    "pd.isnull(events['ev_time']).sum()"
   ]
  },
  {
   "cell_type": "code",
   "execution_count": 28,
   "metadata": {
    "collapsed": false
   },
   "outputs": [
    {
     "data": {
      "text/plain": [
       "194"
      ]
     },
     "execution_count": 28,
     "metadata": {},
     "output_type": "execute_result"
    }
   ],
   "source": [
    "# Aha! so the same...\n",
    "pd.isnull(time_series).sum()"
   ]
  },
  {
   "cell_type": "raw",
   "metadata": {},
   "source": [
    "Solution: \n",
    "* ARBITRARY TIME VALUE such as 00:00:00??\n",
    "* KEEPING DATE AND TIME IN DIFFERENT COLUMNS??\n",
    "* DROPPING THAT ELEMENTS??\n",
    "\n",
    "WILL THIS HAPPEN WHEN WE FILTER NON-COMMERCIAL FLIGHTS"
   ]
  },
  {
   "cell_type": "raw",
   "metadata": {},
   "source": [
    "Time zone could be taken into account, however their names are not compatible with pytz names (http://stackoverflow.com/questions/13866926/python-pytz-list-of-timezones), so we would need to change them. Are they really necessary. If they are in local time, then NO --> IT IS LOCAL TIME WHAT WE WANT. If they are UTC, then YES."
   ]
  },
  {
   "cell_type": "code",
   "execution_count": 29,
   "metadata": {
    "collapsed": false
   },
   "outputs": [
    {
     "data": {
      "text/plain": [
       "ev_id\n",
       "20001208X07734    False\n",
       "20021008X05297     True\n",
       "20040127X00111     True\n",
       "20001213X34369    False\n",
       "20001213X35290    False\n",
       "20001214X43255    False\n",
       "20010110X00143    False\n",
       "20001213X33703    False\n",
       "20001214X40436    False\n",
       "20001211X14218    False\n",
       "20001212X23966    False\n",
       "20001214X42435    False\n",
       "20030924X01588     True\n",
       "20120214X84853     True\n",
       "20001214X37578    False\n",
       "20001214X38462    False\n",
       "20081003X65757     True\n",
       "20110716X12058     True\n",
       "20001213X28279    False\n",
       "20060803X01083     True\n",
       "20080718X01072     True\n",
       "20001211X13648    False\n",
       "20001212X23150    False\n",
       "20001213X29090    False\n",
       "20001213X34028    False\n",
       "                  ...  \n",
       "20001208X07872    False\n",
       "20001212X19763    False\n",
       "20001213X26120    False\n",
       "20020724X01196     True\n",
       "20001212X23149    False\n",
       "20001213X33874    False\n",
       "20001214X43992    False\n",
       "20001214X44349    False\n",
       "20030701X00987     True\n",
       "20110426X03427     True\n",
       "20001214X41399    False\n",
       "20001206X01607    False\n",
       "20001208X07141    False\n",
       "20001212X20587    False\n",
       "20001213X30599    False\n",
       "20001213X35193    False\n",
       "20020429X00594     True\n",
       "20020710X01082     True\n",
       "20001208X08442    False\n",
       "20001212X17087    False\n",
       "20001214X40995    False\n",
       "20021204X05564     True\n",
       "20080810X01201     True\n",
       "20120410X30119     True\n",
       "20150121X60411     True\n",
       "Name: latitude, dtype: bool"
      ]
     },
     "execution_count": 29,
     "metadata": {},
     "output_type": "execute_result"
    }
   ],
   "source": [
    "lat = events['latitude'].dropna()\n",
    "mask = lat.str.contains(r'^[0-9]{5,6}[NnSs]$')\n",
    "mask"
   ]
  },
  {
   "cell_type": "code",
   "execution_count": 30,
   "metadata": {
    "collapsed": true
   },
   "outputs": [],
   "source": [
    "def convert_lat(string):\n",
    "    degs = float(string[0:2])\n",
    "    mins = float(string[2:4])\n",
    "    secs = float(string[4:6])\n",
    "    last = string[6].lower()\n",
    "    if last == 's':\n",
    "        factor = -1.0\n",
    "    elif last == 'n':\n",
    "        factor = 1.0\n",
    "    else:\n",
    "        raise ValueError(\"invalid hemisphere\")\n",
    "    return factor * (degs + mins / 60 + secs / 3600)"
   ]
  },
  {
   "cell_type": "code",
   "execution_count": 31,
   "metadata": {
    "collapsed": false
   },
   "outputs": [
    {
     "data": {
      "text/plain": [
       "ev_id\n",
       "20001208X07734          NaN\n",
       "20021008X05297    46.839167\n",
       "20040127X00111    33.622778\n",
       "20001213X34369          NaN\n",
       "20001213X35290          NaN\n",
       "20001214X43255          NaN\n",
       "20010110X00143          NaN\n",
       "20001213X33703          NaN\n",
       "20001214X40436          NaN\n",
       "20001211X14218          NaN\n",
       "20001212X23966          NaN\n",
       "20001214X42435          NaN\n",
       "20030924X01588    39.942778\n",
       "20120214X84853    44.899722\n",
       "20001214X37578          NaN\n",
       "20001214X38462          NaN\n",
       "20020917X03633          NaN\n",
       "20081003X65757    38.750278\n",
       "20110716X12058    43.843333\n",
       "20001212X21991          NaN\n",
       "20001213X28279          NaN\n",
       "20060803X01083    39.509722\n",
       "20080718X01072    46.131389\n",
       "20001211X13648          NaN\n",
       "20001212X23150          NaN\n",
       "                    ...    \n",
       "20001213X26120          NaN\n",
       "20020724X01196    43.984167\n",
       "20001212X23149          NaN\n",
       "20001213X33874          NaN\n",
       "20001214X43992          NaN\n",
       "20001214X44349          NaN\n",
       "20020917X01791          NaN\n",
       "20030701X00987    36.893333\n",
       "20110426X03427    40.639722\n",
       "20001214X41399          NaN\n",
       "20001206X01607          NaN\n",
       "20001208X07141          NaN\n",
       "20001212X20587          NaN\n",
       "20001213X30599          NaN\n",
       "20001213X35193          NaN\n",
       "20020429X00594    38.227778\n",
       "20020710X01082    40.601111\n",
       "20001208X08442          NaN\n",
       "20001212X17087          NaN\n",
       "20001214X40995          NaN\n",
       "20021204X05564    46.123889\n",
       "20080810X01201    34.350278\n",
       "20120410X30119    61.186389\n",
       "20130227X23115          NaN\n",
       "20150121X60411    40.924444\n",
       "Name: latitude_num, dtype: float64"
      ]
     },
     "execution_count": 31,
     "metadata": {},
     "output_type": "execute_result"
    }
   ],
   "source": [
    "lat = events['latitude'].dropna()\n",
    "mask = lat.str.contains(r'^[0-9]{6}[NnSs]$')\n",
    "events['latitude_num'] = lat[mask].apply(convert_lat)\n",
    "events['latitude_num']\n",
    "# pd.notnull(events['latitude_num']).count() is the same with 6 and {5,6} in regex"
   ]
  },
  {
   "cell_type": "code",
   "execution_count": 32,
   "metadata": {
    "collapsed": true
   },
   "outputs": [],
   "source": [
    "def convert_lon(string):\n",
    "    degs = float(string[0:3])\n",
    "    mins = float(string[3:5])\n",
    "    secs = float(string[5:7])\n",
    "    last = string[7].lower()\n",
    "    if last == 'w':\n",
    "        factor = -1.0\n",
    "    elif last == 'e':\n",
    "        factor = 1.0\n",
    "    else:\n",
    "        raise ValueError(\"invalid direction\")\n",
    "    return factor * (degs + mins / 60 + secs / 3600)"
   ]
  },
  {
   "cell_type": "code",
   "execution_count": 33,
   "metadata": {
    "collapsed": false
   },
   "outputs": [
    {
     "data": {
      "text/plain": [
       "ev_id\n",
       "20001208X07734           NaN\n",
       "20021008X05297    -96.663056\n",
       "20040127X00111   -111.910556\n",
       "20001213X34369           NaN\n",
       "20001213X35290           NaN\n",
       "20001214X43255           NaN\n",
       "20010110X00143           NaN\n",
       "20001213X33703           NaN\n",
       "20001214X40436           NaN\n",
       "20001211X14218           NaN\n",
       "20001212X23966           NaN\n",
       "20001214X42435           NaN\n",
       "20030924X01588    -91.194444\n",
       "20120214X84853   -115.332778\n",
       "20001214X37578           NaN\n",
       "20001214X38462           NaN\n",
       "20020917X03633           NaN\n",
       "20081003X65757    -98.229167\n",
       "20110716X12058    -76.094444\n",
       "20001212X21991           NaN\n",
       "20001213X28279           NaN\n",
       "20060803X01083   -122.217500\n",
       "20080718X01072   -109.375000\n",
       "20001211X13648           NaN\n",
       "20001212X23150           NaN\n",
       "                     ...    \n",
       "20001213X26120           NaN\n",
       "20020724X01196    -88.556944\n",
       "20001212X23149           NaN\n",
       "20001213X33874           NaN\n",
       "20001214X43992           NaN\n",
       "20001214X44349           NaN\n",
       "20020917X01791           NaN\n",
       "20030701X00987   -121.410278\n",
       "20110426X03427    -73.778889\n",
       "20001214X41399           NaN\n",
       "20001206X01607           NaN\n",
       "20001208X07141           NaN\n",
       "20001212X20587           NaN\n",
       "20001213X30599           NaN\n",
       "20001213X35193           NaN\n",
       "20020429X00594    -85.663611\n",
       "20020710X01082    -77.404722\n",
       "20001208X08442           NaN\n",
       "20001212X17087           NaN\n",
       "20001214X40995           NaN\n",
       "20021204X05564   -122.440278\n",
       "20080810X01201    -85.154722\n",
       "20120410X30119   -148.592500\n",
       "20130227X23115           NaN\n",
       "20150121X60411    -88.623889\n",
       "Name: longitude_num, dtype: float64"
      ]
     },
     "execution_count": 33,
     "metadata": {},
     "output_type": "execute_result"
    }
   ],
   "source": [
    "lon = events['longitude'].dropna()\n",
    "mask = lon.str.contains(r'^[0-9]{7}[EeWw]$')\n",
    "events['longitude_num'] = lon[mask].apply(convert_lon)\n",
    "events['longitude_num']\n",
    "# pd.notnull(events['longitude_num']).count() is the same with 7 and {6,7} in regex\n",
    "# and the same as notnull in latitude. Yuhu!"
   ]
  },
  {
   "cell_type": "code",
   "execution_count": 34,
   "metadata": {
    "collapsed": false
   },
   "outputs": [],
   "source": [
    "events.drop(['latitude', 'longitude', 'latlong_acq'], axis=1, inplace=True)"
   ]
  },
  {
   "cell_type": "raw",
   "metadata": {},
   "source": [
    "!!!!\n",
    "conda install basemap\n",
    "conda install pillow"
   ]
  },
  {
   "cell_type": "code",
   "execution_count": 37,
   "metadata": {
    "collapsed": false
   },
   "outputs": [
    {
     "data": {
      "text/plain": [
       "<matplotlib.collections.PathCollection at 0x7fbc3044f0b8>"
      ]
     },
     "execution_count": 37,
     "metadata": {},
     "output_type": "execute_result"
    }
   ],
   "source": [
    "%matplotlib qt\n",
    "# miller projection\n",
    "from mpl_toolkits.basemap import Basemap\n",
    "map = Basemap('mill',lon_0=0, lat_0=0)\n",
    "# plot coastlines, draw label meridians and parallels.\n",
    "map.drawcoastlines()\n",
    "# fill continents 'coral' (with zorder=0), color wet areas 'aqua'\n",
    "#map.drawmapboundary(fill_color='aqua')\n",
    "#map.fillcontinents(color='coral',lake_color='aqua')\n",
    "map.bluemarble()\n",
    "map.scatter(events['longitude_num'].values, events['latitude_num'].values, latlon=True, marker='o', color='r')"
   ]
  },
  {
   "cell_type": "markdown",
   "metadata": {},
   "source": [
    "### Data Analysis "
   ]
  },
  {
   "cell_type": "markdown",
   "metadata": {},
   "source": [
    "#### Accidents location "
   ]
  },
  {
   "cell_type": "markdown",
   "metadata": {},
   "source": [
    "#### Accident trends "
   ]
  },
  {
   "cell_type": "markdown",
   "metadata": {},
   "source": [
    "#### When do accidents occur? "
   ]
  },
  {
   "cell_type": "code",
   "execution_count": null,
   "metadata": {
    "collapsed": false
   },
   "outputs": [],
   "source": [
    "a = occurrences['Phase_of_Flight'].value_counts()\n",
    "b = a[0:7]  #  Why are we discarding the rest of maneuvers?\n",
    "\n",
    "maneuvers = {572:'LANDING-ROLL',\n",
    "             571:'LANDING - FLARE/TOUCHDOWN',\n",
    "             553:'DESCENT - UNCONTROLLED',\n",
    "             552:'DESCENT - EMERGENCY (plt initiated)',\n",
    "             522:'TAKEOFF - INITIAL CLIMB',\n",
    "             580:'MANEUVERING (includes buzzing)',\n",
    "             540:'CRUISE (includes low altitude straight and level flight)'}\n",
    "\n",
    "b = b.rename_axis(maneuvers)\n",
    "\n",
    "b"
   ]
  },
  {
   "cell_type": "markdown",
   "metadata": {},
   "source": [
    "#### Other Questions... "
   ]
  },
  {
   "cell_type": "markdown",
   "metadata": {},
   "source": [
    "### Conclusions "
   ]
  },
  {
   "cell_type": "markdown",
   "metadata": {},
   "source": [
    "# Thanks for yor attention! "
   ]
  },
  {
   "cell_type": "markdown",
   "metadata": {},
   "source": [
    "![PyData_logo](./static/pydata-logo-madrid-2016.png)"
   ]
  },
  {
   "cell_type": "markdown",
   "metadata": {},
   "source": [
    "## Any Questions?"
   ]
  },
  {
   "cell_type": "markdown",
   "metadata": {},
   "source": [
    "\n",
    "---\n"
   ]
  },
  {
   "cell_type": "code",
   "execution_count": null,
   "metadata": {
    "collapsed": false
   },
   "outputs": [],
   "source": [
    "# Notebook style\n",
    "from IPython.core.display import HTML\n",
    "css_file = './static/style.css'\n",
    "HTML(open(css_file, \"r\").read())"
   ]
  }
 ],
 "metadata": {
  "kernelspec": {
   "display_name": "Python 3",
   "language": "python",
   "name": "python3"
  },
  "language_info": {
   "codemirror_mode": {
    "name": "ipython",
    "version": 3
   },
   "file_extension": ".py",
   "mimetype": "text/x-python",
   "name": "python",
   "nbconvert_exporter": "python",
   "pygments_lexer": "ipython3",
   "version": "3.5.1"
  }
 },
 "nbformat": 4,
 "nbformat_minor": 0
}
