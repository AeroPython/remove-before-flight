{
 "cells": [
  {
   "cell_type": "markdown",
   "metadata": {},
   "source": [
    "![PyData_logo](./static/pydata-logo-madrid-2016.png)"
   ]
  },
  {
   "cell_type": "markdown",
   "metadata": {},
   "source": [
    "# Remove Before Flight\n",
    "## Analyzing Flight Safety Data with Python"
   ]
  },
  {
   "cell_type": "markdown",
   "metadata": {},
   "source": [
    "###### Jesús Martos Carrizo\n",
    "###### Alejandro Sáez Mollejo"
   ]
  },
  {
   "cell_type": "markdown",
   "metadata": {},
   "source": [
    "### Introduction"
   ]
  },
  {
   "cell_type": "markdown",
   "metadata": {},
   "source": [
    "#### Some figures "
   ]
  },
  {
   "cell_type": "markdown",
   "metadata": {},
   "source": [
    "![passengers](./static/passenger.jpg)\n",
    "###### by Ryan McGuire"
   ]
  },
  {
   "cell_type": "markdown",
   "metadata": {},
   "source": [
    "####  Flight Safety"
   ]
  },
  {
   "cell_type": "markdown",
   "metadata": {},
   "source": [
    "#### Objective of this talk "
   ]
  },
  {
   "cell_type": "markdown",
   "metadata": {},
   "source": [
    "##### Disclaimer"
   ]
  },
  {
   "cell_type": "markdown",
   "metadata": {},
   "source": [
    "#### Some remarks about"
   ]
  },
  {
   "cell_type": "markdown",
   "metadata": {},
   "source": [
    "![pandas-logo](./static/pandas_logo.png)"
   ]
  },
  {
   "cell_type": "markdown",
   "metadata": {},
   "source": [
    "#### Data source"
   ]
  },
  {
   "cell_type": "markdown",
   "metadata": {},
   "source": [
    "<img src=\"./static/ntsb.jpg\" style=\"width: 150px;\"/>\n",
    "\n",
    "__National Transportation Safety Board__ is charged with determining the probable cause of transportation accidents and promoting transportation safety, and assisting victims of transportation accidents and their families.\n",
    "\n",
    "Data: http://www.ntsb.gov/_layouts/ntsb.aviation/index.aspx"
   ]
  },
  {
   "cell_type": "markdown",
   "metadata": {},
   "source": [
    "### Loading & Cleaning data "
   ]
  },
  {
   "cell_type": "code",
   "execution_count": 1,
   "metadata": {
    "collapsed": false
   },
   "outputs": [],
   "source": [
    "import pandas as pd\n",
    "import numpy as np\n",
    "\n",
    "%matplotlib inline\n",
    "import matplotlib.pyplot as plt"
   ]
  },
  {
   "cell_type": "code",
   "execution_count": 2,
   "metadata": {
    "collapsed": true
   },
   "outputs": [],
   "source": [
    "# Some configuration options:\n",
    "pd.set_option('max_columns', 70)\n",
    "pd.set_option('max_rows', 50)\n",
    "\n",
    "plt.style.use('ggplot')"
   ]
  },
  {
   "cell_type": "markdown",
   "metadata": {},
   "source": [
    "##### A first glipse of the data: events"
   ]
  },
  {
   "cell_type": "markdown",
   "metadata": {},
   "source": [
    "[Data base structure](./data/admsrel.pdf)"
   ]
  },
  {
   "cell_type": "code",
   "execution_count": 3,
   "metadata": {
    "collapsed": false
   },
   "outputs": [
    {
     "data": {
      "text/html": [
       "<div>\n",
       "<table border=\"1\" class=\"dataframe\">\n",
       "  <thead>\n",
       "    <tr style=\"text-align: right;\">\n",
       "      <th></th>\n",
       "      <th>ev_id</th>\n",
       "      <th>ntsb_no</th>\n",
       "      <th>ev_type</th>\n",
       "      <th>ev_date</th>\n",
       "      <th>ev_dow</th>\n",
       "      <th>ev_time</th>\n",
       "      <th>ev_tmzn</th>\n",
       "      <th>ev_city</th>\n",
       "      <th>ev_state</th>\n",
       "      <th>ev_country</th>\n",
       "      <th>ev_site_zipcode</th>\n",
       "      <th>ev_year</th>\n",
       "      <th>ev_month</th>\n",
       "      <th>mid_air</th>\n",
       "      <th>on_ground_collision</th>\n",
       "      <th>latitude</th>\n",
       "      <th>longitude</th>\n",
       "      <th>latlong_acq</th>\n",
       "      <th>apt_name</th>\n",
       "      <th>ev_nr_apt_id</th>\n",
       "      <th>ev_nr_apt_loc</th>\n",
       "      <th>apt_dist</th>\n",
       "      <th>apt_dir</th>\n",
       "      <th>apt_elev</th>\n",
       "      <th>wx_brief_comp</th>\n",
       "      <th>wx_src_iic</th>\n",
       "      <th>wx_obs_time</th>\n",
       "      <th>wx_obs_dir</th>\n",
       "      <th>wx_obs_fac_id</th>\n",
       "      <th>wx_obs_elev</th>\n",
       "      <th>wx_obs_dist</th>\n",
       "      <th>wx_obs_tmzn</th>\n",
       "      <th>light_cond</th>\n",
       "      <th>sky_cond_nonceil</th>\n",
       "      <th>sky_nonceil_ht</th>\n",
       "      <th>...</th>\n",
       "      <th>sky_cond_ceil</th>\n",
       "      <th>vis_rvr</th>\n",
       "      <th>vis_rvv</th>\n",
       "      <th>vis_sm</th>\n",
       "      <th>wx_temp</th>\n",
       "      <th>wx_dew_pt</th>\n",
       "      <th>wind_dir_deg</th>\n",
       "      <th>wind_dir_ind</th>\n",
       "      <th>wind_vel_kts</th>\n",
       "      <th>wind_vel_ind</th>\n",
       "      <th>gust_ind</th>\n",
       "      <th>gust_kts</th>\n",
       "      <th>altimeter</th>\n",
       "      <th>wx_dens_alt</th>\n",
       "      <th>wx_int_precip</th>\n",
       "      <th>metar</th>\n",
       "      <th>ev_highest_injury</th>\n",
       "      <th>inj_f_grnd</th>\n",
       "      <th>inj_m_grnd</th>\n",
       "      <th>inj_s_grnd</th>\n",
       "      <th>inj_tot_f</th>\n",
       "      <th>inj_tot_m</th>\n",
       "      <th>inj_tot_n</th>\n",
       "      <th>inj_tot_s</th>\n",
       "      <th>inj_tot_t</th>\n",
       "      <th>invest_agy</th>\n",
       "      <th>ntsb_docket</th>\n",
       "      <th>ntsb_notf_from</th>\n",
       "      <th>ntsb_notf_date</th>\n",
       "      <th>ntsb_notf_tm</th>\n",
       "      <th>fiche_number</th>\n",
       "      <th>lchg_date</th>\n",
       "      <th>lchg_userid</th>\n",
       "      <th>wx_cond_basic</th>\n",
       "      <th>faa_dist_office</th>\n",
       "    </tr>\n",
       "  </thead>\n",
       "  <tbody>\n",
       "    <tr>\n",
       "      <th>0</th>\n",
       "      <td>20001208X07734</td>\n",
       "      <td>LAX97FA143</td>\n",
       "      <td>ACC</td>\n",
       "      <td>04/02/1997 12:00:00 AM</td>\n",
       "      <td>WE</td>\n",
       "      <td>2016.0</td>\n",
       "      <td>MST</td>\n",
       "      <td>GRAND CANYON</td>\n",
       "      <td>AZ</td>\n",
       "      <td>USA</td>\n",
       "      <td>86023</td>\n",
       "      <td>1997.0</td>\n",
       "      <td>4</td>\n",
       "      <td>N</td>\n",
       "      <td>N</td>\n",
       "      <td></td>\n",
       "      <td></td>\n",
       "      <td>NaN</td>\n",
       "      <td></td>\n",
       "      <td></td>\n",
       "      <td>OFAP</td>\n",
       "      <td>NaN</td>\n",
       "      <td>NaN</td>\n",
       "      <td>NaN</td>\n",
       "      <td>PARP</td>\n",
       "      <td>WFAC</td>\n",
       "      <td>1954.0</td>\n",
       "      <td>180.0</td>\n",
       "      <td>GCN</td>\n",
       "      <td>6606.0</td>\n",
       "      <td>21.0</td>\n",
       "      <td>MST</td>\n",
       "      <td>NDRK</td>\n",
       "      <td>SCAT</td>\n",
       "      <td>3600.0</td>\n",
       "      <td>...</td>\n",
       "      <td>BKN</td>\n",
       "      <td>0,00000000e+00</td>\n",
       "      <td>0.0</td>\n",
       "      <td>1,00000000e+01</td>\n",
       "      <td>-2.0</td>\n",
       "      <td>-3.0</td>\n",
       "      <td>0.0</td>\n",
       "      <td>U</td>\n",
       "      <td>0.0</td>\n",
       "      <td>CALM</td>\n",
       "      <td>N</td>\n",
       "      <td>0.0</td>\n",
       "      <td>2,90000000e+01</td>\n",
       "      <td>NaN</td>\n",
       "      <td>UNK</td>\n",
       "      <td>NaN</td>\n",
       "      <td>FATL</td>\n",
       "      <td>0.0</td>\n",
       "      <td>0.0</td>\n",
       "      <td>0.0</td>\n",
       "      <td>2.0</td>\n",
       "      <td>NaN</td>\n",
       "      <td>NaN</td>\n",
       "      <td>NaN</td>\n",
       "      <td>2.0</td>\n",
       "      <td>N</td>\n",
       "      <td>1890.0</td>\n",
       "      <td>NaN</td>\n",
       "      <td>04/02/1997 12:00:00 AM</td>\n",
       "      <td>1922.0</td>\n",
       "      <td>IMAGE</td>\n",
       "      <td>12/08/2000 12:13:19 PM</td>\n",
       "      <td>dbo</td>\n",
       "      <td>IMC</td>\n",
       "      <td>NaN</td>\n",
       "    </tr>\n",
       "    <tr>\n",
       "      <th>1</th>\n",
       "      <td>20021008X05297</td>\n",
       "      <td>CHI02LA299</td>\n",
       "      <td>ACC</td>\n",
       "      <td>09/29/2002 12:00:00 AM</td>\n",
       "      <td>Su</td>\n",
       "      <td>2100.0</td>\n",
       "      <td>CDT</td>\n",
       "      <td>Moorhead</td>\n",
       "      <td>MN</td>\n",
       "      <td>USA</td>\n",
       "      <td>56560</td>\n",
       "      <td>2002.0</td>\n",
       "      <td>9</td>\n",
       "      <td>N</td>\n",
       "      <td>N</td>\n",
       "      <td>465021N</td>\n",
       "      <td>0963947W</td>\n",
       "      <td>NaN</td>\n",
       "      <td>Moorhead Municipal</td>\n",
       "      <td>JKJ</td>\n",
       "      <td>ONAP</td>\n",
       "      <td>NaN</td>\n",
       "      <td>NaN</td>\n",
       "      <td>917.0</td>\n",
       "      <td>UNK</td>\n",
       "      <td>WFAC</td>\n",
       "      <td>2053.0</td>\n",
       "      <td>47.0</td>\n",
       "      <td>FAR</td>\n",
       "      <td>908.0</td>\n",
       "      <td>9.0</td>\n",
       "      <td>BST</td>\n",
       "      <td>NDRK</td>\n",
       "      <td>CLER</td>\n",
       "      <td>NaN</td>\n",
       "      <td>...</td>\n",
       "      <td>OVC</td>\n",
       "      <td>NaN</td>\n",
       "      <td>NaN</td>\n",
       "      <td>7,00000000e+00</td>\n",
       "      <td>14.0</td>\n",
       "      <td>12.0</td>\n",
       "      <td>160.0</td>\n",
       "      <td>Y</td>\n",
       "      <td>13.0</td>\n",
       "      <td>SPEC</td>\n",
       "      <td>Y</td>\n",
       "      <td>0.0</td>\n",
       "      <td>2,97099991e+01</td>\n",
       "      <td>NaN</td>\n",
       "      <td>NaN</td>\n",
       "      <td>NaN</td>\n",
       "      <td>SERS</td>\n",
       "      <td>NaN</td>\n",
       "      <td>NaN</td>\n",
       "      <td>NaN</td>\n",
       "      <td>NaN</td>\n",
       "      <td>1.0</td>\n",
       "      <td>NaN</td>\n",
       "      <td>1.0</td>\n",
       "      <td>2.0</td>\n",
       "      <td>N</td>\n",
       "      <td>13246.0</td>\n",
       "      <td>FAA</td>\n",
       "      <td>10/03/2002 12:00:00 AM</td>\n",
       "      <td>945.0</td>\n",
       "      <td>DMS</td>\n",
       "      <td>04/23/2003 12:26:44 PM</td>\n",
       "      <td>NTSB\\\\MONR</td>\n",
       "      <td>VMC</td>\n",
       "      <td>Minneapolis FSDO</td>\n",
       "    </tr>\n",
       "    <tr>\n",
       "      <th>2</th>\n",
       "      <td>20040127X00111</td>\n",
       "      <td>LAX04LA103</td>\n",
       "      <td>ACC</td>\n",
       "      <td>10/12/2003 12:00:00 AM</td>\n",
       "      <td>Su</td>\n",
       "      <td>1640.0</td>\n",
       "      <td>MST</td>\n",
       "      <td>Scottsdale</td>\n",
       "      <td>AZ</td>\n",
       "      <td>USA</td>\n",
       "      <td>85255</td>\n",
       "      <td>2003.0</td>\n",
       "      <td>10</td>\n",
       "      <td>N</td>\n",
       "      <td>N</td>\n",
       "      <td>333722N</td>\n",
       "      <td>1115438W</td>\n",
       "      <td>NaN</td>\n",
       "      <td>Scottsdale</td>\n",
       "      <td>SDL</td>\n",
       "      <td>ONAP</td>\n",
       "      <td>NaN</td>\n",
       "      <td>NaN</td>\n",
       "      <td>1510.0</td>\n",
       "      <td>FULL</td>\n",
       "      <td>WFAC</td>\n",
       "      <td>1653.0</td>\n",
       "      <td>NaN</td>\n",
       "      <td>KSDL</td>\n",
       "      <td>1510.0</td>\n",
       "      <td>NaN</td>\n",
       "      <td>MST</td>\n",
       "      <td>DAYL</td>\n",
       "      <td>CLER</td>\n",
       "      <td>NaN</td>\n",
       "      <td>...</td>\n",
       "      <td>NONE</td>\n",
       "      <td>NaN</td>\n",
       "      <td>NaN</td>\n",
       "      <td>1,00000000e+01</td>\n",
       "      <td>33.0</td>\n",
       "      <td>12.0</td>\n",
       "      <td>NaN</td>\n",
       "      <td>NaN</td>\n",
       "      <td>NaN</td>\n",
       "      <td>CALM</td>\n",
       "      <td>N</td>\n",
       "      <td>NaN</td>\n",
       "      <td>2,98899994e+01</td>\n",
       "      <td>NaN</td>\n",
       "      <td>NaN</td>\n",
       "      <td>NaN</td>\n",
       "      <td>NONE</td>\n",
       "      <td>NaN</td>\n",
       "      <td>NaN</td>\n",
       "      <td>NaN</td>\n",
       "      <td>NaN</td>\n",
       "      <td>NaN</td>\n",
       "      <td>3.0</td>\n",
       "      <td>NaN</td>\n",
       "      <td>NaN</td>\n",
       "      <td>N</td>\n",
       "      <td>17586.0</td>\n",
       "      <td>FAA</td>\n",
       "      <td>01/22/2004 12:00:00 AM</td>\n",
       "      <td>1215.0</td>\n",
       "      <td>DMS</td>\n",
       "      <td>04/28/2005 02:59:26 PM</td>\n",
       "      <td>NTSB\\\\JOHB</td>\n",
       "      <td>VMC</td>\n",
       "      <td>WP-SDL-FSDO</td>\n",
       "    </tr>\n",
       "    <tr>\n",
       "      <th>3</th>\n",
       "      <td>20001213X34369</td>\n",
       "      <td>ANC86LA135</td>\n",
       "      <td>ACC</td>\n",
       "      <td>08/23/1986 12:00:00 AM</td>\n",
       "      <td>SA</td>\n",
       "      <td>1100.0</td>\n",
       "      <td>AKD</td>\n",
       "      <td>TALKEETNA</td>\n",
       "      <td>AK</td>\n",
       "      <td>USA</td>\n",
       "      <td>99676</td>\n",
       "      <td>1986.0</td>\n",
       "      <td>8</td>\n",
       "      <td>N</td>\n",
       "      <td>N</td>\n",
       "      <td></td>\n",
       "      <td></td>\n",
       "      <td>NaN</td>\n",
       "      <td></td>\n",
       "      <td></td>\n",
       "      <td>OFAP</td>\n",
       "      <td>0,00000000e+00</td>\n",
       "      <td>0.0</td>\n",
       "      <td>0.0</td>\n",
       "      <td>UNK</td>\n",
       "      <td>PILO</td>\n",
       "      <td>0.0</td>\n",
       "      <td>0.0</td>\n",
       "      <td></td>\n",
       "      <td>0.0</td>\n",
       "      <td>0.0</td>\n",
       "      <td></td>\n",
       "      <td>DAYL</td>\n",
       "      <td>CLER</td>\n",
       "      <td>0.0</td>\n",
       "      <td>...</td>\n",
       "      <td>NONE</td>\n",
       "      <td>0,00000000e+00</td>\n",
       "      <td>0.0</td>\n",
       "      <td>5,00000000e+01</td>\n",
       "      <td>10.0</td>\n",
       "      <td>-18.0</td>\n",
       "      <td>0.0</td>\n",
       "      <td>U</td>\n",
       "      <td>0.0</td>\n",
       "      <td>UNK</td>\n",
       "      <td>U</td>\n",
       "      <td>0.0</td>\n",
       "      <td>NaN</td>\n",
       "      <td>NaN</td>\n",
       "      <td>UNK</td>\n",
       "      <td>NaN</td>\n",
       "      <td>NONE</td>\n",
       "      <td>0.0</td>\n",
       "      <td>0.0</td>\n",
       "      <td>0.0</td>\n",
       "      <td>NaN</td>\n",
       "      <td>NaN</td>\n",
       "      <td>3.0</td>\n",
       "      <td>NaN</td>\n",
       "      <td>NaN</td>\n",
       "      <td>N</td>\n",
       "      <td>891.0</td>\n",
       "      <td>NaN</td>\n",
       "      <td>08/23/1986 12:00:00 AM</td>\n",
       "      <td>1430.0</td>\n",
       "      <td>31238</td>\n",
       "      <td>01/02/2001 09:14:50 AM</td>\n",
       "      <td>dbo</td>\n",
       "      <td>VMC</td>\n",
       "      <td>NaN</td>\n",
       "    </tr>\n",
       "    <tr>\n",
       "      <th>4</th>\n",
       "      <td>20001213X35290</td>\n",
       "      <td>ANC87LA019</td>\n",
       "      <td>ACC</td>\n",
       "      <td>12/07/1986 12:00:00 AM</td>\n",
       "      <td>SU</td>\n",
       "      <td>1256.0</td>\n",
       "      <td>AST</td>\n",
       "      <td>SHAGELUK</td>\n",
       "      <td>AK</td>\n",
       "      <td>USA</td>\n",
       "      <td>99665</td>\n",
       "      <td>1986.0</td>\n",
       "      <td>12</td>\n",
       "      <td>N</td>\n",
       "      <td>N</td>\n",
       "      <td></td>\n",
       "      <td></td>\n",
       "      <td>NaN</td>\n",
       "      <td></td>\n",
       "      <td>1</td>\n",
       "      <td>OFAP</td>\n",
       "      <td>0,00000000e+00</td>\n",
       "      <td>0.0</td>\n",
       "      <td>0.0</td>\n",
       "      <td>UNK</td>\n",
       "      <td>PILO</td>\n",
       "      <td>0.0</td>\n",
       "      <td>0.0</td>\n",
       "      <td></td>\n",
       "      <td>0.0</td>\n",
       "      <td>0.0</td>\n",
       "      <td></td>\n",
       "      <td>DAYL</td>\n",
       "      <td>SCAT</td>\n",
       "      <td>1500.0</td>\n",
       "      <td>...</td>\n",
       "      <td>NONE</td>\n",
       "      <td>0,00000000e+00</td>\n",
       "      <td>0.0</td>\n",
       "      <td>4,00000000e+01</td>\n",
       "      <td>-1.0</td>\n",
       "      <td>-1.0</td>\n",
       "      <td>0.0</td>\n",
       "      <td>U</td>\n",
       "      <td>0.0</td>\n",
       "      <td>CALM</td>\n",
       "      <td>N</td>\n",
       "      <td>0.0</td>\n",
       "      <td>2,90000000e+01</td>\n",
       "      <td>NaN</td>\n",
       "      <td>LGT</td>\n",
       "      <td>NaN</td>\n",
       "      <td>NONE</td>\n",
       "      <td>0.0</td>\n",
       "      <td>0.0</td>\n",
       "      <td>0.0</td>\n",
       "      <td>NaN</td>\n",
       "      <td>NaN</td>\n",
       "      <td>1.0</td>\n",
       "      <td>NaN</td>\n",
       "      <td>NaN</td>\n",
       "      <td>N</td>\n",
       "      <td>1400.0</td>\n",
       "      <td>NaN</td>\n",
       "      <td>12/07/1986 12:00:00 AM</td>\n",
       "      <td>1300.0</td>\n",
       "      <td>31791</td>\n",
       "      <td>01/02/2001 09:14:55 AM</td>\n",
       "      <td>dbo</td>\n",
       "      <td>VMC</td>\n",
       "      <td>NaN</td>\n",
       "    </tr>\n",
       "  </tbody>\n",
       "</table>\n",
       "<p>5 rows × 71 columns</p>\n",
       "</div>"
      ],
      "text/plain": [
       "            ev_id     ntsb_no ev_type                 ev_date ev_dow  ev_time  \\\n",
       "0  20001208X07734  LAX97FA143     ACC  04/02/1997 12:00:00 AM     WE   2016.0   \n",
       "1  20021008X05297  CHI02LA299     ACC  09/29/2002 12:00:00 AM     Su   2100.0   \n",
       "2  20040127X00111  LAX04LA103     ACC  10/12/2003 12:00:00 AM     Su   1640.0   \n",
       "3  20001213X34369  ANC86LA135     ACC  08/23/1986 12:00:00 AM     SA   1100.0   \n",
       "4  20001213X35290  ANC87LA019     ACC  12/07/1986 12:00:00 AM     SU   1256.0   \n",
       "\n",
       "  ev_tmzn          ev_city ev_state ev_country ev_site_zipcode  ev_year  \\\n",
       "0     MST  GRAND CANYON          AZ        USA       86023       1997.0   \n",
       "1     CDT         Moorhead       MN        USA           56560   2002.0   \n",
       "2     MST       Scottsdale       AZ        USA           85255   2003.0   \n",
       "3     AKD  TALKEETNA             AK        USA       99676       1986.0   \n",
       "4     AST  SHAGELUK              AK        USA       99665       1986.0   \n",
       "\n",
       "  ev_month mid_air on_ground_collision latitude longitude latlong_acq  \\\n",
       "0        4       N                   N                            NaN   \n",
       "1        9       N                   N  465021N  0963947W         NaN   \n",
       "2       10       N                   N  333722N  1115438W         NaN   \n",
       "3        8       N                   N                            NaN   \n",
       "4       12       N                   N                            NaN   \n",
       "\n",
       "                    apt_name ev_nr_apt_id ev_nr_apt_loc        apt_dist  \\\n",
       "0                                                  OFAP             NaN   \n",
       "1         Moorhead Municipal          JKJ          ONAP             NaN   \n",
       "2                 Scottsdale          SDL          ONAP             NaN   \n",
       "3                                                  OFAP  0,00000000e+00   \n",
       "4                                    1             OFAP  0,00000000e+00   \n",
       "\n",
       "   apt_dir  apt_elev wx_brief_comp wx_src_iic  wx_obs_time  wx_obs_dir  \\\n",
       "0      NaN       NaN          PARP       WFAC       1954.0       180.0   \n",
       "1      NaN     917.0           UNK       WFAC       2053.0        47.0   \n",
       "2      NaN    1510.0          FULL       WFAC       1653.0         NaN   \n",
       "3      0.0       0.0           UNK       PILO          0.0         0.0   \n",
       "4      0.0       0.0           UNK       PILO          0.0         0.0   \n",
       "\n",
       "  wx_obs_fac_id  wx_obs_elev  wx_obs_dist wx_obs_tmzn light_cond  \\\n",
       "0          GCN        6606.0         21.0         MST       NDRK   \n",
       "1           FAR        908.0          9.0         BST       NDRK   \n",
       "2          KSDL       1510.0          NaN         MST       DAYL   \n",
       "3                        0.0          0.0                   DAYL   \n",
       "4                        0.0          0.0                   DAYL   \n",
       "\n",
       "  sky_cond_nonceil  sky_nonceil_ht        ...         sky_cond_ceil  \\\n",
       "0             SCAT          3600.0        ...                   BKN   \n",
       "1             CLER             NaN        ...                   OVC   \n",
       "2             CLER             NaN        ...                  NONE   \n",
       "3             CLER             0.0        ...                  NONE   \n",
       "4             SCAT          1500.0        ...                  NONE   \n",
       "\n",
       "          vis_rvr vis_rvv          vis_sm wx_temp  wx_dew_pt  wind_dir_deg  \\\n",
       "0  0,00000000e+00     0.0  1,00000000e+01    -2.0       -3.0           0.0   \n",
       "1             NaN     NaN  7,00000000e+00    14.0       12.0         160.0   \n",
       "2             NaN     NaN  1,00000000e+01    33.0       12.0           NaN   \n",
       "3  0,00000000e+00     0.0  5,00000000e+01    10.0      -18.0           0.0   \n",
       "4  0,00000000e+00     0.0  4,00000000e+01    -1.0       -1.0           0.0   \n",
       "\n",
       "   wind_dir_ind wind_vel_kts  wind_vel_ind gust_ind gust_kts       altimeter  \\\n",
       "0             U          0.0          CALM        N      0.0  2,90000000e+01   \n",
       "1             Y         13.0          SPEC        Y      0.0  2,97099991e+01   \n",
       "2           NaN          NaN          CALM        N      NaN  2,98899994e+01   \n",
       "3             U          0.0           UNK        U      0.0             NaN   \n",
       "4             U          0.0          CALM        N      0.0  2,90000000e+01   \n",
       "\n",
       "  wx_dens_alt  wx_int_precip metar ev_highest_injury inj_f_grnd  inj_m_grnd  \\\n",
       "0         NaN            UNK   NaN              FATL        0.0         0.0   \n",
       "1         NaN            NaN   NaN              SERS        NaN         NaN   \n",
       "2         NaN            NaN   NaN              NONE        NaN         NaN   \n",
       "3         NaN            UNK   NaN              NONE        0.0         0.0   \n",
       "4         NaN            LGT   NaN              NONE        0.0         0.0   \n",
       "\n",
       "   inj_s_grnd  inj_tot_f  inj_tot_m  inj_tot_n  inj_tot_s  inj_tot_t  \\\n",
       "0         0.0        2.0        NaN        NaN        NaN        2.0   \n",
       "1         NaN        NaN        1.0        NaN        1.0        2.0   \n",
       "2         NaN        NaN        NaN        3.0        NaN        NaN   \n",
       "3         0.0        NaN        NaN        3.0        NaN        NaN   \n",
       "4         0.0        NaN        NaN        1.0        NaN        NaN   \n",
       "\n",
       "   invest_agy ntsb_docket                  ntsb_notf_from  \\\n",
       "0           N      1890.0                             NaN   \n",
       "1           N     13246.0  FAA                              \n",
       "2           N     17586.0  FAA                              \n",
       "3           N       891.0                             NaN   \n",
       "4           N      1400.0                             NaN   \n",
       "\n",
       "           ntsb_notf_date ntsb_notf_tm  fiche_number               lchg_date  \\\n",
       "0  04/02/1997 12:00:00 AM       1922.0         IMAGE  12/08/2000 12:13:19 PM   \n",
       "1  10/03/2002 12:00:00 AM        945.0           DMS  04/23/2003 12:26:44 PM   \n",
       "2  01/22/2004 12:00:00 AM       1215.0           DMS  04/28/2005 02:59:26 PM   \n",
       "3  08/23/1986 12:00:00 AM       1430.0         31238  01/02/2001 09:14:50 AM   \n",
       "4  12/07/1986 12:00:00 AM       1300.0         31791  01/02/2001 09:14:55 AM   \n",
       "\n",
       "           lchg_userid wx_cond_basic   faa_dist_office  \n",
       "0   dbo                          IMC               NaN  \n",
       "1  NTSB\\\\MONR                    VMC  Minneapolis FSDO  \n",
       "2  NTSB\\\\JOHB                    VMC       WP-SDL-FSDO  \n",
       "3   dbo                          VMC               NaN  \n",
       "4   dbo                          VMC               NaN  \n",
       "\n",
       "[5 rows x 71 columns]"
      ]
     },
     "execution_count": 3,
     "metadata": {},
     "output_type": "execute_result"
    }
   ],
   "source": [
    "events = pd.read_csv(\"./data/events.csv\", sep='|', low_memory=False)\n",
    "events.head()"
   ]
  },
  {
   "cell_type": "code",
   "execution_count": 4,
   "metadata": {
    "collapsed": false
   },
   "outputs": [
    {
     "data": {
      "text/html": [
       "<div>\n",
       "<table border=\"1\" class=\"dataframe\">\n",
       "  <thead>\n",
       "    <tr style=\"text-align: right;\">\n",
       "      <th></th>\n",
       "      <th>ev_time</th>\n",
       "      <th>ev_year</th>\n",
       "      <th>apt_dir</th>\n",
       "      <th>apt_elev</th>\n",
       "      <th>wx_obs_time</th>\n",
       "      <th>wx_obs_dir</th>\n",
       "      <th>wx_obs_elev</th>\n",
       "      <th>wx_obs_dist</th>\n",
       "      <th>sky_nonceil_ht</th>\n",
       "      <th>sky_ceil_ht</th>\n",
       "      <th>vis_rvv</th>\n",
       "      <th>wx_temp</th>\n",
       "      <th>wx_dew_pt</th>\n",
       "      <th>wind_dir_deg</th>\n",
       "      <th>wind_vel_kts</th>\n",
       "      <th>gust_kts</th>\n",
       "      <th>wx_dens_alt</th>\n",
       "      <th>inj_f_grnd</th>\n",
       "      <th>inj_m_grnd</th>\n",
       "      <th>inj_s_grnd</th>\n",
       "      <th>inj_tot_f</th>\n",
       "      <th>inj_tot_m</th>\n",
       "      <th>inj_tot_n</th>\n",
       "      <th>inj_tot_s</th>\n",
       "      <th>inj_tot_t</th>\n",
       "      <th>ntsb_docket</th>\n",
       "      <th>ntsb_notf_tm</th>\n",
       "    </tr>\n",
       "  </thead>\n",
       "  <tbody>\n",
       "    <tr>\n",
       "      <th>count</th>\n",
       "      <td>76535.000000</td>\n",
       "      <td>76848.000000</td>\n",
       "      <td>37020.000000</td>\n",
       "      <td>48146.000000</td>\n",
       "      <td>69909.000000</td>\n",
       "      <td>63990.000000</td>\n",
       "      <td>67552.000000</td>\n",
       "      <td>65299.000000</td>\n",
       "      <td>56454.000000</td>\n",
       "      <td>55382.000000</td>\n",
       "      <td>48754.000000</td>\n",
       "      <td>67043.000000</td>\n",
       "      <td>55773.000000</td>\n",
       "      <td>67986.000000</td>\n",
       "      <td>69080.000000</td>\n",
       "      <td>53729.000000</td>\n",
       "      <td>20314.000000</td>\n",
       "      <td>49522.000000</td>\n",
       "      <td>49526.000000</td>\n",
       "      <td>49513.000000</td>\n",
       "      <td>15253.000000</td>\n",
       "      <td>14347.000000</td>\n",
       "      <td>46273.000000</td>\n",
       "      <td>10793.000000</td>\n",
       "      <td>35217.000000</td>\n",
       "      <td>72695.000000</td>\n",
       "      <td>56995.000000</td>\n",
       "    </tr>\n",
       "    <tr>\n",
       "      <th>mean</th>\n",
       "      <td>1373.671196</td>\n",
       "      <td>1996.920427</td>\n",
       "      <td>49.827769</td>\n",
       "      <td>1055.010344</td>\n",
       "      <td>999.464661</td>\n",
       "      <td>103.528911</td>\n",
       "      <td>866.237728</td>\n",
       "      <td>11.339745</td>\n",
       "      <td>3255.918819</td>\n",
       "      <td>2930.506861</td>\n",
       "      <td>0.146039</td>\n",
       "      <td>19.850603</td>\n",
       "      <td>6.877970</td>\n",
       "      <td>161.884167</td>\n",
       "      <td>7.257426</td>\n",
       "      <td>3.650245</td>\n",
       "      <td>1772.910357</td>\n",
       "      <td>0.010157</td>\n",
       "      <td>0.013064</td>\n",
       "      <td>0.011209</td>\n",
       "      <td>2.813545</td>\n",
       "      <td>1.866732</td>\n",
       "      <td>7.574676</td>\n",
       "      <td>1.543037</td>\n",
       "      <td>2.451969</td>\n",
       "      <td>8586.409781</td>\n",
       "      <td>1043.181577</td>\n",
       "    </tr>\n",
       "    <tr>\n",
       "      <th>std</th>\n",
       "      <td>434.386422</td>\n",
       "      <td>101.770110</td>\n",
       "      <td>100.047186</td>\n",
       "      <td>1655.995540</td>\n",
       "      <td>720.507141</td>\n",
       "      <td>122.243560</td>\n",
       "      <td>3746.138486</td>\n",
       "      <td>30.473635</td>\n",
       "      <td>6264.894555</td>\n",
       "      <td>6349.779335</td>\n",
       "      <td>22.881972</td>\n",
       "      <td>17.341558</td>\n",
       "      <td>15.660181</td>\n",
       "      <td>117.043219</td>\n",
       "      <td>5.951389</td>\n",
       "      <td>10.485619</td>\n",
       "      <td>2706.629533</td>\n",
       "      <td>0.353946</td>\n",
       "      <td>0.393807</td>\n",
       "      <td>0.518030</td>\n",
       "      <td>11.025730</td>\n",
       "      <td>5.172820</td>\n",
       "      <td>31.982420</td>\n",
       "      <td>2.722736</td>\n",
       "      <td>8.733082</td>\n",
       "      <td>10805.425263</td>\n",
       "      <td>718.420703</td>\n",
       "    </tr>\n",
       "    <tr>\n",
       "      <th>min</th>\n",
       "      <td>0.000000</td>\n",
       "      <td>1948.000000</td>\n",
       "      <td>0.000000</td>\n",
       "      <td>-210.000000</td>\n",
       "      <td>0.000000</td>\n",
       "      <td>0.000000</td>\n",
       "      <td>-115.000000</td>\n",
       "      <td>0.000000</td>\n",
       "      <td>0.000000</td>\n",
       "      <td>0.000000</td>\n",
       "      <td>0.000000</td>\n",
       "      <td>-62.000000</td>\n",
       "      <td>-38.000000</td>\n",
       "      <td>0.000000</td>\n",
       "      <td>0.000000</td>\n",
       "      <td>0.000000</td>\n",
       "      <td>-30536.000000</td>\n",
       "      <td>0.000000</td>\n",
       "      <td>0.000000</td>\n",
       "      <td>0.000000</td>\n",
       "      <td>1.000000</td>\n",
       "      <td>1.000000</td>\n",
       "      <td>1.000000</td>\n",
       "      <td>1.000000</td>\n",
       "      <td>1.000000</td>\n",
       "      <td>0.000000</td>\n",
       "      <td>0.000000</td>\n",
       "    </tr>\n",
       "    <tr>\n",
       "      <th>25%</th>\n",
       "      <td>1100.000000</td>\n",
       "      <td>1988.000000</td>\n",
       "      <td>0.000000</td>\n",
       "      <td>20.000000</td>\n",
       "      <td>0.000000</td>\n",
       "      <td>0.000000</td>\n",
       "      <td>0.000000</td>\n",
       "      <td>0.000000</td>\n",
       "      <td>0.000000</td>\n",
       "      <td>0.000000</td>\n",
       "      <td>0.000000</td>\n",
       "      <td>12.000000</td>\n",
       "      <td>0.000000</td>\n",
       "      <td>45.000000</td>\n",
       "      <td>4.000000</td>\n",
       "      <td>0.000000</td>\n",
       "      <td>0.000000</td>\n",
       "      <td>0.000000</td>\n",
       "      <td>0.000000</td>\n",
       "      <td>0.000000</td>\n",
       "      <td>1.000000</td>\n",
       "      <td>1.000000</td>\n",
       "      <td>1.000000</td>\n",
       "      <td>1.000000</td>\n",
       "      <td>1.000000</td>\n",
       "      <td>945.000000</td>\n",
       "      <td>1.000000</td>\n",
       "    </tr>\n",
       "    <tr>\n",
       "      <th>50%</th>\n",
       "      <td>1400.000000</td>\n",
       "      <td>1996.000000</td>\n",
       "      <td>0.000000</td>\n",
       "      <td>434.000000</td>\n",
       "      <td>1153.000000</td>\n",
       "      <td>40.000000</td>\n",
       "      <td>128.000000</td>\n",
       "      <td>1.000000</td>\n",
       "      <td>0.000000</td>\n",
       "      <td>0.000000</td>\n",
       "      <td>0.000000</td>\n",
       "      <td>21.000000</td>\n",
       "      <td>8.000000</td>\n",
       "      <td>170.000000</td>\n",
       "      <td>7.000000</td>\n",
       "      <td>0.000000</td>\n",
       "      <td>500.000000</td>\n",
       "      <td>0.000000</td>\n",
       "      <td>0.000000</td>\n",
       "      <td>0.000000</td>\n",
       "      <td>2.000000</td>\n",
       "      <td>1.000000</td>\n",
       "      <td>2.000000</td>\n",
       "      <td>1.000000</td>\n",
       "      <td>1.000000</td>\n",
       "      <td>2005.000000</td>\n",
       "      <td>1200.000000</td>\n",
       "    </tr>\n",
       "    <tr>\n",
       "      <th>75%</th>\n",
       "      <td>1700.000000</td>\n",
       "      <td>2005.000000</td>\n",
       "      <td>20.000000</td>\n",
       "      <td>1071.000000</td>\n",
       "      <td>1553.000000</td>\n",
       "      <td>200.000000</td>\n",
       "      <td>845.000000</td>\n",
       "      <td>16.000000</td>\n",
       "      <td>4000.000000</td>\n",
       "      <td>2700.000000</td>\n",
       "      <td>0.000000</td>\n",
       "      <td>27.000000</td>\n",
       "      <td>16.000000</td>\n",
       "      <td>260.000000</td>\n",
       "      <td>10.000000</td>\n",
       "      <td>0.000000</td>\n",
       "      <td>2370.750000</td>\n",
       "      <td>0.000000</td>\n",
       "      <td>0.000000</td>\n",
       "      <td>0.000000</td>\n",
       "      <td>2.000000</td>\n",
       "      <td>2.000000</td>\n",
       "      <td>2.000000</td>\n",
       "      <td>2.000000</td>\n",
       "      <td>2.000000</td>\n",
       "      <td>16468.500000</td>\n",
       "      <td>1600.000000</td>\n",
       "    </tr>\n",
       "    <tr>\n",
       "      <th>max</th>\n",
       "      <td>2400.000000</td>\n",
       "      <td>26733.000000</td>\n",
       "      <td>979.000000</td>\n",
       "      <td>13250.000000</td>\n",
       "      <td>2400.000000</td>\n",
       "      <td>360.000000</td>\n",
       "      <td>751635.000000</td>\n",
       "      <td>1526.000000</td>\n",
       "      <td>250000.000000</td>\n",
       "      <td>250000.000000</td>\n",
       "      <td>4444.000000</td>\n",
       "      <td>1652.000000</td>\n",
       "      <td>1646.000000</td>\n",
       "      <td>999.000000</td>\n",
       "      <td>210.000000</td>\n",
       "      <td>999.000000</td>\n",
       "      <td>26858.000000</td>\n",
       "      <td>44.000000</td>\n",
       "      <td>62.000000</td>\n",
       "      <td>71.000000</td>\n",
       "      <td>349.000000</td>\n",
       "      <td>380.000000</td>\n",
       "      <td>699.000000</td>\n",
       "      <td>111.000000</td>\n",
       "      <td>380.000000</td>\n",
       "      <td>34935.000000</td>\n",
       "      <td>2400.000000</td>\n",
       "    </tr>\n",
       "  </tbody>\n",
       "</table>\n",
       "</div>"
      ],
      "text/plain": [
       "            ev_time       ev_year       apt_dir      apt_elev   wx_obs_time  \\\n",
       "count  76535.000000  76848.000000  37020.000000  48146.000000  69909.000000   \n",
       "mean    1373.671196   1996.920427     49.827769   1055.010344    999.464661   \n",
       "std      434.386422    101.770110    100.047186   1655.995540    720.507141   \n",
       "min        0.000000   1948.000000      0.000000   -210.000000      0.000000   \n",
       "25%     1100.000000   1988.000000      0.000000     20.000000      0.000000   \n",
       "50%     1400.000000   1996.000000      0.000000    434.000000   1153.000000   \n",
       "75%     1700.000000   2005.000000     20.000000   1071.000000   1553.000000   \n",
       "max     2400.000000  26733.000000    979.000000  13250.000000   2400.000000   \n",
       "\n",
       "         wx_obs_dir    wx_obs_elev   wx_obs_dist  sky_nonceil_ht  \\\n",
       "count  63990.000000   67552.000000  65299.000000    56454.000000   \n",
       "mean     103.528911     866.237728     11.339745     3255.918819   \n",
       "std      122.243560    3746.138486     30.473635     6264.894555   \n",
       "min        0.000000    -115.000000      0.000000        0.000000   \n",
       "25%        0.000000       0.000000      0.000000        0.000000   \n",
       "50%       40.000000     128.000000      1.000000        0.000000   \n",
       "75%      200.000000     845.000000     16.000000     4000.000000   \n",
       "max      360.000000  751635.000000   1526.000000   250000.000000   \n",
       "\n",
       "         sky_ceil_ht       vis_rvv       wx_temp     wx_dew_pt  wind_dir_deg  \\\n",
       "count   55382.000000  48754.000000  67043.000000  55773.000000  67986.000000   \n",
       "mean     2930.506861      0.146039     19.850603      6.877970    161.884167   \n",
       "std      6349.779335     22.881972     17.341558     15.660181    117.043219   \n",
       "min         0.000000      0.000000    -62.000000    -38.000000      0.000000   \n",
       "25%         0.000000      0.000000     12.000000      0.000000     45.000000   \n",
       "50%         0.000000      0.000000     21.000000      8.000000    170.000000   \n",
       "75%      2700.000000      0.000000     27.000000     16.000000    260.000000   \n",
       "max    250000.000000   4444.000000   1652.000000   1646.000000    999.000000   \n",
       "\n",
       "       wind_vel_kts      gust_kts   wx_dens_alt    inj_f_grnd    inj_m_grnd  \\\n",
       "count  69080.000000  53729.000000  20314.000000  49522.000000  49526.000000   \n",
       "mean       7.257426      3.650245   1772.910357      0.010157      0.013064   \n",
       "std        5.951389     10.485619   2706.629533      0.353946      0.393807   \n",
       "min        0.000000      0.000000 -30536.000000      0.000000      0.000000   \n",
       "25%        4.000000      0.000000      0.000000      0.000000      0.000000   \n",
       "50%        7.000000      0.000000    500.000000      0.000000      0.000000   \n",
       "75%       10.000000      0.000000   2370.750000      0.000000      0.000000   \n",
       "max      210.000000    999.000000  26858.000000     44.000000     62.000000   \n",
       "\n",
       "         inj_s_grnd     inj_tot_f     inj_tot_m     inj_tot_n     inj_tot_s  \\\n",
       "count  49513.000000  15253.000000  14347.000000  46273.000000  10793.000000   \n",
       "mean       0.011209      2.813545      1.866732      7.574676      1.543037   \n",
       "std        0.518030     11.025730      5.172820     31.982420      2.722736   \n",
       "min        0.000000      1.000000      1.000000      1.000000      1.000000   \n",
       "25%        0.000000      1.000000      1.000000      1.000000      1.000000   \n",
       "50%        0.000000      2.000000      1.000000      2.000000      1.000000   \n",
       "75%        0.000000      2.000000      2.000000      2.000000      2.000000   \n",
       "max       71.000000    349.000000    380.000000    699.000000    111.000000   \n",
       "\n",
       "          inj_tot_t   ntsb_docket  ntsb_notf_tm  \n",
       "count  35217.000000  72695.000000  56995.000000  \n",
       "mean       2.451969   8586.409781   1043.181577  \n",
       "std        8.733082  10805.425263    718.420703  \n",
       "min        1.000000      0.000000      0.000000  \n",
       "25%        1.000000    945.000000      1.000000  \n",
       "50%        1.000000   2005.000000   1200.000000  \n",
       "75%        2.000000  16468.500000   1600.000000  \n",
       "max      380.000000  34935.000000   2400.000000  "
      ]
     },
     "execution_count": 4,
     "metadata": {},
     "output_type": "execute_result"
    }
   ],
   "source": [
    "events.describe()"
   ]
  },
  {
   "cell_type": "code",
   "execution_count": 5,
   "metadata": {
    "collapsed": false
   },
   "outputs": [
    {
     "name": "stdout",
     "output_type": "stream",
     "text": [
      "<class 'pandas.core.frame.DataFrame'>\n",
      "RangeIndex: 76880 entries, 0 to 76879\n",
      "Data columns (total 71 columns):\n",
      "ev_id                  76880 non-null object\n",
      "ntsb_no                76852 non-null object\n",
      "ev_type                76850 non-null object\n",
      "ev_date                76849 non-null object\n",
      "ev_dow                 76846 non-null object\n",
      "ev_time                76535 non-null float64\n",
      "ev_tmzn                76315 non-null object\n",
      "ev_city                76792 non-null object\n",
      "ev_state               73286 non-null object\n",
      "ev_country             76356 non-null object\n",
      "ev_site_zipcode        73857 non-null object\n",
      "ev_year                76848 non-null float64\n",
      "ev_month               76848 non-null object\n",
      "mid_air                76103 non-null object\n",
      "on_ground_collision    76121 non-null object\n",
      "latitude               66492 non-null object\n",
      "longitude              66495 non-null object\n",
      "latlong_acq            10672 non-null object\n",
      "apt_name               66518 non-null object\n",
      "ev_nr_apt_id           66011 non-null object\n",
      "ev_nr_apt_loc          73087 non-null object\n",
      "apt_dist               43704 non-null object\n",
      "apt_dir                37020 non-null float64\n",
      "apt_elev               48146 non-null float64\n",
      "wx_brief_comp          55531 non-null object\n",
      "wx_src_iic             75306 non-null object\n",
      "wx_obs_time            69909 non-null float64\n",
      "wx_obs_dir             63990 non-null float64\n",
      "wx_obs_fac_id          69985 non-null object\n",
      "wx_obs_elev            67552 non-null float64\n",
      "wx_obs_dist            65299 non-null float64\n",
      "wx_obs_tmzn            69058 non-null object\n",
      "light_cond             73893 non-null object\n",
      "sky_cond_nonceil       70410 non-null object\n",
      "sky_nonceil_ht         56454 non-null float64\n",
      "sky_ceil_ht            55382 non-null float64\n",
      "sky_cond_ceil          72184 non-null object\n",
      "vis_rvr                49010 non-null object\n",
      "vis_rvv                48754 non-null float64\n",
      "vis_sm                 72833 non-null object\n",
      "wx_temp                67043 non-null float64\n",
      "wx_dew_pt              55773 non-null float64\n",
      "wind_dir_deg           67986 non-null float64\n",
      "wind_dir_ind           70039 non-null object\n",
      "wind_vel_kts           69080 non-null float64\n",
      "wind_vel_ind           72614 non-null object\n",
      "gust_ind               72053 non-null object\n",
      "gust_kts               53729 non-null float64\n",
      "altimeter              54564 non-null object\n",
      "wx_dens_alt            20314 non-null float64\n",
      "wx_int_precip          49172 non-null object\n",
      "metar                  4540 non-null object\n",
      "ev_highest_injury      76228 non-null object\n",
      "inj_f_grnd             49522 non-null float64\n",
      "inj_m_grnd             49526 non-null float64\n",
      "inj_s_grnd             49513 non-null float64\n",
      "inj_tot_f              15253 non-null float64\n",
      "inj_tot_m              14347 non-null float64\n",
      "inj_tot_n              46273 non-null float64\n",
      "inj_tot_s              10793 non-null float64\n",
      "inj_tot_t              35217 non-null float64\n",
      "invest_agy             75613 non-null object\n",
      "ntsb_docket            72695 non-null float64\n",
      "ntsb_notf_from         28945 non-null object\n",
      "ntsb_notf_date         48477 non-null object\n",
      "ntsb_notf_tm           56995 non-null float64\n",
      "fiche_number           62495 non-null object\n",
      "lchg_date              76844 non-null object\n",
      "lchg_userid            76844 non-null object\n",
      "wx_cond_basic          74855 non-null object\n",
      "faa_dist_office        12833 non-null object\n",
      "dtypes: float64(27), object(44)\n",
      "memory usage: 210.9 MB\n"
     ]
    }
   ],
   "source": [
    "events.info(memory_usage='deep')"
   ]
  },
  {
   "cell_type": "code",
   "execution_count": 6,
   "metadata": {
    "collapsed": true
   },
   "outputs": [],
   "source": [
    "# Cleaning dates\n",
    "date_format = \"%m/%d/%Y %I:%M:%S %p\"\n",
    "date = events['ev_date'].dropna()\n",
    "date = pd.to_datetime(date, format=date_format)\n",
    "time = events['ev_time'].astype(str).str.split('.').str[0].str.zfill(4)\n",
    "time = pd.to_datetime(time, format=\"%H%M\", errors='coerce') # for nan values\n",
    "\n",
    "time.fillna('0000', inplace=True)\n",
    "\n",
    "str_date = date.dt.date.astype(str)\n",
    "str_time = time.dt.time.astype(str)\n",
    "date_time = pd.to_datetime(str_date + ' ' + str_time,\n",
    "                           format=\"%Y-%m-%d %H:%M:%S\")\n",
    "events['ev_date'] = date_time"
   ]
  },
  {
   "cell_type": "code",
   "execution_count": 7,
   "metadata": {
    "collapsed": false
   },
   "outputs": [
    {
     "name": "stdout",
     "output_type": "stream",
     "text": [
      "<class 'pandas.core.frame.DataFrame'>\n",
      "RangeIndex: 76880 entries, 0 to 76879\n",
      "Columns: 71 entries, ev_id to faa_dist_office\n",
      "dtypes: datetime64[ns](1), float64(27), object(43)\n",
      "memory usage: 205.7 MB\n"
     ]
    }
   ],
   "source": [
    "events.info(memory_usage='deep', max_cols=1)"
   ]
  },
  {
   "cell_type": "code",
   "execution_count": 8,
   "metadata": {
    "collapsed": false
   },
   "outputs": [
    {
     "data": {
      "text/plain": [
       "Index(['ev_id', 'ntsb_no', 'ev_type', 'ev_date', 'ev_dow', 'ev_time',\n",
       "       'ev_tmzn', 'ev_city', 'ev_state', 'ev_country', 'ev_site_zipcode',\n",
       "       'ev_year', 'ev_month', 'mid_air', 'on_ground_collision', 'latitude',\n",
       "       'longitude', 'latlong_acq', 'apt_name', 'ev_nr_apt_id', 'ev_nr_apt_loc',\n",
       "       'apt_dist', 'apt_dir', 'apt_elev', 'wx_brief_comp', 'wx_src_iic',\n",
       "       'wx_obs_time', 'wx_obs_dir', 'wx_obs_fac_id', 'wx_obs_elev',\n",
       "       'wx_obs_dist', 'wx_obs_tmzn', 'light_cond', 'sky_cond_nonceil',\n",
       "       'sky_nonceil_ht', 'sky_ceil_ht', 'sky_cond_ceil', 'vis_rvr', 'vis_rvv',\n",
       "       'vis_sm', 'wx_temp', 'wx_dew_pt', 'wind_dir_deg', 'wind_dir_ind',\n",
       "       'wind_vel_kts', 'wind_vel_ind', 'gust_ind', 'gust_kts', 'altimeter',\n",
       "       'wx_dens_alt', 'wx_int_precip', 'metar', 'ev_highest_injury',\n",
       "       'inj_f_grnd', 'inj_m_grnd', 'inj_s_grnd', 'inj_tot_f', 'inj_tot_m',\n",
       "       'inj_tot_n', 'inj_tot_s', 'inj_tot_t', 'invest_agy', 'ntsb_docket',\n",
       "       'ntsb_notf_from', 'ntsb_notf_date', 'ntsb_notf_tm', 'fiche_number',\n",
       "       'lchg_date', 'lchg_userid', 'wx_cond_basic', 'faa_dist_office'],\n",
       "      dtype='object')"
      ]
     },
     "execution_count": 8,
     "metadata": {},
     "output_type": "execute_result"
    }
   ],
   "source": [
    "events.columns"
   ]
  },
  {
   "cell_type": "code",
   "execution_count": 9,
   "metadata": {
    "collapsed": true
   },
   "outputs": [],
   "source": [
    "events.drop(['ev_dow', 'ev_time', 'ev_tmzn', 'ev_year', 'ev_month'], axis=1, inplace=True)"
   ]
  },
  {
   "cell_type": "markdown",
   "metadata": {},
   "source": [
    "Dropping events previuos to 1982 (They shouldn't be here!)"
   ]
  },
  {
   "cell_type": "code",
   "execution_count": 10,
   "metadata": {
    "collapsed": false
   },
   "outputs": [
    {
     "name": "stdout",
     "output_type": "stream",
     "text": [
      "Dates before 1982:  6\n"
     ]
    }
   ],
   "source": [
    "cond = events['ev_date'].dt.year < 1982\n",
    "print('Dates before 1982: ',cond.sum())\n",
    "indx = events[cond].index\n",
    "events.drop(indx, inplace=True)"
   ]
  },
  {
   "cell_type": "code",
   "execution_count": 11,
   "metadata": {
    "collapsed": false
   },
   "outputs": [
    {
     "data": {
      "text/plain": [
       "196277.1220703125"
      ]
     },
     "execution_count": 11,
     "metadata": {},
     "output_type": "execute_result"
    }
   ],
   "source": [
    "events.memory_usage(deep=True).sum() / 1024"
   ]
  },
  {
   "cell_type": "markdown",
   "metadata": {},
   "source": [
    "##### Discarding incidents "
   ]
  },
  {
   "cell_type": "code",
   "execution_count": 12,
   "metadata": {
    "collapsed": false
   },
   "outputs": [
    {
     "data": {
      "text/plain": [
       "dict_keys(['ACC', 'INC'])"
      ]
     },
     "execution_count": 12,
     "metadata": {},
     "output_type": "execute_result"
    }
   ],
   "source": [
    "gby_ev_type = events.groupby('ev_type')\n",
    "gby_ev_type.groups.keys()"
   ]
  },
  {
   "cell_type": "code",
   "execution_count": 13,
   "metadata": {
    "collapsed": false
   },
   "outputs": [],
   "source": [
    "events = gby_ev_type.get_group('ACC')"
   ]
  },
  {
   "cell_type": "markdown",
   "metadata": {},
   "source": [
    "##### Focus on commercial flights "
   ]
  },
  {
   "cell_type": "code",
   "execution_count": 14,
   "metadata": {
    "collapsed": false
   },
   "outputs": [],
   "source": [
    "aircraft = pd.read_csv(\"./data/aircraft.csv\",\n",
    "                                    encoding = \"ISO-8859-1\",  # export the table again.\n",
    "                                    sep=';',\n",
    "                                    low_memory=False)"
   ]
  },
  {
   "cell_type": "code",
   "execution_count": 15,
   "metadata": {
    "collapsed": false
   },
   "outputs": [
    {
     "data": {
      "text/html": [
       "<div>\n",
       "<table border=\"1\" class=\"dataframe\">\n",
       "  <thead>\n",
       "    <tr style=\"text-align: right;\">\n",
       "      <th></th>\n",
       "      <th>ev_id</th>\n",
       "      <th>Aircraft_Key</th>\n",
       "      <th>regis_no</th>\n",
       "      <th>ntsb_no</th>\n",
       "      <th>acft_missing</th>\n",
       "      <th>far_part</th>\n",
       "      <th>flt_plan_filed</th>\n",
       "      <th>flight_plan_activated</th>\n",
       "      <th>damage</th>\n",
       "      <th>acft_fire</th>\n",
       "      <th>acft_expl</th>\n",
       "      <th>acft_make</th>\n",
       "      <th>acft_model</th>\n",
       "      <th>acft_series</th>\n",
       "      <th>acft_serial_no</th>\n",
       "      <th>cert_max_gr_wt</th>\n",
       "      <th>acft_category</th>\n",
       "      <th>acft_reg_cls</th>\n",
       "      <th>homebuilt</th>\n",
       "      <th>fc_seats</th>\n",
       "      <th>cc_seats</th>\n",
       "      <th>pax_seats</th>\n",
       "      <th>total_seats</th>\n",
       "      <th>num_eng</th>\n",
       "      <th>fixed_retractable</th>\n",
       "      <th>type_last_insp</th>\n",
       "      <th>date_last_insp</th>\n",
       "      <th>afm_hrs_last_insp</th>\n",
       "      <th>afm_hrs</th>\n",
       "      <th>elt_install</th>\n",
       "      <th>elt_oper</th>\n",
       "      <th>elt_aided_loc_ev</th>\n",
       "      <th>elt_type</th>\n",
       "      <th>owner_acft</th>\n",
       "      <th>owner_street</th>\n",
       "      <th>...</th>\n",
       "      <th>second_pilot</th>\n",
       "      <th>dprt_pt_same_ev</th>\n",
       "      <th>dprt_apt_id</th>\n",
       "      <th>dprt_city</th>\n",
       "      <th>dprt_state</th>\n",
       "      <th>dprt_country</th>\n",
       "      <th>dprt_time</th>\n",
       "      <th>dprt_timezn</th>\n",
       "      <th>dest_same_local</th>\n",
       "      <th>dest_apt_id</th>\n",
       "      <th>dest_city</th>\n",
       "      <th>dest_state</th>\n",
       "      <th>dest_country</th>\n",
       "      <th>phase_flt_spec</th>\n",
       "      <th>report_to_icao</th>\n",
       "      <th>evacuation</th>\n",
       "      <th>lchg_date</th>\n",
       "      <th>lchg_userid</th>\n",
       "      <th>afm_hrs_since</th>\n",
       "      <th>rwy_num</th>\n",
       "      <th>rwy_len</th>\n",
       "      <th>rwy_width</th>\n",
       "      <th>site_seeing</th>\n",
       "      <th>air_medical</th>\n",
       "      <th>med_type_flight</th>\n",
       "      <th>acft_year</th>\n",
       "      <th>fuel_on_board</th>\n",
       "      <th>commercial_space_flight</th>\n",
       "      <th>unmanned</th>\n",
       "      <th>ifr_equipped_cert</th>\n",
       "      <th>elt_mounted_aircraft</th>\n",
       "      <th>elt_connected_antenna</th>\n",
       "      <th>elt_manufacturer</th>\n",
       "      <th>elt_model</th>\n",
       "      <th>elt_reason_other</th>\n",
       "    </tr>\n",
       "  </thead>\n",
       "  <tbody>\n",
       "    <tr>\n",
       "      <th>0</th>\n",
       "      <td>20001204X00000</td>\n",
       "      <td>1</td>\n",
       "      <td>N6312H</td>\n",
       "      <td>ANC99FA021</td>\n",
       "      <td>N</td>\n",
       "      <td>135</td>\n",
       "      <td>CVFR</td>\n",
       "      <td>NaN</td>\n",
       "      <td>SUBS</td>\n",
       "      <td>NONE</td>\n",
       "      <td>NONE</td>\n",
       "      <td>Cessna</td>\n",
       "      <td>207</td>\n",
       "      <td>207</td>\n",
       "      <td>20700478</td>\n",
       "      <td>3800.0</td>\n",
       "      <td>AIR</td>\n",
       "      <td>USUS</td>\n",
       "      <td>N</td>\n",
       "      <td>NaN</td>\n",
       "      <td>NaN</td>\n",
       "      <td>NaN</td>\n",
       "      <td>2.0</td>\n",
       "      <td>1.0</td>\n",
       "      <td>NaN</td>\n",
       "      <td>100H</td>\n",
       "      <td>16/12/1998</td>\n",
       "      <td>75</td>\n",
       "      <td>10286</td>\n",
       "      <td>Y</td>\n",
       "      <td>Y</td>\n",
       "      <td>U</td>\n",
       "      <td>NaN</td>\n",
       "      <td>VILLAGE AVIATION, INC.</td>\n",
       "      <td>P.O.BOX 221188</td>\n",
       "      <td>...</td>\n",
       "      <td>N</td>\n",
       "      <td>N</td>\n",
       "      <td>BET</td>\n",
       "      <td>BETHEL</td>\n",
       "      <td>AK</td>\n",
       "      <td>NaN</td>\n",
       "      <td>1245.0</td>\n",
       "      <td>AST</td>\n",
       "      <td>SAME</td>\n",
       "      <td>NaN</td>\n",
       "      <td>NaN</td>\n",
       "      <td>NaN</td>\n",
       "      <td>NaN</td>\n",
       "      <td>560.0</td>\n",
       "      <td>NaN</td>\n",
       "      <td>NaN</td>\n",
       "      <td>02/01/2001</td>\n",
       "      <td>dbo</td>\n",
       "      <td>NaN</td>\n",
       "      <td>0</td>\n",
       "      <td>NaN</td>\n",
       "      <td>NaN</td>\n",
       "      <td>N</td>\n",
       "      <td>N</td>\n",
       "      <td>NaN</td>\n",
       "      <td>NaN</td>\n",
       "      <td>NaN</td>\n",
       "      <td>FALSO</td>\n",
       "      <td>FALSO</td>\n",
       "      <td>FALSO</td>\n",
       "      <td>FALSO</td>\n",
       "      <td>FALSO</td>\n",
       "      <td>NaN</td>\n",
       "      <td>NaN</td>\n",
       "      <td>NaN</td>\n",
       "    </tr>\n",
       "  </tbody>\n",
       "</table>\n",
       "<p>1 rows × 93 columns</p>\n",
       "</div>"
      ],
      "text/plain": [
       "            ev_id  Aircraft_Key regis_no     ntsb_no acft_missing far_part  \\\n",
       "0  20001204X00000             1   N6312H  ANC99FA021            N      135   \n",
       "\n",
       "  flt_plan_filed flight_plan_activated damage acft_fire acft_expl acft_make  \\\n",
       "0           CVFR                   NaN   SUBS      NONE      NONE    Cessna   \n",
       "\n",
       "  acft_model acft_series acft_serial_no  cert_max_gr_wt acft_category  \\\n",
       "0        207         207       20700478          3800.0           AIR   \n",
       "\n",
       "  acft_reg_cls homebuilt  fc_seats  cc_seats  pax_seats  total_seats  num_eng  \\\n",
       "0         USUS         N       NaN       NaN        NaN          2.0      1.0   \n",
       "\n",
       "  fixed_retractable type_last_insp date_last_insp afm_hrs_last_insp afm_hrs  \\\n",
       "0               NaN           100H     16/12/1998                75   10286   \n",
       "\n",
       "  elt_install elt_oper elt_aided_loc_ev elt_type              owner_acft  \\\n",
       "0           Y        Y                U      NaN  VILLAGE AVIATION, INC.   \n",
       "\n",
       "     owner_street       ...        second_pilot dprt_pt_same_ev dprt_apt_id  \\\n",
       "0  P.O.BOX 221188       ...                   N               N         BET   \n",
       "\n",
       "  dprt_city dprt_state dprt_country dprt_time dprt_timezn dest_same_local  \\\n",
       "0    BETHEL         AK          NaN    1245.0         AST            SAME   \n",
       "\n",
       "  dest_apt_id dest_city dest_state dest_country phase_flt_spec report_to_icao  \\\n",
       "0         NaN       NaN        NaN          NaN          560.0            NaN   \n",
       "\n",
       "  evacuation   lchg_date lchg_userid afm_hrs_since rwy_num rwy_len rwy_width  \\\n",
       "0        NaN  02/01/2001         dbo           NaN       0     NaN       NaN   \n",
       "\n",
       "  site_seeing air_medical med_type_flight acft_year fuel_on_board  \\\n",
       "0           N           N             NaN       NaN           NaN   \n",
       "\n",
       "  commercial_space_flight unmanned  ifr_equipped_cert elt_mounted_aircraft  \\\n",
       "0                   FALSO    FALSO              FALSO                FALSO   \n",
       "\n",
       "  elt_connected_antenna elt_manufacturer elt_model elt_reason_other  \n",
       "0                 FALSO              NaN       NaN              NaN  \n",
       "\n",
       "[1 rows x 93 columns]"
      ]
     },
     "execution_count": 15,
     "metadata": {},
     "output_type": "execute_result"
    }
   ],
   "source": [
    "aircraft.head(1)"
   ]
  },
  {
   "cell_type": "code",
   "execution_count": 16,
   "metadata": {
    "collapsed": false
   },
   "outputs": [
    {
     "data": {
      "text/plain": [
       "dict_keys(['129', '437', 'NUSN', '125', '133', 'NUSC', 'ARMF', 'UNK', '091F', '091', '103', '135', '137', 'PUBU', '121', '091K'])"
      ]
     },
     "execution_count": 16,
     "metadata": {},
     "output_type": "execute_result"
    }
   ],
   "source": [
    "gby_far_part = aircraft.groupby('far_part')\n",
    "gby_far_part.groups.keys()"
   ]
  },
  {
   "cell_type": "raw",
   "metadata": {},
   "source": [
    "It seems that you cannot pick more tha one group at the same time, so I will use `isin` another option is to get group by group and concat"
   ]
  },
  {
   "cell_type": "code",
   "execution_count": 17,
   "metadata": {
    "collapsed": true
   },
   "outputs": [],
   "source": [
    "desired_far_parts = ['NUSC',  # Non-U.S. Commercial\n",
    "                     '121',      # Air Carrier\n",
    "                    # '129',      # Foreign\n",
    "                   # '091',      # General Aviation\n",
    "                 #    'NUSN',  # Non-U.S. Non-Commercial\n",
    "                   #  'UNK',     # Unknown\n",
    "                     '135']"
   ]
  },
  {
   "cell_type": "code",
   "execution_count": 18,
   "metadata": {
    "collapsed": false
   },
   "outputs": [
    {
     "data": {
      "text/plain": [
       "0     20001204X00000\n",
       "1     20001204X00001\n",
       "2     20001204X00002\n",
       "4     20001204X00004\n",
       "20    20001204X00020\n",
       "Name: ev_id, dtype: object"
      ]
     },
     "execution_count": 18,
     "metadata": {},
     "output_type": "execute_result"
    }
   ],
   "source": [
    "cond = aircraft['far_part'].isin(desired_far_parts)\n",
    "ev_ids_for_desired_far = aircraft[cond]['ev_id'].drop_duplicates()\n",
    "ev_ids_for_desired_far.head()"
   ]
  },
  {
   "cell_type": "code",
   "execution_count": 19,
   "metadata": {
    "collapsed": false
   },
   "outputs": [
    {
     "data": {
      "text/plain": [
       "6574"
      ]
     },
     "execution_count": 19,
     "metadata": {},
     "output_type": "execute_result"
    }
   ],
   "source": [
    "ev_ids_for_desired_far.count()"
   ]
  },
  {
   "cell_type": "code",
   "execution_count": 20,
   "metadata": {
    "collapsed": false
   },
   "outputs": [
    {
     "data": {
      "text/plain": [
       "array(['20001204X00000', '20001204X00001', '20001204X00002', ...,\n",
       "       '20160201X64621', '20160210X70158', '20160222X93713'], dtype=object)"
      ]
     },
     "execution_count": 20,
     "metadata": {},
     "output_type": "execute_result"
    }
   ],
   "source": [
    "ev_ids_for_desired_far.values"
   ]
  },
  {
   "cell_type": "code",
   "execution_count": 21,
   "metadata": {
    "collapsed": false
   },
   "outputs": [
    {
     "data": {
      "text/html": [
       "<div>\n",
       "<table border=\"1\" class=\"dataframe\">\n",
       "  <thead>\n",
       "    <tr style=\"text-align: right;\">\n",
       "      <th></th>\n",
       "      <th>ev_id</th>\n",
       "      <th>Aircraft_Key</th>\n",
       "      <th>regis_no</th>\n",
       "      <th>ntsb_no</th>\n",
       "      <th>acft_missing</th>\n",
       "      <th>far_part</th>\n",
       "      <th>flt_plan_filed</th>\n",
       "      <th>flight_plan_activated</th>\n",
       "      <th>damage</th>\n",
       "      <th>acft_fire</th>\n",
       "      <th>acft_expl</th>\n",
       "      <th>acft_make</th>\n",
       "      <th>acft_model</th>\n",
       "      <th>acft_series</th>\n",
       "      <th>acft_serial_no</th>\n",
       "      <th>cert_max_gr_wt</th>\n",
       "      <th>acft_category</th>\n",
       "      <th>acft_reg_cls</th>\n",
       "      <th>homebuilt</th>\n",
       "      <th>fc_seats</th>\n",
       "      <th>cc_seats</th>\n",
       "      <th>pax_seats</th>\n",
       "      <th>total_seats</th>\n",
       "      <th>num_eng</th>\n",
       "      <th>fixed_retractable</th>\n",
       "      <th>type_last_insp</th>\n",
       "      <th>date_last_insp</th>\n",
       "      <th>afm_hrs_last_insp</th>\n",
       "      <th>afm_hrs</th>\n",
       "      <th>elt_install</th>\n",
       "      <th>elt_oper</th>\n",
       "      <th>elt_aided_loc_ev</th>\n",
       "      <th>elt_type</th>\n",
       "      <th>owner_acft</th>\n",
       "      <th>owner_street</th>\n",
       "      <th>...</th>\n",
       "      <th>second_pilot</th>\n",
       "      <th>dprt_pt_same_ev</th>\n",
       "      <th>dprt_apt_id</th>\n",
       "      <th>dprt_city</th>\n",
       "      <th>dprt_state</th>\n",
       "      <th>dprt_country</th>\n",
       "      <th>dprt_time</th>\n",
       "      <th>dprt_timezn</th>\n",
       "      <th>dest_same_local</th>\n",
       "      <th>dest_apt_id</th>\n",
       "      <th>dest_city</th>\n",
       "      <th>dest_state</th>\n",
       "      <th>dest_country</th>\n",
       "      <th>phase_flt_spec</th>\n",
       "      <th>report_to_icao</th>\n",
       "      <th>evacuation</th>\n",
       "      <th>lchg_date</th>\n",
       "      <th>lchg_userid</th>\n",
       "      <th>afm_hrs_since</th>\n",
       "      <th>rwy_num</th>\n",
       "      <th>rwy_len</th>\n",
       "      <th>rwy_width</th>\n",
       "      <th>site_seeing</th>\n",
       "      <th>air_medical</th>\n",
       "      <th>med_type_flight</th>\n",
       "      <th>acft_year</th>\n",
       "      <th>fuel_on_board</th>\n",
       "      <th>commercial_space_flight</th>\n",
       "      <th>unmanned</th>\n",
       "      <th>ifr_equipped_cert</th>\n",
       "      <th>elt_mounted_aircraft</th>\n",
       "      <th>elt_connected_antenna</th>\n",
       "      <th>elt_manufacturer</th>\n",
       "      <th>elt_model</th>\n",
       "      <th>elt_reason_other</th>\n",
       "    </tr>\n",
       "  </thead>\n",
       "  <tbody>\n",
       "    <tr>\n",
       "      <th>0</th>\n",
       "      <td>20001204X00000</td>\n",
       "      <td>1</td>\n",
       "      <td>N6312H</td>\n",
       "      <td>ANC99FA021</td>\n",
       "      <td>N</td>\n",
       "      <td>135</td>\n",
       "      <td>CVFR</td>\n",
       "      <td>NaN</td>\n",
       "      <td>SUBS</td>\n",
       "      <td>NONE</td>\n",
       "      <td>NONE</td>\n",
       "      <td>Cessna</td>\n",
       "      <td>207</td>\n",
       "      <td>207</td>\n",
       "      <td>20700478</td>\n",
       "      <td>3800.0</td>\n",
       "      <td>AIR</td>\n",
       "      <td>USUS</td>\n",
       "      <td>N</td>\n",
       "      <td>NaN</td>\n",
       "      <td>NaN</td>\n",
       "      <td>NaN</td>\n",
       "      <td>2.0</td>\n",
       "      <td>1.0</td>\n",
       "      <td>NaN</td>\n",
       "      <td>100H</td>\n",
       "      <td>16/12/1998</td>\n",
       "      <td>75</td>\n",
       "      <td>10286</td>\n",
       "      <td>Y</td>\n",
       "      <td>Y</td>\n",
       "      <td>U</td>\n",
       "      <td>NaN</td>\n",
       "      <td>VILLAGE AVIATION, INC.</td>\n",
       "      <td>P.O.BOX 221188</td>\n",
       "      <td>...</td>\n",
       "      <td>N</td>\n",
       "      <td>N</td>\n",
       "      <td>BET</td>\n",
       "      <td>BETHEL</td>\n",
       "      <td>AK</td>\n",
       "      <td>NaN</td>\n",
       "      <td>1245.0</td>\n",
       "      <td>AST</td>\n",
       "      <td>SAME</td>\n",
       "      <td>NaN</td>\n",
       "      <td>NaN</td>\n",
       "      <td>NaN</td>\n",
       "      <td>NaN</td>\n",
       "      <td>560.0</td>\n",
       "      <td>NaN</td>\n",
       "      <td>NaN</td>\n",
       "      <td>02/01/2001</td>\n",
       "      <td>dbo</td>\n",
       "      <td>NaN</td>\n",
       "      <td>0</td>\n",
       "      <td>NaN</td>\n",
       "      <td>NaN</td>\n",
       "      <td>N</td>\n",
       "      <td>N</td>\n",
       "      <td>NaN</td>\n",
       "      <td>NaN</td>\n",
       "      <td>NaN</td>\n",
       "      <td>FALSO</td>\n",
       "      <td>FALSO</td>\n",
       "      <td>FALSO</td>\n",
       "      <td>FALSO</td>\n",
       "      <td>FALSO</td>\n",
       "      <td>NaN</td>\n",
       "      <td>NaN</td>\n",
       "      <td>NaN</td>\n",
       "    </tr>\n",
       "    <tr>\n",
       "      <th>1</th>\n",
       "      <td>20001204X00001</td>\n",
       "      <td>1</td>\n",
       "      <td>N481EV</td>\n",
       "      <td>ANC99IA025</td>\n",
       "      <td>N</td>\n",
       "      <td>121</td>\n",
       "      <td>IFR</td>\n",
       "      <td>NaN</td>\n",
       "      <td>MINR</td>\n",
       "      <td>GRD</td>\n",
       "      <td>NONE</td>\n",
       "      <td>Boeing</td>\n",
       "      <td>747-100</td>\n",
       "      <td>747-100</td>\n",
       "      <td>19896</td>\n",
       "      <td>750000.0</td>\n",
       "      <td>AIR</td>\n",
       "      <td>USUS</td>\n",
       "      <td>N</td>\n",
       "      <td>NaN</td>\n",
       "      <td>NaN</td>\n",
       "      <td>NaN</td>\n",
       "      <td>9.0</td>\n",
       "      <td>4.0</td>\n",
       "      <td>RETR</td>\n",
       "      <td>COAW</td>\n",
       "      <td>06/01/1999</td>\n",
       "      <td>113</td>\n",
       "      <td>26359</td>\n",
       "      <td>Y</td>\n",
       "      <td>U</td>\n",
       "      <td>U</td>\n",
       "      <td>NaN</td>\n",
       "      <td>FIRST SECURITY BANK, NA</td>\n",
       "      <td>79 S. MAIN STREET</td>\n",
       "      <td>...</td>\n",
       "      <td>Y</td>\n",
       "      <td>N</td>\n",
       "      <td>RJCC</td>\n",
       "      <td>CHITOSE</td>\n",
       "      <td>JA</td>\n",
       "      <td>NaN</td>\n",
       "      <td>2159.0</td>\n",
       "      <td>AST</td>\n",
       "      <td>SAME</td>\n",
       "      <td>FAI</td>\n",
       "      <td>NaN</td>\n",
       "      <td>NaN</td>\n",
       "      <td>NaN</td>\n",
       "      <td>570.0</td>\n",
       "      <td>NaN</td>\n",
       "      <td>NaN</td>\n",
       "      <td>02/01/2001</td>\n",
       "      <td>dbo</td>\n",
       "      <td>NaN</td>\n",
       "      <td>1L</td>\n",
       "      <td>11800.0</td>\n",
       "      <td>150.0</td>\n",
       "      <td>N</td>\n",
       "      <td>N</td>\n",
       "      <td>NaN</td>\n",
       "      <td>NaN</td>\n",
       "      <td>NaN</td>\n",
       "      <td>FALSO</td>\n",
       "      <td>FALSO</td>\n",
       "      <td>FALSO</td>\n",
       "      <td>FALSO</td>\n",
       "      <td>FALSO</td>\n",
       "      <td>NaN</td>\n",
       "      <td>NaN</td>\n",
       "      <td>NaN</td>\n",
       "    </tr>\n",
       "    <tr>\n",
       "      <th>2</th>\n",
       "      <td>20001204X00002</td>\n",
       "      <td>1</td>\n",
       "      <td>N6GR</td>\n",
       "      <td>ANC99LA020</td>\n",
       "      <td>N</td>\n",
       "      <td>135</td>\n",
       "      <td>CVFR</td>\n",
       "      <td>NaN</td>\n",
       "      <td>SUBS</td>\n",
       "      <td>NONE</td>\n",
       "      <td>NONE</td>\n",
       "      <td>Piper</td>\n",
       "      <td>PA-31-350</td>\n",
       "      <td>PA-31-350</td>\n",
       "      <td>31-7752130</td>\n",
       "      <td>7369.0</td>\n",
       "      <td>AIR</td>\n",
       "      <td>USUS</td>\n",
       "      <td>N</td>\n",
       "      <td>NaN</td>\n",
       "      <td>NaN</td>\n",
       "      <td>NaN</td>\n",
       "      <td>6.0</td>\n",
       "      <td>2.0</td>\n",
       "      <td>RETR</td>\n",
       "      <td>AAIP</td>\n",
       "      <td>21/12/1998</td>\n",
       "      <td>32</td>\n",
       "      <td>5290</td>\n",
       "      <td>Y</td>\n",
       "      <td>N</td>\n",
       "      <td>U</td>\n",
       "      <td>NaN</td>\n",
       "      <td>JIM AIR INC.</td>\n",
       "      <td>4200 FLOATPLANE DR.</td>\n",
       "      <td>...</td>\n",
       "      <td>N</td>\n",
       "      <td>N</td>\n",
       "      <td>C05</td>\n",
       "      <td>CHENEGA BAY</td>\n",
       "      <td>AK</td>\n",
       "      <td>NaN</td>\n",
       "      <td>1340.0</td>\n",
       "      <td>AST</td>\n",
       "      <td>SAME</td>\n",
       "      <td>ANC</td>\n",
       "      <td>NaN</td>\n",
       "      <td>NaN</td>\n",
       "      <td>NaN</td>\n",
       "      <td>0.0</td>\n",
       "      <td>NaN</td>\n",
       "      <td>NaN</td>\n",
       "      <td>27/04/2001</td>\n",
       "      <td>dbo</td>\n",
       "      <td>NaN</td>\n",
       "      <td>0</td>\n",
       "      <td>NaN</td>\n",
       "      <td>NaN</td>\n",
       "      <td>N</td>\n",
       "      <td>N</td>\n",
       "      <td>NaN</td>\n",
       "      <td>NaN</td>\n",
       "      <td>NaN</td>\n",
       "      <td>FALSO</td>\n",
       "      <td>FALSO</td>\n",
       "      <td>FALSO</td>\n",
       "      <td>FALSO</td>\n",
       "      <td>FALSO</td>\n",
       "      <td>NaN</td>\n",
       "      <td>NaN</td>\n",
       "      <td>NaN</td>\n",
       "    </tr>\n",
       "    <tr>\n",
       "      <th>4</th>\n",
       "      <td>20001204X00004</td>\n",
       "      <td>1</td>\n",
       "      <td>N19TA</td>\n",
       "      <td>ANC99LA023</td>\n",
       "      <td>N</td>\n",
       "      <td>135</td>\n",
       "      <td>CVFR</td>\n",
       "      <td>NaN</td>\n",
       "      <td>SUBS</td>\n",
       "      <td>NONE</td>\n",
       "      <td>NONE</td>\n",
       "      <td>Cessna</td>\n",
       "      <td>207</td>\n",
       "      <td>207</td>\n",
       "      <td>20700468</td>\n",
       "      <td>3800.0</td>\n",
       "      <td>AIR</td>\n",
       "      <td>USUS</td>\n",
       "      <td>N</td>\n",
       "      <td>NaN</td>\n",
       "      <td>NaN</td>\n",
       "      <td>NaN</td>\n",
       "      <td>6.0</td>\n",
       "      <td>1.0</td>\n",
       "      <td>NaN</td>\n",
       "      <td>AAIP</td>\n",
       "      <td>14/12/1998</td>\n",
       "      <td>49</td>\n",
       "      <td>14424</td>\n",
       "      <td>Y</td>\n",
       "      <td>Y</td>\n",
       "      <td>N</td>\n",
       "      <td>NaN</td>\n",
       "      <td>ARCTIC TRANSPORTATION SERVICES</td>\n",
       "      <td>5701 SILVERADO WAY, SUITE L</td>\n",
       "      <td>...</td>\n",
       "      <td>N</td>\n",
       "      <td>Y</td>\n",
       "      <td>VAK</td>\n",
       "      <td>NaN</td>\n",
       "      <td>AK</td>\n",
       "      <td>NaN</td>\n",
       "      <td>947.0</td>\n",
       "      <td>AST</td>\n",
       "      <td>LOCL</td>\n",
       "      <td>NaN</td>\n",
       "      <td>NaN</td>\n",
       "      <td>NaN</td>\n",
       "      <td>NaN</td>\n",
       "      <td>550.0</td>\n",
       "      <td>NaN</td>\n",
       "      <td>NaN</td>\n",
       "      <td>02/01/2001</td>\n",
       "      <td>dbo</td>\n",
       "      <td>NaN</td>\n",
       "      <td>14</td>\n",
       "      <td>2610.0</td>\n",
       "      <td>40.0</td>\n",
       "      <td>N</td>\n",
       "      <td>N</td>\n",
       "      <td>NaN</td>\n",
       "      <td>NaN</td>\n",
       "      <td>NaN</td>\n",
       "      <td>FALSO</td>\n",
       "      <td>FALSO</td>\n",
       "      <td>FALSO</td>\n",
       "      <td>FALSO</td>\n",
       "      <td>FALSO</td>\n",
       "      <td>NaN</td>\n",
       "      <td>NaN</td>\n",
       "      <td>NaN</td>\n",
       "    </tr>\n",
       "    <tr>\n",
       "      <th>20</th>\n",
       "      <td>20001204X00020</td>\n",
       "      <td>1</td>\n",
       "      <td>N50BA</td>\n",
       "      <td>CHI99LA059</td>\n",
       "      <td>N</td>\n",
       "      <td>135</td>\n",
       "      <td>IFR</td>\n",
       "      <td>NaN</td>\n",
       "      <td>SUBS</td>\n",
       "      <td>NONE</td>\n",
       "      <td>NONE</td>\n",
       "      <td>Rockwell</td>\n",
       "      <td>500-S</td>\n",
       "      <td>500-S</td>\n",
       "      <td>1860-39</td>\n",
       "      <td>6750.0</td>\n",
       "      <td>AIR</td>\n",
       "      <td>USUS</td>\n",
       "      <td>N</td>\n",
       "      <td>NaN</td>\n",
       "      <td>NaN</td>\n",
       "      <td>NaN</td>\n",
       "      <td>7.0</td>\n",
       "      <td>2.0</td>\n",
       "      <td>RETR</td>\n",
       "      <td>ANNL</td>\n",
       "      <td>09/10/1998</td>\n",
       "      <td>87</td>\n",
       "      <td>12392</td>\n",
       "      <td>Y</td>\n",
       "      <td>N</td>\n",
       "      <td>U</td>\n",
       "      <td>NaN</td>\n",
       "      <td>BYERLY AVIATION, INC.</td>\n",
       "      <td>GREATER PEORIA AIRPORT</td>\n",
       "      <td>...</td>\n",
       "      <td>N</td>\n",
       "      <td>N</td>\n",
       "      <td>PIA</td>\n",
       "      <td>PEORIA</td>\n",
       "      <td>IL</td>\n",
       "      <td>NaN</td>\n",
       "      <td>1100.0</td>\n",
       "      <td>CST</td>\n",
       "      <td>SAME</td>\n",
       "      <td>C65</td>\n",
       "      <td>NaN</td>\n",
       "      <td>NaN</td>\n",
       "      <td>NaN</td>\n",
       "      <td>0.0</td>\n",
       "      <td>NaN</td>\n",
       "      <td>NaN</td>\n",
       "      <td>27/04/2001</td>\n",
       "      <td>dbo</td>\n",
       "      <td>NaN</td>\n",
       "      <td>10</td>\n",
       "      <td>4400.0</td>\n",
       "      <td>60.0</td>\n",
       "      <td>N</td>\n",
       "      <td>N</td>\n",
       "      <td>NaN</td>\n",
       "      <td>NaN</td>\n",
       "      <td>NaN</td>\n",
       "      <td>FALSO</td>\n",
       "      <td>FALSO</td>\n",
       "      <td>FALSO</td>\n",
       "      <td>FALSO</td>\n",
       "      <td>FALSO</td>\n",
       "      <td>NaN</td>\n",
       "      <td>NaN</td>\n",
       "      <td>NaN</td>\n",
       "    </tr>\n",
       "  </tbody>\n",
       "</table>\n",
       "<p>5 rows × 93 columns</p>\n",
       "</div>"
      ],
      "text/plain": [
       "             ev_id  Aircraft_Key regis_no     ntsb_no acft_missing far_part  \\\n",
       "0   20001204X00000             1   N6312H  ANC99FA021            N      135   \n",
       "1   20001204X00001             1   N481EV  ANC99IA025            N      121   \n",
       "2   20001204X00002             1     N6GR  ANC99LA020            N      135   \n",
       "4   20001204X00004             1    N19TA  ANC99LA023            N      135   \n",
       "20  20001204X00020             1    N50BA  CHI99LA059            N      135   \n",
       "\n",
       "   flt_plan_filed flight_plan_activated damage acft_fire acft_expl acft_make  \\\n",
       "0            CVFR                   NaN   SUBS      NONE      NONE    Cessna   \n",
       "1             IFR                   NaN   MINR       GRD      NONE    Boeing   \n",
       "2            CVFR                   NaN   SUBS      NONE      NONE     Piper   \n",
       "4            CVFR                   NaN   SUBS      NONE      NONE    Cessna   \n",
       "20            IFR                   NaN   SUBS      NONE      NONE  Rockwell   \n",
       "\n",
       "   acft_model acft_series acft_serial_no  cert_max_gr_wt acft_category  \\\n",
       "0         207         207       20700478          3800.0           AIR   \n",
       "1     747-100     747-100          19896        750000.0           AIR   \n",
       "2   PA-31-350   PA-31-350     31-7752130          7369.0           AIR   \n",
       "4         207         207       20700468          3800.0           AIR   \n",
       "20      500-S       500-S        1860-39          6750.0           AIR   \n",
       "\n",
       "   acft_reg_cls homebuilt  fc_seats  cc_seats  pax_seats  total_seats  \\\n",
       "0          USUS         N       NaN       NaN        NaN          2.0   \n",
       "1          USUS         N       NaN       NaN        NaN          9.0   \n",
       "2          USUS         N       NaN       NaN        NaN          6.0   \n",
       "4          USUS         N       NaN       NaN        NaN          6.0   \n",
       "20         USUS         N       NaN       NaN        NaN          7.0   \n",
       "\n",
       "    num_eng fixed_retractable type_last_insp date_last_insp afm_hrs_last_insp  \\\n",
       "0       1.0               NaN           100H     16/12/1998                75   \n",
       "1       4.0              RETR           COAW     06/01/1999               113   \n",
       "2       2.0              RETR           AAIP     21/12/1998                32   \n",
       "4       1.0               NaN           AAIP     14/12/1998                49   \n",
       "20      2.0              RETR           ANNL     09/10/1998                87   \n",
       "\n",
       "   afm_hrs elt_install elt_oper elt_aided_loc_ev elt_type  \\\n",
       "0    10286           Y        Y                U      NaN   \n",
       "1    26359           Y        U                U      NaN   \n",
       "2     5290           Y        N                U      NaN   \n",
       "4    14424           Y        Y                N      NaN   \n",
       "20   12392           Y        N                U      NaN   \n",
       "\n",
       "                        owner_acft                 owner_street  \\\n",
       "0           VILLAGE AVIATION, INC.               P.O.BOX 221188   \n",
       "1          FIRST SECURITY BANK, NA            79 S. MAIN STREET   \n",
       "2                     JIM AIR INC.          4200 FLOATPLANE DR.   \n",
       "4   ARCTIC TRANSPORTATION SERVICES  5701 SILVERADO WAY, SUITE L   \n",
       "20           BYERLY AVIATION, INC.       GREATER PEORIA AIRPORT   \n",
       "\n",
       "         ...        second_pilot dprt_pt_same_ev dprt_apt_id    dprt_city  \\\n",
       "0        ...                   N               N         BET       BETHEL   \n",
       "1        ...                   Y               N        RJCC      CHITOSE   \n",
       "2        ...                   N               N         C05  CHENEGA BAY   \n",
       "4        ...                   N               Y         VAK          NaN   \n",
       "20       ...                   N               N         PIA       PEORIA   \n",
       "\n",
       "   dprt_state dprt_country dprt_time dprt_timezn dest_same_local dest_apt_id  \\\n",
       "0          AK          NaN    1245.0         AST            SAME         NaN   \n",
       "1          JA          NaN    2159.0         AST            SAME         FAI   \n",
       "2          AK          NaN    1340.0         AST            SAME         ANC   \n",
       "4          AK          NaN     947.0         AST            LOCL         NaN   \n",
       "20         IL          NaN    1100.0         CST            SAME         C65   \n",
       "\n",
       "   dest_city dest_state dest_country phase_flt_spec report_to_icao evacuation  \\\n",
       "0        NaN        NaN          NaN          560.0            NaN        NaN   \n",
       "1        NaN        NaN          NaN          570.0            NaN        NaN   \n",
       "2        NaN        NaN          NaN            0.0            NaN        NaN   \n",
       "4        NaN        NaN          NaN          550.0            NaN        NaN   \n",
       "20       NaN        NaN          NaN            0.0            NaN        NaN   \n",
       "\n",
       "     lchg_date lchg_userid afm_hrs_since rwy_num  rwy_len rwy_width  \\\n",
       "0   02/01/2001         dbo           NaN       0      NaN       NaN   \n",
       "1   02/01/2001         dbo           NaN      1L  11800.0     150.0   \n",
       "2   27/04/2001         dbo           NaN       0      NaN       NaN   \n",
       "4   02/01/2001         dbo           NaN      14   2610.0      40.0   \n",
       "20  27/04/2001         dbo           NaN      10   4400.0      60.0   \n",
       "\n",
       "   site_seeing air_medical med_type_flight acft_year fuel_on_board  \\\n",
       "0            N           N             NaN       NaN           NaN   \n",
       "1            N           N             NaN       NaN           NaN   \n",
       "2            N           N             NaN       NaN           NaN   \n",
       "4            N           N             NaN       NaN           NaN   \n",
       "20           N           N             NaN       NaN           NaN   \n",
       "\n",
       "   commercial_space_flight unmanned  ifr_equipped_cert elt_mounted_aircraft  \\\n",
       "0                    FALSO    FALSO              FALSO                FALSO   \n",
       "1                    FALSO    FALSO              FALSO                FALSO   \n",
       "2                    FALSO    FALSO              FALSO                FALSO   \n",
       "4                    FALSO    FALSO              FALSO                FALSO   \n",
       "20                   FALSO    FALSO              FALSO                FALSO   \n",
       "\n",
       "   elt_connected_antenna elt_manufacturer elt_model elt_reason_other  \n",
       "0                  FALSO              NaN       NaN              NaN  \n",
       "1                  FALSO              NaN       NaN              NaN  \n",
       "2                  FALSO              NaN       NaN              NaN  \n",
       "4                  FALSO              NaN       NaN              NaN  \n",
       "20                 FALSO              NaN       NaN              NaN  \n",
       "\n",
       "[5 rows x 93 columns]"
      ]
     },
     "execution_count": 21,
     "metadata": {},
     "output_type": "execute_result"
    }
   ],
   "source": [
    "aircraft = aircraft.loc[ev_ids_for_desired_far.index]\n",
    "aircraft.head()"
   ]
  },
  {
   "cell_type": "code",
   "execution_count": 22,
   "metadata": {
    "collapsed": false,
    "scrolled": true
   },
   "outputs": [
    {
     "data": {
      "text/html": [
       "<div>\n",
       "<table border=\"1\" class=\"dataframe\">\n",
       "  <thead>\n",
       "    <tr style=\"text-align: right;\">\n",
       "      <th></th>\n",
       "      <th>ev_id</th>\n",
       "      <th>ntsb_no</th>\n",
       "      <th>ev_type</th>\n",
       "      <th>ev_date</th>\n",
       "      <th>ev_city</th>\n",
       "      <th>ev_state</th>\n",
       "      <th>ev_country</th>\n",
       "      <th>ev_site_zipcode</th>\n",
       "      <th>mid_air</th>\n",
       "      <th>on_ground_collision</th>\n",
       "      <th>latitude</th>\n",
       "      <th>longitude</th>\n",
       "      <th>latlong_acq</th>\n",
       "      <th>apt_name</th>\n",
       "      <th>ev_nr_apt_id</th>\n",
       "      <th>ev_nr_apt_loc</th>\n",
       "      <th>apt_dist</th>\n",
       "      <th>apt_dir</th>\n",
       "      <th>apt_elev</th>\n",
       "      <th>wx_brief_comp</th>\n",
       "      <th>wx_src_iic</th>\n",
       "      <th>wx_obs_time</th>\n",
       "      <th>wx_obs_dir</th>\n",
       "      <th>wx_obs_fac_id</th>\n",
       "      <th>wx_obs_elev</th>\n",
       "      <th>wx_obs_dist</th>\n",
       "      <th>wx_obs_tmzn</th>\n",
       "      <th>light_cond</th>\n",
       "      <th>sky_cond_nonceil</th>\n",
       "      <th>sky_nonceil_ht</th>\n",
       "      <th>sky_ceil_ht</th>\n",
       "      <th>sky_cond_ceil</th>\n",
       "      <th>vis_rvr</th>\n",
       "      <th>vis_rvv</th>\n",
       "      <th>vis_sm</th>\n",
       "      <th>wx_temp</th>\n",
       "      <th>wx_dew_pt</th>\n",
       "      <th>wind_dir_deg</th>\n",
       "      <th>wind_dir_ind</th>\n",
       "      <th>wind_vel_kts</th>\n",
       "      <th>wind_vel_ind</th>\n",
       "      <th>gust_ind</th>\n",
       "      <th>gust_kts</th>\n",
       "      <th>altimeter</th>\n",
       "      <th>wx_dens_alt</th>\n",
       "      <th>wx_int_precip</th>\n",
       "      <th>metar</th>\n",
       "      <th>ev_highest_injury</th>\n",
       "      <th>inj_f_grnd</th>\n",
       "      <th>inj_m_grnd</th>\n",
       "      <th>inj_s_grnd</th>\n",
       "      <th>inj_tot_f</th>\n",
       "      <th>inj_tot_m</th>\n",
       "      <th>inj_tot_n</th>\n",
       "      <th>inj_tot_s</th>\n",
       "      <th>inj_tot_t</th>\n",
       "      <th>invest_agy</th>\n",
       "      <th>ntsb_docket</th>\n",
       "      <th>ntsb_notf_from</th>\n",
       "      <th>ntsb_notf_date</th>\n",
       "      <th>ntsb_notf_tm</th>\n",
       "      <th>fiche_number</th>\n",
       "      <th>lchg_date</th>\n",
       "      <th>lchg_userid</th>\n",
       "      <th>wx_cond_basic</th>\n",
       "      <th>faa_dist_office</th>\n",
       "    </tr>\n",
       "  </thead>\n",
       "  <tbody>\n",
       "    <tr>\n",
       "      <th>40</th>\n",
       "      <td>20140507X51410</td>\n",
       "      <td>DCA14CA090</td>\n",
       "      <td>ACC</td>\n",
       "      <td>2014-03-04 23:00:00</td>\n",
       "      <td>San Diego</td>\n",
       "      <td>CA</td>\n",
       "      <td>USA</td>\n",
       "      <td>92101</td>\n",
       "      <td>N</td>\n",
       "      <td>N</td>\n",
       "      <td>324406N</td>\n",
       "      <td>1171123W</td>\n",
       "      <td>NaN</td>\n",
       "      <td>San Diego International</td>\n",
       "      <td>SAN</td>\n",
       "      <td>ONAP</td>\n",
       "      <td>0,00000000e+00</td>\n",
       "      <td>NaN</td>\n",
       "      <td>17.0</td>\n",
       "      <td>NaN</td>\n",
       "      <td>UNK</td>\n",
       "      <td>651.0</td>\n",
       "      <td>NaN</td>\n",
       "      <td>SAN</td>\n",
       "      <td>NaN</td>\n",
       "      <td>NaN</td>\n",
       "      <td>UTC</td>\n",
       "      <td>DAYL</td>\n",
       "      <td>FEW</td>\n",
       "      <td>NaN</td>\n",
       "      <td>NaN</td>\n",
       "      <td>NONE</td>\n",
       "      <td>NaN</td>\n",
       "      <td>NaN</td>\n",
       "      <td>1,00000000e+01</td>\n",
       "      <td>15.0</td>\n",
       "      <td>11.0</td>\n",
       "      <td>20.0</td>\n",
       "      <td>Y</td>\n",
       "      <td>3.0</td>\n",
       "      <td>SPEC</td>\n",
       "      <td>N</td>\n",
       "      <td>NaN</td>\n",
       "      <td>3,00799999e+01</td>\n",
       "      <td>NaN</td>\n",
       "      <td>NaN</td>\n",
       "      <td>NaN</td>\n",
       "      <td>SERS</td>\n",
       "      <td>NaN</td>\n",
       "      <td>NaN</td>\n",
       "      <td>NaN</td>\n",
       "      <td>NaN</td>\n",
       "      <td>NaN</td>\n",
       "      <td>186.0</td>\n",
       "      <td>1.0</td>\n",
       "      <td>1.0</td>\n",
       "      <td>N</td>\n",
       "      <td>NaN</td>\n",
       "      <td>Delta Air Lines Flight Safety</td>\n",
       "      <td>NaN</td>\n",
       "      <td>NaN</td>\n",
       "      <td>NaN</td>\n",
       "      <td>09/10/2015 04:49:58 PM</td>\n",
       "      <td>lovj</td>\n",
       "      <td>VMC</td>\n",
       "      <td>NaN</td>\n",
       "    </tr>\n",
       "    <tr>\n",
       "      <th>46</th>\n",
       "      <td>20001213X30836</td>\n",
       "      <td>ANC87FA067</td>\n",
       "      <td>ACC</td>\n",
       "      <td>1987-05-07 14:15:00</td>\n",
       "      <td>NIGHTMUTE</td>\n",
       "      <td>AK</td>\n",
       "      <td>USA</td>\n",
       "      <td>99690</td>\n",
       "      <td>N</td>\n",
       "      <td>N</td>\n",
       "      <td></td>\n",
       "      <td></td>\n",
       "      <td>NaN</td>\n",
       "      <td></td>\n",
       "      <td></td>\n",
       "      <td>OFAP</td>\n",
       "      <td>0,00000000e+00</td>\n",
       "      <td>0.0</td>\n",
       "      <td>NaN</td>\n",
       "      <td>UNK</td>\n",
       "      <td>WIT</td>\n",
       "      <td>0.0</td>\n",
       "      <td>0.0</td>\n",
       "      <td></td>\n",
       "      <td>0.0</td>\n",
       "      <td>0.0</td>\n",
       "      <td></td>\n",
       "      <td>DAYL</td>\n",
       "      <td>CLER</td>\n",
       "      <td>0.0</td>\n",
       "      <td>500.0</td>\n",
       "      <td>OBSC</td>\n",
       "      <td>0,00000000e+00</td>\n",
       "      <td>0.0</td>\n",
       "      <td>1,00000000e+00</td>\n",
       "      <td>-1.0</td>\n",
       "      <td>-2.0</td>\n",
       "      <td>140.0</td>\n",
       "      <td>U</td>\n",
       "      <td>6.0</td>\n",
       "      <td>UNK</td>\n",
       "      <td>N</td>\n",
       "      <td>0.0</td>\n",
       "      <td>2,90000000e+01</td>\n",
       "      <td>NaN</td>\n",
       "      <td>LGT</td>\n",
       "      <td>NaN</td>\n",
       "      <td>FATL</td>\n",
       "      <td>0.0</td>\n",
       "      <td>0.0</td>\n",
       "      <td>0.0</td>\n",
       "      <td>1.0</td>\n",
       "      <td>NaN</td>\n",
       "      <td>NaN</td>\n",
       "      <td>NaN</td>\n",
       "      <td>1.0</td>\n",
       "      <td>N</td>\n",
       "      <td>217.0</td>\n",
       "      <td>NaN</td>\n",
       "      <td>05/09/1987 12:00:00 AM</td>\n",
       "      <td>2200.0</td>\n",
       "      <td>33175</td>\n",
       "      <td>12/13/2000 02:22:27 PM</td>\n",
       "      <td>dbo</td>\n",
       "      <td>IMC</td>\n",
       "      <td>NaN</td>\n",
       "    </tr>\n",
       "    <tr>\n",
       "      <th>50</th>\n",
       "      <td>20001213X26058</td>\n",
       "      <td>NYC88LA152</td>\n",
       "      <td>ACC</td>\n",
       "      <td>1988-06-01 08:50:00</td>\n",
       "      <td>UTICA</td>\n",
       "      <td>NY</td>\n",
       "      <td>USA</td>\n",
       "      <td>13502</td>\n",
       "      <td>N</td>\n",
       "      <td>N</td>\n",
       "      <td></td>\n",
       "      <td></td>\n",
       "      <td>NaN</td>\n",
       "      <td></td>\n",
       "      <td></td>\n",
       "      <td>OFAP</td>\n",
       "      <td>0,00000000e+00</td>\n",
       "      <td>0.0</td>\n",
       "      <td>NaN</td>\n",
       "      <td>UNK</td>\n",
       "      <td>PILO</td>\n",
       "      <td>0.0</td>\n",
       "      <td>0.0</td>\n",
       "      <td></td>\n",
       "      <td>0.0</td>\n",
       "      <td>0.0</td>\n",
       "      <td></td>\n",
       "      <td>DAYL</td>\n",
       "      <td>UNK</td>\n",
       "      <td>0.0</td>\n",
       "      <td>3800.0</td>\n",
       "      <td>OVC</td>\n",
       "      <td>0,00000000e+00</td>\n",
       "      <td>0.0</td>\n",
       "      <td>3,00000000e+00</td>\n",
       "      <td>21.0</td>\n",
       "      <td>NaN</td>\n",
       "      <td>290.0</td>\n",
       "      <td>U</td>\n",
       "      <td>5.0</td>\n",
       "      <td>UNK</td>\n",
       "      <td>U</td>\n",
       "      <td>0.0</td>\n",
       "      <td>NaN</td>\n",
       "      <td>NaN</td>\n",
       "      <td>LGT</td>\n",
       "      <td>NaN</td>\n",
       "      <td>NONE</td>\n",
       "      <td>0.0</td>\n",
       "      <td>0.0</td>\n",
       "      <td>0.0</td>\n",
       "      <td>NaN</td>\n",
       "      <td>NaN</td>\n",
       "      <td>1.0</td>\n",
       "      <td>NaN</td>\n",
       "      <td>NaN</td>\n",
       "      <td>N</td>\n",
       "      <td>1955.0</td>\n",
       "      <td>NaN</td>\n",
       "      <td>06/01/1988 12:00:00 AM</td>\n",
       "      <td>1115.0</td>\n",
       "      <td>38223</td>\n",
       "      <td>12/13/2000 11:51:24 AM</td>\n",
       "      <td>dbo</td>\n",
       "      <td>VMC</td>\n",
       "      <td>NaN</td>\n",
       "    </tr>\n",
       "    <tr>\n",
       "      <th>56</th>\n",
       "      <td>20050825X01307</td>\n",
       "      <td>DCA05RA088</td>\n",
       "      <td>ACC</td>\n",
       "      <td>2005-08-02 16:00:00</td>\n",
       "      <td>Toronto</td>\n",
       "      <td>NaN</td>\n",
       "      <td>CA</td>\n",
       "      <td>NaN</td>\n",
       "      <td>N</td>\n",
       "      <td>N</td>\n",
       "      <td>NaN</td>\n",
       "      <td>NaN</td>\n",
       "      <td>NaN</td>\n",
       "      <td>NaN</td>\n",
       "      <td>NaN</td>\n",
       "      <td>NaN</td>\n",
       "      <td>NaN</td>\n",
       "      <td>NaN</td>\n",
       "      <td>NaN</td>\n",
       "      <td>NaN</td>\n",
       "      <td>NaN</td>\n",
       "      <td>NaN</td>\n",
       "      <td>NaN</td>\n",
       "      <td>NaN</td>\n",
       "      <td>NaN</td>\n",
       "      <td>NaN</td>\n",
       "      <td>NaN</td>\n",
       "      <td>NaN</td>\n",
       "      <td>NaN</td>\n",
       "      <td>NaN</td>\n",
       "      <td>NaN</td>\n",
       "      <td>NaN</td>\n",
       "      <td>NaN</td>\n",
       "      <td>NaN</td>\n",
       "      <td>NaN</td>\n",
       "      <td>NaN</td>\n",
       "      <td>NaN</td>\n",
       "      <td>NaN</td>\n",
       "      <td>NaN</td>\n",
       "      <td>NaN</td>\n",
       "      <td>NaN</td>\n",
       "      <td>NaN</td>\n",
       "      <td>NaN</td>\n",
       "      <td>NaN</td>\n",
       "      <td>NaN</td>\n",
       "      <td>NaN</td>\n",
       "      <td>NaN</td>\n",
       "      <td>NONE</td>\n",
       "      <td>NaN</td>\n",
       "      <td>NaN</td>\n",
       "      <td>NaN</td>\n",
       "      <td>NaN</td>\n",
       "      <td>NaN</td>\n",
       "      <td>309.0</td>\n",
       "      <td>NaN</td>\n",
       "      <td>NaN</td>\n",
       "      <td>O</td>\n",
       "      <td>NaN</td>\n",
       "      <td>TSB</td>\n",
       "      <td>NaN</td>\n",
       "      <td>NaN</td>\n",
       "      <td>NaN</td>\n",
       "      <td>11/04/2005 02:15:07 PM</td>\n",
       "      <td>NTSB\\\\JOHB</td>\n",
       "      <td>NaN</td>\n",
       "      <td>NaN</td>\n",
       "    </tr>\n",
       "    <tr>\n",
       "      <th>92</th>\n",
       "      <td>20041013X01621</td>\n",
       "      <td>DCA04WA083</td>\n",
       "      <td>ACC</td>\n",
       "      <td>2004-08-30 00:01:00</td>\n",
       "      <td>Sydney</td>\n",
       "      <td>NaN</td>\n",
       "      <td>AS</td>\n",
       "      <td>NaN</td>\n",
       "      <td>N</td>\n",
       "      <td>N</td>\n",
       "      <td>NaN</td>\n",
       "      <td>NaN</td>\n",
       "      <td>NaN</td>\n",
       "      <td>NaN</td>\n",
       "      <td>NaN</td>\n",
       "      <td>NaN</td>\n",
       "      <td>NaN</td>\n",
       "      <td>NaN</td>\n",
       "      <td>NaN</td>\n",
       "      <td>NaN</td>\n",
       "      <td>NaN</td>\n",
       "      <td>NaN</td>\n",
       "      <td>NaN</td>\n",
       "      <td>NaN</td>\n",
       "      <td>NaN</td>\n",
       "      <td>NaN</td>\n",
       "      <td>NaN</td>\n",
       "      <td>NaN</td>\n",
       "      <td>NaN</td>\n",
       "      <td>NaN</td>\n",
       "      <td>NaN</td>\n",
       "      <td>NaN</td>\n",
       "      <td>NaN</td>\n",
       "      <td>NaN</td>\n",
       "      <td>NaN</td>\n",
       "      <td>NaN</td>\n",
       "      <td>NaN</td>\n",
       "      <td>NaN</td>\n",
       "      <td>NaN</td>\n",
       "      <td>NaN</td>\n",
       "      <td>NaN</td>\n",
       "      <td>NaN</td>\n",
       "      <td>NaN</td>\n",
       "      <td>NaN</td>\n",
       "      <td>NaN</td>\n",
       "      <td>NaN</td>\n",
       "      <td>NaN</td>\n",
       "      <td>NONE</td>\n",
       "      <td>NaN</td>\n",
       "      <td>NaN</td>\n",
       "      <td>NaN</td>\n",
       "      <td>NaN</td>\n",
       "      <td>NaN</td>\n",
       "      <td>8.0</td>\n",
       "      <td>NaN</td>\n",
       "      <td>NaN</td>\n",
       "      <td>O</td>\n",
       "      <td>NaN</td>\n",
       "      <td>ATSB</td>\n",
       "      <td>NaN</td>\n",
       "      <td>NaN</td>\n",
       "      <td>NaN</td>\n",
       "      <td>10/13/2004 04:08:28 PM</td>\n",
       "      <td>HAUT</td>\n",
       "      <td>NaN</td>\n",
       "      <td>NaN</td>\n",
       "    </tr>\n",
       "  </tbody>\n",
       "</table>\n",
       "</div>"
      ],
      "text/plain": [
       "             ev_id     ntsb_no ev_type             ev_date          ev_city  \\\n",
       "40  20140507X51410  DCA14CA090     ACC 2014-03-04 23:00:00        San Diego   \n",
       "46  20001213X30836  ANC87FA067     ACC 1987-05-07 14:15:00  NIGHTMUTE         \n",
       "50  20001213X26058  NYC88LA152     ACC 1988-06-01 08:50:00  UTICA             \n",
       "56  20050825X01307  DCA05RA088     ACC 2005-08-02 16:00:00          Toronto   \n",
       "92  20041013X01621  DCA04WA083     ACC 2004-08-30 00:01:00           Sydney   \n",
       "\n",
       "   ev_state ev_country ev_site_zipcode mid_air on_ground_collision latitude  \\\n",
       "40       CA        USA           92101       N                   N  324406N   \n",
       "46       AK        USA       99690           N                   N            \n",
       "50       NY        USA       13502           N                   N            \n",
       "56      NaN         CA             NaN       N                   N      NaN   \n",
       "92      NaN         AS             NaN       N                   N      NaN   \n",
       "\n",
       "   longitude latlong_acq                   apt_name ev_nr_apt_id  \\\n",
       "40  1171123W         NaN    San Diego International          SAN   \n",
       "46                   NaN                                           \n",
       "50                   NaN                                           \n",
       "56       NaN         NaN                        NaN          NaN   \n",
       "92       NaN         NaN                        NaN          NaN   \n",
       "\n",
       "   ev_nr_apt_loc        apt_dist  apt_dir  apt_elev wx_brief_comp wx_src_iic  \\\n",
       "40          ONAP  0,00000000e+00      NaN      17.0           NaN        UNK   \n",
       "46          OFAP  0,00000000e+00      0.0       NaN           UNK        WIT   \n",
       "50          OFAP  0,00000000e+00      0.0       NaN           UNK       PILO   \n",
       "56           NaN             NaN      NaN       NaN           NaN        NaN   \n",
       "92           NaN             NaN      NaN       NaN           NaN        NaN   \n",
       "\n",
       "    wx_obs_time  wx_obs_dir wx_obs_fac_id  wx_obs_elev  wx_obs_dist  \\\n",
       "40        651.0         NaN           SAN          NaN          NaN   \n",
       "46          0.0         0.0                        0.0          0.0   \n",
       "50          0.0         0.0                        0.0          0.0   \n",
       "56          NaN         NaN           NaN          NaN          NaN   \n",
       "92          NaN         NaN           NaN          NaN          NaN   \n",
       "\n",
       "   wx_obs_tmzn light_cond sky_cond_nonceil  sky_nonceil_ht  sky_ceil_ht  \\\n",
       "40         UTC       DAYL              FEW             NaN          NaN   \n",
       "46                   DAYL             CLER             0.0        500.0   \n",
       "50                   DAYL              UNK             0.0       3800.0   \n",
       "56         NaN        NaN              NaN             NaN          NaN   \n",
       "92         NaN        NaN              NaN             NaN          NaN   \n",
       "\n",
       "   sky_cond_ceil         vis_rvr  vis_rvv          vis_sm  wx_temp  wx_dew_pt  \\\n",
       "40          NONE             NaN      NaN  1,00000000e+01     15.0       11.0   \n",
       "46          OBSC  0,00000000e+00      0.0  1,00000000e+00     -1.0       -2.0   \n",
       "50           OVC  0,00000000e+00      0.0  3,00000000e+00     21.0        NaN   \n",
       "56           NaN             NaN      NaN             NaN      NaN        NaN   \n",
       "92           NaN             NaN      NaN             NaN      NaN        NaN   \n",
       "\n",
       "    wind_dir_deg wind_dir_ind  wind_vel_kts wind_vel_ind gust_ind  gust_kts  \\\n",
       "40          20.0            Y           3.0         SPEC        N       NaN   \n",
       "46         140.0            U           6.0          UNK        N       0.0   \n",
       "50         290.0            U           5.0          UNK        U       0.0   \n",
       "56           NaN          NaN           NaN          NaN      NaN       NaN   \n",
       "92           NaN          NaN           NaN          NaN      NaN       NaN   \n",
       "\n",
       "         altimeter  wx_dens_alt wx_int_precip metar ev_highest_injury  \\\n",
       "40  3,00799999e+01          NaN           NaN   NaN              SERS   \n",
       "46  2,90000000e+01          NaN           LGT   NaN              FATL   \n",
       "50             NaN          NaN           LGT   NaN              NONE   \n",
       "56             NaN          NaN           NaN   NaN              NONE   \n",
       "92             NaN          NaN           NaN   NaN              NONE   \n",
       "\n",
       "    inj_f_grnd  inj_m_grnd  inj_s_grnd  inj_tot_f  inj_tot_m  inj_tot_n  \\\n",
       "40         NaN         NaN         NaN        NaN        NaN      186.0   \n",
       "46         0.0         0.0         0.0        1.0        NaN        NaN   \n",
       "50         0.0         0.0         0.0        NaN        NaN        1.0   \n",
       "56         NaN         NaN         NaN        NaN        NaN      309.0   \n",
       "92         NaN         NaN         NaN        NaN        NaN        8.0   \n",
       "\n",
       "    inj_tot_s  inj_tot_t invest_agy  ntsb_docket  \\\n",
       "40        1.0        1.0          N          NaN   \n",
       "46        NaN        1.0          N        217.0   \n",
       "50        NaN        NaN          N       1955.0   \n",
       "56        NaN        NaN          O          NaN   \n",
       "92        NaN        NaN          O          NaN   \n",
       "\n",
       "                    ntsb_notf_from          ntsb_notf_date  ntsb_notf_tm  \\\n",
       "40  Delta Air Lines Flight Safety                      NaN           NaN   \n",
       "46                             NaN  05/09/1987 12:00:00 AM        2200.0   \n",
       "50                             NaN  06/01/1988 12:00:00 AM        1115.0   \n",
       "56  TSB                                                NaN           NaN   \n",
       "92  ATSB                                               NaN           NaN   \n",
       "\n",
       "   fiche_number               lchg_date          lchg_userid wx_cond_basic  \\\n",
       "40          NaN  09/10/2015 04:49:58 PM                 lovj           VMC   \n",
       "46        33175  12/13/2000 02:22:27 PM   dbo                          IMC   \n",
       "50        38223  12/13/2000 11:51:24 AM   dbo                          VMC   \n",
       "56          NaN  11/04/2005 02:15:07 PM  NTSB\\\\JOHB                    NaN   \n",
       "92          NaN  10/13/2004 04:08:28 PM   HAUT                         NaN   \n",
       "\n",
       "   faa_dist_office  \n",
       "40             NaN  \n",
       "46             NaN  \n",
       "50             NaN  \n",
       "56             NaN  \n",
       "92             NaN  "
      ]
     },
     "execution_count": 22,
     "metadata": {},
     "output_type": "execute_result"
    }
   ],
   "source": [
    "mask = events['ev_id'].isin(ev_ids_for_desired_far.values)\n",
    "events = events[mask]\n",
    "events.head()"
   ]
  },
  {
   "cell_type": "markdown",
   "metadata": {},
   "source": [
    "### Data Analysis "
   ]
  },
  {
   "cell_type": "markdown",
   "metadata": {},
   "source": [
    "From now on, `events` and `aircraft` only contain **accident** data from flights corresponding to **FAR parts** in desired_far_parts."
   ]
  },
  {
   "cell_type": "markdown",
   "metadata": {},
   "source": [
    "#### Where do accidents occur?"
   ]
  },
  {
   "cell_type": "markdown",
   "metadata": {},
   "source": [
    "##### What information do we have about location? "
   ]
  },
  {
   "cell_type": "code",
   "execution_count": 23,
   "metadata": {
    "collapsed": false
   },
   "outputs": [
    {
     "data": {
      "text/html": [
       "<div>\n",
       "<table border=\"1\" class=\"dataframe\">\n",
       "  <thead>\n",
       "    <tr style=\"text-align: right;\">\n",
       "      <th></th>\n",
       "      <th>ev_city</th>\n",
       "      <th>ev_state</th>\n",
       "      <th>ev_country</th>\n",
       "      <th>latitude</th>\n",
       "      <th>longitude</th>\n",
       "    </tr>\n",
       "  </thead>\n",
       "  <tbody>\n",
       "    <tr>\n",
       "      <th>40</th>\n",
       "      <td>San Diego</td>\n",
       "      <td>CA</td>\n",
       "      <td>USA</td>\n",
       "      <td>324406N</td>\n",
       "      <td>1171123W</td>\n",
       "    </tr>\n",
       "    <tr>\n",
       "      <th>46</th>\n",
       "      <td>NIGHTMUTE</td>\n",
       "      <td>AK</td>\n",
       "      <td>USA</td>\n",
       "      <td></td>\n",
       "      <td></td>\n",
       "    </tr>\n",
       "    <tr>\n",
       "      <th>50</th>\n",
       "      <td>UTICA</td>\n",
       "      <td>NY</td>\n",
       "      <td>USA</td>\n",
       "      <td></td>\n",
       "      <td></td>\n",
       "    </tr>\n",
       "    <tr>\n",
       "      <th>56</th>\n",
       "      <td>Toronto</td>\n",
       "      <td>NaN</td>\n",
       "      <td>CA</td>\n",
       "      <td>NaN</td>\n",
       "      <td>NaN</td>\n",
       "    </tr>\n",
       "    <tr>\n",
       "      <th>92</th>\n",
       "      <td>Sydney</td>\n",
       "      <td>NaN</td>\n",
       "      <td>AS</td>\n",
       "      <td>NaN</td>\n",
       "      <td>NaN</td>\n",
       "    </tr>\n",
       "    <tr>\n",
       "      <th>111</th>\n",
       "      <td>Wailuku</td>\n",
       "      <td>HI</td>\n",
       "      <td>USA</td>\n",
       "      <td>205355N</td>\n",
       "      <td>1562550W</td>\n",
       "    </tr>\n",
       "    <tr>\n",
       "      <th>116</th>\n",
       "      <td>GRAND JUNCTION</td>\n",
       "      <td>CO</td>\n",
       "      <td>USA</td>\n",
       "      <td></td>\n",
       "      <td></td>\n",
       "    </tr>\n",
       "    <tr>\n",
       "      <th>120</th>\n",
       "      <td>JUNEAU</td>\n",
       "      <td>AK</td>\n",
       "      <td>USA</td>\n",
       "      <td></td>\n",
       "      <td></td>\n",
       "    </tr>\n",
       "    <tr>\n",
       "      <th>129</th>\n",
       "      <td>YUBA CITY</td>\n",
       "      <td>CA</td>\n",
       "      <td>USA</td>\n",
       "      <td></td>\n",
       "      <td></td>\n",
       "    </tr>\n",
       "    <tr>\n",
       "      <th>142</th>\n",
       "      <td>Kinston</td>\n",
       "      <td>NC</td>\n",
       "      <td>USA</td>\n",
       "      <td>351941N</td>\n",
       "      <td>0773655w</td>\n",
       "    </tr>\n",
       "  </tbody>\n",
       "</table>\n",
       "</div>"
      ],
      "text/plain": [
       "             ev_city ev_state ev_country latitude longitude\n",
       "40         San Diego       CA        USA  324406N  1171123W\n",
       "46   NIGHTMUTE             AK        USA                   \n",
       "50   UTICA                 NY        USA                   \n",
       "56           Toronto      NaN         CA      NaN       NaN\n",
       "92            Sydney      NaN         AS      NaN       NaN\n",
       "111          Wailuku       HI        USA  205355N  1562550W\n",
       "116  GRAND JUNCTION        CO        USA                   \n",
       "120  JUNEAU                AK        USA                   \n",
       "129  YUBA CITY             CA        USA                   \n",
       "142          Kinston       NC        USA  351941N  0773655w"
      ]
     },
     "execution_count": 23,
     "metadata": {},
     "output_type": "execute_result"
    }
   ],
   "source": [
    "events[['ev_city', 'ev_state', 'ev_country', 'latitude', 'longitude']].head(10)"
   ]
  },
  {
   "cell_type": "markdown",
   "metadata": {},
   "source": [
    "##### So, let's parse it!"
   ]
  },
  {
   "cell_type": "code",
   "execution_count": 24,
   "metadata": {
    "collapsed": true
   },
   "outputs": [],
   "source": [
    "def convert_lat(string):\n",
    "    degs = float(string[0:2])\n",
    "    mins = float(string[2:4])\n",
    "    secs = float(string[4:6])\n",
    "    last = string[6].lower()\n",
    "    if last == 's':\n",
    "        factor = -1.0\n",
    "    elif last == 'n':\n",
    "        factor = 1.0\n",
    "    else:\n",
    "        raise ValueError(\"invalid hemisphere\")\n",
    "    return factor * (degs + mins / 60 + secs / 3600)\n",
    "\n",
    "def convert_lon(string):\n",
    "    degs = float(string[0:3])\n",
    "    mins = float(string[3:5])\n",
    "    secs = float(string[5:7])\n",
    "    last = string[7].lower()\n",
    "    if last == 'w':\n",
    "        factor = -1.0\n",
    "    elif last == 'e':\n",
    "        factor = 1.0\n",
    "    else:\n",
    "        raise ValueError(\"invalid direction\")\n",
    "    return factor * (degs + mins / 60 + secs / 3600)"
   ]
  },
  {
   "cell_type": "code",
   "execution_count": 25,
   "metadata": {
    "collapsed": false
   },
   "outputs": [
    {
     "data": {
      "text/html": [
       "<div>\n",
       "<table border=\"1\" class=\"dataframe\">\n",
       "  <thead>\n",
       "    <tr style=\"text-align: right;\">\n",
       "      <th></th>\n",
       "      <th>longitude_num</th>\n",
       "      <th>latitude_num</th>\n",
       "    </tr>\n",
       "  </thead>\n",
       "  <tbody>\n",
       "    <tr>\n",
       "      <th>40</th>\n",
       "      <td>-117.189722</td>\n",
       "      <td>32.735</td>\n",
       "    </tr>\n",
       "    <tr>\n",
       "      <th>46</th>\n",
       "      <td>NaN</td>\n",
       "      <td>NaN</td>\n",
       "    </tr>\n",
       "    <tr>\n",
       "      <th>50</th>\n",
       "      <td>NaN</td>\n",
       "      <td>NaN</td>\n",
       "    </tr>\n",
       "    <tr>\n",
       "      <th>56</th>\n",
       "      <td>NaN</td>\n",
       "      <td>NaN</td>\n",
       "    </tr>\n",
       "    <tr>\n",
       "      <th>92</th>\n",
       "      <td>NaN</td>\n",
       "      <td>NaN</td>\n",
       "    </tr>\n",
       "  </tbody>\n",
       "</table>\n",
       "</div>"
      ],
      "text/plain": [
       "    longitude_num  latitude_num\n",
       "40    -117.189722        32.735\n",
       "46            NaN           NaN\n",
       "50            NaN           NaN\n",
       "56            NaN           NaN\n",
       "92            NaN           NaN"
      ]
     },
     "execution_count": 25,
     "metadata": {},
     "output_type": "execute_result"
    }
   ],
   "source": [
    "# Parsing latitude\n",
    "events['latitude'] = events['latitude'].replace('       ', np.nan)\n",
    "lat = events['latitude']\n",
    "lat.dropna(inplace=True)\n",
    "\n",
    "mask = lat.str.contains(r'^[0-9]{6}[NnSs]$')\n",
    "events['latitude_num'] = lat[mask].apply(convert_lat)\n",
    "\n",
    "# Parsing longitude\n",
    "events['longitude'] = events['longitude'].replace('        ', np.nan)\n",
    "lon = events['longitude']\n",
    "lon.dropna(inplace=True)\n",
    "\n",
    "mask = lon.str.contains(r'^[0-9]{7}[EeWw]$')\n",
    "events['longitude_num'] = lon[mask].apply(convert_lon)\n",
    "\n",
    "events[['longitude_num', 'latitude_num']].head()"
   ]
  },
  {
   "cell_type": "markdown",
   "metadata": {},
   "source": [
    "##### Using Google Geocode API"
   ]
  },
  {
   "cell_type": "markdown",
   "metadata": {},
   "source": [
    " ![](./static/googlemaps.png)"
   ]
  },
  {
   "cell_type": "markdown",
   "metadata": {},
   "source": [
    "Due to the limitation on the daily number of requests we will load data that have requested previously."
   ]
  },
  {
   "cell_type": "code",
   "execution_count": 26,
   "metadata": {
    "collapsed": false
   },
   "outputs": [
    {
     "data": {
      "text/plain": [
       "3389"
      ]
     },
     "execution_count": 26,
     "metadata": {},
     "output_type": "execute_result"
    }
   ],
   "source": [
    "cond = events['longitude'].isnull() | events['latitude'].isnull()\n",
    "\n",
    "events['ev_id'][cond].count()"
   ]
  },
  {
   "cell_type": "code",
   "execution_count": 27,
   "metadata": {
    "collapsed": false
   },
   "outputs": [
    {
     "data": {
      "text/html": [
       "<div>\n",
       "<table border=\"1\" class=\"dataframe\">\n",
       "  <thead>\n",
       "    <tr style=\"text-align: right;\">\n",
       "      <th></th>\n",
       "      <th>ev_city</th>\n",
       "      <th>ev_country</th>\n",
       "      <th>ev_state</th>\n",
       "      <th>latitude</th>\n",
       "      <th>longitude</th>\n",
       "    </tr>\n",
       "  </thead>\n",
       "  <tbody>\n",
       "    <tr>\n",
       "      <th>46</th>\n",
       "      <td>NIGHTMUTE</td>\n",
       "      <td>USA</td>\n",
       "      <td>AK</td>\n",
       "      <td>NaN</td>\n",
       "      <td>NaN</td>\n",
       "    </tr>\n",
       "    <tr>\n",
       "      <th>50</th>\n",
       "      <td>UTICA</td>\n",
       "      <td>USA</td>\n",
       "      <td>NY</td>\n",
       "      <td>NaN</td>\n",
       "      <td>NaN</td>\n",
       "    </tr>\n",
       "    <tr>\n",
       "      <th>56</th>\n",
       "      <td>Toronto</td>\n",
       "      <td>CA</td>\n",
       "      <td>NaN</td>\n",
       "      <td>NaN</td>\n",
       "      <td>NaN</td>\n",
       "    </tr>\n",
       "    <tr>\n",
       "      <th>92</th>\n",
       "      <td>Sydney</td>\n",
       "      <td>AS</td>\n",
       "      <td>NaN</td>\n",
       "      <td>NaN</td>\n",
       "      <td>NaN</td>\n",
       "    </tr>\n",
       "    <tr>\n",
       "      <th>116</th>\n",
       "      <td>GRAND JUNCTION</td>\n",
       "      <td>USA</td>\n",
       "      <td>CO</td>\n",
       "      <td>NaN</td>\n",
       "      <td>NaN</td>\n",
       "    </tr>\n",
       "  </tbody>\n",
       "</table>\n",
       "</div>"
      ],
      "text/plain": [
       "             ev_city ev_country ev_state latitude longitude\n",
       "46   NIGHTMUTE              USA       AK      NaN       NaN\n",
       "50   UTICA                  USA       NY      NaN       NaN\n",
       "56           Toronto         CA      NaN      NaN       NaN\n",
       "92            Sydney         AS      NaN      NaN       NaN\n",
       "116  GRAND JUNCTION         USA       CO      NaN       NaN"
      ]
     },
     "execution_count": 27,
     "metadata": {},
     "output_type": "execute_result"
    }
   ],
   "source": [
    "need_location = events.loc[cond][['ev_city', 'ev_country', 'ev_state', 'latitude', 'longitude']]\n",
    "need_location.head()"
   ]
  },
  {
   "cell_type": "raw",
   "metadata": {},
   "source": [
    "need_location.to_csv('./data/need_location.csv')"
   ]
  },
  {
   "cell_type": "markdown",
   "metadata": {},
   "source": [
    "We use `need_location.csv` and generate ---> `have_location_part1.csv` & `have_location_part_2.csv`"
   ]
  },
  {
   "cell_type": "code",
   "execution_count": 28,
   "metadata": {
    "collapsed": false
   },
   "outputs": [
    {
     "data": {
      "text/html": [
       "<div>\n",
       "<table border=\"1\" class=\"dataframe\">\n",
       "  <thead>\n",
       "    <tr style=\"text-align: right;\">\n",
       "      <th></th>\n",
       "      <th>ev_city</th>\n",
       "      <th>ev_country</th>\n",
       "      <th>ev_state</th>\n",
       "      <th>latitude_num</th>\n",
       "      <th>longitude_num</th>\n",
       "    </tr>\n",
       "  </thead>\n",
       "  <tbody>\n",
       "    <tr>\n",
       "      <th>46</th>\n",
       "      <td>NIGHTMUTE</td>\n",
       "      <td>USA</td>\n",
       "      <td>AK</td>\n",
       "      <td>60.479444</td>\n",
       "      <td>-164.723889</td>\n",
       "    </tr>\n",
       "    <tr>\n",
       "      <th>50</th>\n",
       "      <td>UTICA</td>\n",
       "      <td>USA</td>\n",
       "      <td>NY</td>\n",
       "      <td>43.100903</td>\n",
       "      <td>-75.232664</td>\n",
       "    </tr>\n",
       "    <tr>\n",
       "      <th>56</th>\n",
       "      <td>Toronto</td>\n",
       "      <td>CA</td>\n",
       "      <td>NaN</td>\n",
       "      <td>43.653226</td>\n",
       "      <td>-79.383184</td>\n",
       "    </tr>\n",
       "    <tr>\n",
       "      <th>92</th>\n",
       "      <td>Sydney</td>\n",
       "      <td>AS</td>\n",
       "      <td>NaN</td>\n",
       "      <td>-33.972047</td>\n",
       "      <td>151.144325</td>\n",
       "    </tr>\n",
       "    <tr>\n",
       "      <th>116</th>\n",
       "      <td>GRAND JUNCTION</td>\n",
       "      <td>USA</td>\n",
       "      <td>CO</td>\n",
       "      <td>39.063871</td>\n",
       "      <td>-108.550649</td>\n",
       "    </tr>\n",
       "  </tbody>\n",
       "</table>\n",
       "</div>"
      ],
      "text/plain": [
       "             ev_city ev_country ev_state  latitude_num  longitude_num\n",
       "46   NIGHTMUTE              USA       AK     60.479444    -164.723889\n",
       "50   UTICA                  USA       NY     43.100903     -75.232664\n",
       "56           Toronto         CA      NaN     43.653226     -79.383184\n",
       "92            Sydney         AS      NaN    -33.972047     151.144325\n",
       "116  GRAND JUNCTION         USA       CO     39.063871    -108.550649"
      ]
     },
     "execution_count": 28,
     "metadata": {},
     "output_type": "execute_result"
    }
   ],
   "source": [
    "have_location1 = pd.read_csv('./data/have_location_part1.csv', index_col='Unnamed: 0')\n",
    "have_location2 = pd.read_csv('./data/have_location_part2.csv', index_col='Unnamed: 0')\n",
    "have_location = pd.concat([have_location1, have_location2], axis=0)\n",
    "\n",
    "events.loc[need_location.index, ['latitude_num']] = have_location['latitude']\n",
    "events.loc[need_location.index, ['longitude_num']] = have_location['longitude']\n",
    "events.loc[need_location.index, ['ev_city', 'ev_country', 'ev_state', 'latitude_num', 'longitude_num']].head()"
   ]
  },
  {
   "cell_type": "markdown",
   "metadata": {},
   "source": [
    "##### and... plotting "
   ]
  },
  {
   "cell_type": "code",
   "execution_count": 29,
   "metadata": {
    "collapsed": true
   },
   "outputs": [],
   "source": [
    "lon_ = events['longitude_num'].values\n",
    "lat_ = events['latitude_num'].values"
   ]
  },
  {
   "cell_type": "code",
   "execution_count": 30,
   "metadata": {
    "collapsed": false
   },
   "outputs": [
    {
     "data": {
      "text/plain": [
       "<matplotlib.collections.PathCollection at 0x7f974767f518>"
      ]
     },
     "execution_count": 30,
     "metadata": {},
     "output_type": "execute_result"
    }
   ],
   "source": [
    "%matplotlib qt\n",
    "from mpl_toolkits.basemap import Basemap\n",
    "\n",
    "m1 = Basemap('mill',lon_0=0, lat_0=0)\n",
    "m1.bluemarble()\n",
    "m1.drawcoastlines()\n",
    "m1.scatter(lon_, lat_, latlon=True, marker='.', color='r')"
   ]
  },
  {
   "cell_type": "markdown",
   "metadata": {},
   "source": [
    "#####  Really gathered right? but... where are the airports?"
   ]
  },
  {
   "cell_type": "code",
   "execution_count": 31,
   "metadata": {
    "collapsed": false
   },
   "outputs": [
    {
     "data": {
      "text/html": [
       "<div>\n",
       "<table border=\"1\" class=\"dataframe\">\n",
       "  <thead>\n",
       "    <tr style=\"text-align: right;\">\n",
       "      <th></th>\n",
       "      <th>name</th>\n",
       "      <th>city</th>\n",
       "      <th>country</th>\n",
       "      <th>lat</th>\n",
       "      <th>lon</th>\n",
       "    </tr>\n",
       "  </thead>\n",
       "  <tbody>\n",
       "    <tr>\n",
       "      <th>0</th>\n",
       "      <td>Goroka</td>\n",
       "      <td>Goroka</td>\n",
       "      <td>Papua New Guinea</td>\n",
       "      <td>-6.081689</td>\n",
       "      <td>145.391881</td>\n",
       "    </tr>\n",
       "    <tr>\n",
       "      <th>1</th>\n",
       "      <td>Madang</td>\n",
       "      <td>Madang</td>\n",
       "      <td>Papua New Guinea</td>\n",
       "      <td>-5.207083</td>\n",
       "      <td>145.788700</td>\n",
       "    </tr>\n",
       "    <tr>\n",
       "      <th>2</th>\n",
       "      <td>Mount Hagen</td>\n",
       "      <td>Mount Hagen</td>\n",
       "      <td>Papua New Guinea</td>\n",
       "      <td>-5.826789</td>\n",
       "      <td>144.295861</td>\n",
       "    </tr>\n",
       "    <tr>\n",
       "      <th>3</th>\n",
       "      <td>Nadzab</td>\n",
       "      <td>Nadzab</td>\n",
       "      <td>Papua New Guinea</td>\n",
       "      <td>-6.569828</td>\n",
       "      <td>146.726242</td>\n",
       "    </tr>\n",
       "    <tr>\n",
       "      <th>4</th>\n",
       "      <td>Port Moresby Jacksons Intl</td>\n",
       "      <td>Port Moresby</td>\n",
       "      <td>Papua New Guinea</td>\n",
       "      <td>-9.443383</td>\n",
       "      <td>147.220050</td>\n",
       "    </tr>\n",
       "  </tbody>\n",
       "</table>\n",
       "</div>"
      ],
      "text/plain": [
       "                         name          city           country       lat  \\\n",
       "0                      Goroka        Goroka  Papua New Guinea -6.081689   \n",
       "1                      Madang        Madang  Papua New Guinea -5.207083   \n",
       "2                 Mount Hagen   Mount Hagen  Papua New Guinea -5.826789   \n",
       "3                      Nadzab        Nadzab  Papua New Guinea -6.569828   \n",
       "4  Port Moresby Jacksons Intl  Port Moresby  Papua New Guinea -9.443383   \n",
       "\n",
       "          lon  \n",
       "0  145.391881  \n",
       "1  145.788700  \n",
       "2  144.295861  \n",
       "3  146.726242  \n",
       "4  147.220050  "
      ]
     },
     "execution_count": 31,
     "metadata": {},
     "output_type": "execute_result"
    }
   ],
   "source": [
    "header = ['name', 'city', 'country', 'lat', 'lon']\n",
    "airports = pd.read_csv('./data/openflights/airports.dat', usecols=(1,2,3,6,7), names=header)\n",
    "airports.head()"
   ]
  },
  {
   "cell_type": "code",
   "execution_count": 32,
   "metadata": {
    "collapsed": false
   },
   "outputs": [
    {
     "data": {
      "text/plain": [
       "<matplotlib.collections.PathCollection at 0x7f97538476d8>"
      ]
     },
     "execution_count": 32,
     "metadata": {},
     "output_type": "execute_result"
    }
   ],
   "source": [
    "%matplotlib qt\n",
    "\n",
    "fig, ax = plt.subplots(2, 1, sharex=True, sharey=True)\n",
    "\n",
    "ax[0].set_title('airports')\n",
    "m1 = Basemap('mill',lon_0=0, lat_0=0, ax=ax[0])\n",
    "m1.drawcoastlines()\n",
    "m1.bluemarble()\n",
    "x, y = m1(airports['lon'], airports['lat'])\n",
    "# retocar para que se vea bien\n",
    "m1.scatter(x, y, latlon=False, marker='.', color='g')\n",
    "\n",
    "ax[1].set_title('accidents')\n",
    "m2 = Basemap('mill',lon_0=0, lat_0=0, ax=ax[1])\n",
    "m2.drawcoastlines()\n",
    "m2.bluemarble()\n",
    "m2.scatter(lon_, lat_, latlon=False, marker='.', color='r')"
   ]
  },
  {
   "cell_type": "markdown",
   "metadata": {},
   "source": [
    "#### When do accidents occur? Which flight phase is safer?"
   ]
  },
  {
   "cell_type": "markdown",
   "metadata": {
    "collapsed": true
   },
   "source": [
    "<img src=\"./static/PED_phase_flight.jpg\" style=\"width: 800px;\"/>"
   ]
  },
  {
   "cell_type": "raw",
   "metadata": {
    "collapsed": false
   },
   "source": [
    "aircraft = pd.read_csv(\"./data/aircraft.csv\",\n",
    "                                    encoding = \"ISO-8859-1\", \n",
    "                                    sep=';')\n",
    "events = pd.read_csv(\"./data/events.csv\",\n",
    "                                    sep='|')  \n",
    "occurrences = pd.read_csv(\"./data/Occurrences1.csv\",\n",
    "                                    sep=';')\n",
    "\n",
    "date_format = \"%m/%d/%Y %I:%M:%S %p\"\n",
    "date = events['ev_date'].dropna()\n",
    "date = pd.to_datetime(date, format=date_format)\n",
    "time = events['ev_time'].astype(str).str.split('.').str[0].str.zfill(4)\n",
    "time = pd.to_datetime(time, format=\"%H%M\", errors='coerce') # for nan values\n",
    "\n",
    "time.fillna('0000', inplace=True)\n",
    "\n",
    "str_date = date.dt.date.astype(str)\n",
    "str_time = time.dt.time.astype(str)\n",
    "date_time = pd.to_datetime(str_date + ' ' + str_time,\n",
    "                           format=\"%Y-%m-%d %H:%M:%S\")\n",
    "events['ev_date'] = date_time"
   ]
  },
  {
   "cell_type": "raw",
   "metadata": {
    "collapsed": false
   },
   "source": [
    "far_121 = aircraft.where(aircraft['far_part']=='121')              # we make a DataFrame with the FAR type accidents we need"
   ]
  },
  {
   "cell_type": "raw",
   "metadata": {
    "collapsed": true
   },
   "source": [
    "occurrences.loc[occurrences['Phase_of_Flight'] == 501, 'Phase_of_Flight'] = 500\n",
    "occurrences.loc[occurrences['Phase_of_Flight'] == 502, 'Phase_of_Flight'] = 500\n",
    "occurrences.loc[occurrences['Phase_of_Flight'] == 503, 'Phase_of_Flight'] = 500\n",
    "occurrences.loc[occurrences['Phase_of_Flight'] == 504, 'Phase_of_Flight'] = 500\n",
    "occurrences.loc[occurrences['Phase_of_Flight'] == 505, 'Phase_of_Flight'] = 500\n",
    "occurrences.loc[occurrences['Phase_of_Flight'] == 511, 'Phase_of_Flight'] = 510\n",
    "occurrences.loc[occurrences['Phase_of_Flight'] == 512, 'Phase_of_Flight'] = 510\n",
    "occurrences.loc[occurrences['Phase_of_Flight'] == 513, 'Phase_of_Flight'] = 510\n",
    "occurrences.loc[occurrences['Phase_of_Flight'] == 521, 'Phase_of_Flight'] = 520\n",
    "occurrences.loc[occurrences['Phase_of_Flight'] == 522, 'Phase_of_Flight'] = 520\n",
    "occurrences.loc[occurrences['Phase_of_Flight'] == 523, 'Phase_of_Flight'] = 520\n",
    "occurrences.loc[occurrences['Phase_of_Flight'] == 531, 'Phase_of_Flight'] = 530\n",
    "occurrences.loc[occurrences['Phase_of_Flight'] == 541, 'Phase_of_Flight'] = 540\n",
    "occurrences.loc[occurrences['Phase_of_Flight'] == 542, 'Phase_of_Flight'] = 580\n",
    "occurrences.loc[occurrences['Phase_of_Flight'] == 551, 'Phase_of_Flight'] = 550\n",
    "occurrences.loc[occurrences['Phase_of_Flight'] == 552, 'Phase_of_Flight'] = 550\n",
    "occurrences.loc[occurrences['Phase_of_Flight'] == 553, 'Phase_of_Flight'] = 550\n",
    "occurrences.loc[occurrences['Phase_of_Flight'] == 561, 'Phase_of_Flight'] = 560\n",
    "occurrences.loc[occurrences['Phase_of_Flight'] == 562, 'Phase_of_Flight'] = 560\n",
    "occurrences.loc[occurrences['Phase_of_Flight'] == 563, 'Phase_of_Flight'] = 560\n",
    "occurrences.loc[occurrences['Phase_of_Flight'] == 564, 'Phase_of_Flight'] = 560\n",
    "occurrences.loc[occurrences['Phase_of_Flight'] == 566, 'Phase_of_Flight'] = 560\n",
    "occurrences.loc[occurrences['Phase_of_Flight'] == 567, 'Phase_of_Flight'] = 560\n",
    "occurrences.loc[occurrences['Phase_of_Flight'] == 568, 'Phase_of_Flight'] = 560\n",
    "occurrences.loc[occurrences['Phase_of_Flight'] == 569, 'Phase_of_Flight'] = 560\n",
    "occurrences.loc[occurrences['Phase_of_Flight'] == 571, 'Phase_of_Flight'] = 570\n",
    "occurrences.loc[occurrences['Phase_of_Flight'] == 572, 'Phase_of_Flight'] = 570\n",
    "occurrences.loc[occurrences['Phase_of_Flight'] == 574, 'Phase_of_Flight'] = 570\n",
    "occurrences.loc[occurrences['Phase_of_Flight'] == 575, 'Phase_of_Flight'] = 570\n",
    "occurrences.loc[occurrences['Phase_of_Flight'] == 576, 'Phase_of_Flight'] = 570\n",
    "occurrences.loc[occurrences['Phase_of_Flight'] == 583, 'Phase_of_Flight'] = 580"
   ]
  },
  {
   "cell_type": "raw",
   "metadata": {
    "collapsed": false
   },
   "source": [
    "a = occurrences['ev_id'].isin(far_121['ev_id'])\n",
    "a_1 = events['ev_id'].isin(far_121['ev_id'])"
   ]
  },
  {
   "cell_type": "raw",
   "metadata": {
    "collapsed": false
   },
   "source": [
    "occurrences_1 = occurrences[a]\n",
    "events_1 = events[a_1]"
   ]
  },
  {
   "cell_type": "raw",
   "metadata": {
    "collapsed": false
   },
   "source": [
    "occurrences_series = occurrences_1['Phase_of_Flight'].value_counts()\n",
    "occurrences_series = occurrences_series[0:10]\n",
    "\n",
    "phases_dict = {500:'STANDING',\n",
    "             510:'TAKEOFF',\n",
    "             520:'TAXI',\n",
    "             530:'CLIMB',\n",
    "             540:'CRUISE',\n",
    "             550:'DESCENT',\n",
    "             560:'APPROACH',\n",
    "             570:'LANDING',\n",
    "             580:'MANEUVERING',\n",
    "             590:'HOVER',\n",
    "             600:'OTHER'}\n",
    "            \n",
    "occurrences_series = occurrences_series.rename_axis(phases_dict)"
   ]
  },
  {
   "cell_type": "raw",
   "metadata": {
    "collapsed": false
   },
   "source": [
    "occurrences_series.plot.barh(stacked=True)"
   ]
  },
  {
   "cell_type": "markdown",
   "metadata": {},
   "source": [
    "#### Which are the main accident causes?"
   ]
  },
  {
   "cell_type": "raw",
   "metadata": {
    "collapsed": false
   },
   "source": [
    "aircraft = pd.read_csv(\"./data/aircraft.csv\",\n",
    "                                    encoding = \"ISO-8859-1\", \n",
    "                                    sep=';')\n",
    "events = pd.read_csv(\"./data/events.csv\",\n",
    "                                    sep='|')  \n",
    "occurrences = pd.read_csv(\"./data/Occurrences1.csv\",\n",
    "                                    sep=';')\n",
    "\n",
    "date_format = \"%m/%d/%Y %I:%M:%S %p\"\n",
    "date = events['ev_date'].dropna()\n",
    "date = pd.to_datetime(date, format=date_format)\n",
    "time = events['ev_time'].astype(str).str.split('.').str[0].str.zfill(4)\n",
    "time = pd.to_datetime(time, format=\"%H%M\", errors='coerce') # for nan values\n",
    "\n",
    "time.fillna('0000', inplace=True)\n",
    "\n",
    "str_date = date.dt.date.astype(str)\n",
    "str_time = time.dt.time.astype(str)\n",
    "date_time = pd.to_datetime(str_date + ' ' + str_time,\n",
    "                           format=\"%Y-%m-%d %H:%M:%S\")\n",
    "events['ev_date'] = date_time"
   ]
  },
  {
   "cell_type": "raw",
   "metadata": {
    "collapsed": true
   },
   "source": [
    "far_121 = aircraft.where(aircraft['far_part']=='121')              # we make a DataFrame with the FAR type accidents we need"
   ]
  },
  {
   "cell_type": "raw",
   "metadata": {
    "collapsed": true
   },
   "source": [
    "occurrences.loc[occurrences['Occurrence_Code'] == 131, 'Occurrence_Code'] = 130\n",
    "occurrences.loc[occurrences['Occurrence_Code'] == 171, 'Occurrence_Code'] = 170\n",
    "occurrences.loc[occurrences['Occurrence_Code'] == 172, 'Occurrence_Code'] = 170\n",
    "occurrences.loc[occurrences['Occurrence_Code'] == 191, 'Occurrence_Code'] = 190\n",
    "occurrences.loc[occurrences['Occurrence_Code'] == 192, 'Occurrence_Code'] = 190\n",
    "occurrences.loc[occurrences['Occurrence_Code'] == 193, 'Occurrence_Code'] = 190\n",
    "occurrences.loc[occurrences['Occurrence_Code'] == 195, 'Occurrence_Code'] = 190\n",
    "occurrences.loc[occurrences['Occurrence_Code'] == 232, 'Occurrence_Code'] = 230\n",
    "occurrences.loc[occurrences['Occurrence_Code'] == 271, 'Occurrence_Code'] = 270\n",
    "occurrences.loc[occurrences['Occurrence_Code'] == 351, 'Occurrence_Code'] = 350\n",
    "occurrences.loc[occurrences['Occurrence_Code'] == 352, 'Occurrence_Code'] = 350\n",
    "occurrences.loc[occurrences['Occurrence_Code'] == 353, 'Occurrence_Code'] = 350\n",
    "occurrences.loc[occurrences['Occurrence_Code'] == 354, 'Occurrence_Code'] = 350"
   ]
  },
  {
   "cell_type": "raw",
   "metadata": {
    "collapsed": true
   },
   "source": [
    "a = occurrences['ev_id'].isin(far_121['ev_id'])\n",
    "a_1 = events['ev_id'].isin(far_121['ev_id'])\n",
    "\n",
    "occurrences_1 = occurrences[a]\n",
    "events_1 = events[a_1]\n",
    "\n",
    "occurrences_series_2 = occurrences_1['Occurrence_Code'].value_counts()\n",
    "occurrences_series_2 = occurrences_series_2[0:13]"
   ]
  },
  {
   "cell_type": "raw",
   "metadata": {
    "collapsed": false
   },
   "source": [
    "Occurrences_dict = {130:'AIRFRAME/COMPONENT/SYSTEM FAILURE/MALFUNCTION',\n",
    "                    170:'FIRE/EXPLOSION',\n",
    "                    190:'GEAR COLLAPSED',\n",
    "                    220:'IN FLIGHT COLLISION WITH OBJECT',\n",
    "                    230:'IN FLIGHT COLLISION WITH TERRAIN/WATER',\n",
    "                    240:'IN FLIGHT ENCOUNTER WITH WEATHER',\n",
    "                    250:'LOSS OF CONTROL - IN FLIGHT',\n",
    "                    260:'LOSS OF CONTROL - ON GROUND/WATER',\n",
    "                    280:'NEAR COLLISION BETWEEN AIRCRAFT',\n",
    "                    310:'ON GROUND/WATER COLLISION WITH OBJECT',\n",
    "                    320:'ON GROUND/WATER ENCOUNTER WITH TERRAIN/WATER',\n",
    "                    350:'LOSS OF ENGINE POWER',\n",
    "                    430:'MISCELLANEOUS/OTHER'}\n",
    "            \n",
    "occurrences_series_2 = occurrences_series_2.rename_axis(Occurrences_dict)"
   ]
  },
  {
   "cell_type": "raw",
   "metadata": {
    "collapsed": false
   },
   "source": [
    "occurrences_series_2.plot.barh(stacked=True)"
   ]
  },
  {
   "cell_type": "markdown",
   "metadata": {},
   "source": [
    "#### What impact does experience have?"
   ]
  },
  {
   "cell_type": "code",
   "execution_count": 33,
   "metadata": {
    "collapsed": false
   },
   "outputs": [
    {
     "data": {
      "text/html": [
       "<div>\n",
       "<table border=\"1\" class=\"dataframe\">\n",
       "  <thead>\n",
       "    <tr style=\"text-align: right;\">\n",
       "      <th></th>\n",
       "      <th>ev_id</th>\n",
       "      <th>Aircraft_Key</th>\n",
       "      <th>crew_no</th>\n",
       "      <th>crew_category</th>\n",
       "      <th>crew_age</th>\n",
       "      <th>crew_sex</th>\n",
       "      <th>crew_city</th>\n",
       "      <th>crew_res_state</th>\n",
       "      <th>crew_res_country</th>\n",
       "      <th>med_certf</th>\n",
       "      <th>med_crtf_vldty</th>\n",
       "      <th>date_lst_med</th>\n",
       "      <th>crew_rat_endorse</th>\n",
       "      <th>crew_inj_level</th>\n",
       "      <th>seatbelts_used</th>\n",
       "      <th>shldr_harn_used</th>\n",
       "      <th>crew_tox_perf</th>\n",
       "      <th>seat_occ_pic</th>\n",
       "      <th>pc_profession</th>\n",
       "      <th>bfr</th>\n",
       "      <th>bfr_date</th>\n",
       "      <th>ft_as_of</th>\n",
       "      <th>lchg_date</th>\n",
       "      <th>lchg_userid</th>\n",
       "      <th>seat_occ_row</th>\n",
       "      <th>infl_rest_inst</th>\n",
       "      <th>infl_rest_depl</th>\n",
       "      <th>child_restraint</th>\n",
       "      <th>med_crtf_limit</th>\n",
       "      <th>mr_faa_med_certf</th>\n",
       "      <th>pilot_flying</th>\n",
       "      <th>available_restraint</th>\n",
       "      <th>restraint_used</th>\n",
       "    </tr>\n",
       "  </thead>\n",
       "  <tbody>\n",
       "    <tr>\n",
       "      <th>41</th>\n",
       "      <td>20140507X51410</td>\n",
       "      <td>1</td>\n",
       "      <td>1</td>\n",
       "      <td>PLT</td>\n",
       "      <td>53.0</td>\n",
       "      <td>NaN</td>\n",
       "      <td>Lexington</td>\n",
       "      <td>SC</td>\n",
       "      <td>USA</td>\n",
       "      <td>CL1</td>\n",
       "      <td>NaN</td>\n",
       "      <td>01/21/2014 12:00:00 AM</td>\n",
       "      <td>NaN</td>\n",
       "      <td>NONE</td>\n",
       "      <td>NaN</td>\n",
       "      <td>NaN</td>\n",
       "      <td>N</td>\n",
       "      <td>LEFT</td>\n",
       "      <td>Y</td>\n",
       "      <td>NaN</td>\n",
       "      <td>02/20/2014 12:00:00 AM</td>\n",
       "      <td>NaN</td>\n",
       "      <td>09/10/2015 05:10:53 PM</td>\n",
       "      <td>lovj</td>\n",
       "      <td>NaN</td>\n",
       "      <td>NaN</td>\n",
       "      <td>NaN</td>\n",
       "      <td>NaN</td>\n",
       "      <td>NaN</td>\n",
       "      <td>NaN</td>\n",
       "      <td>0</td>\n",
       "      <td>NaN</td>\n",
       "      <td>NaN</td>\n",
       "    </tr>\n",
       "    <tr>\n",
       "      <th>42</th>\n",
       "      <td>20140507X51410</td>\n",
       "      <td>1</td>\n",
       "      <td>2</td>\n",
       "      <td>CPLT</td>\n",
       "      <td>43.0</td>\n",
       "      <td>NaN</td>\n",
       "      <td>Sandy</td>\n",
       "      <td>UT</td>\n",
       "      <td>USA</td>\n",
       "      <td>CL1</td>\n",
       "      <td>NaN</td>\n",
       "      <td>03/06/2013 12:00:00 AM</td>\n",
       "      <td>NaN</td>\n",
       "      <td>NONE</td>\n",
       "      <td>NaN</td>\n",
       "      <td>NaN</td>\n",
       "      <td>N</td>\n",
       "      <td>RGT</td>\n",
       "      <td>Y</td>\n",
       "      <td>NaN</td>\n",
       "      <td>NaN</td>\n",
       "      <td>NaN</td>\n",
       "      <td>09/10/2015 04:14:54 PM</td>\n",
       "      <td>lovj</td>\n",
       "      <td>NaN</td>\n",
       "      <td>NaN</td>\n",
       "      <td>NaN</td>\n",
       "      <td>NaN</td>\n",
       "      <td>NaN</td>\n",
       "      <td>NaN</td>\n",
       "      <td>0</td>\n",
       "      <td>NaN</td>\n",
       "      <td>NaN</td>\n",
       "    </tr>\n",
       "    <tr>\n",
       "      <th>48</th>\n",
       "      <td>20001213X30836</td>\n",
       "      <td>1</td>\n",
       "      <td>1</td>\n",
       "      <td>PLT</td>\n",
       "      <td>40.0</td>\n",
       "      <td>M</td>\n",
       "      <td>DILLINGHAM</td>\n",
       "      <td>AK</td>\n",
       "      <td>NaN</td>\n",
       "      <td>CL1</td>\n",
       "      <td>VWW</td>\n",
       "      <td>02/07/1987 12:00:00 AM</td>\n",
       "      <td>N</td>\n",
       "      <td>NaN</td>\n",
       "      <td>Y</td>\n",
       "      <td>N</td>\n",
       "      <td>Y</td>\n",
       "      <td>LEFT</td>\n",
       "      <td>AM</td>\n",
       "      <td>Y</td>\n",
       "      <td>NaN</td>\n",
       "      <td>NaN</td>\n",
       "      <td>12/13/2000 02:22:27 PM</td>\n",
       "      <td>dbo</td>\n",
       "      <td>NaN</td>\n",
       "      <td>NaN</td>\n",
       "      <td>NaN</td>\n",
       "      <td>NaN</td>\n",
       "      <td>NaN</td>\n",
       "      <td>NaN</td>\n",
       "      <td>0</td>\n",
       "      <td>NaN</td>\n",
       "      <td>NaN</td>\n",
       "    </tr>\n",
       "    <tr>\n",
       "      <th>52</th>\n",
       "      <td>20001213X26058</td>\n",
       "      <td>1</td>\n",
       "      <td>1</td>\n",
       "      <td>PLT</td>\n",
       "      <td>33.0</td>\n",
       "      <td>M</td>\n",
       "      <td>CADYVILLE</td>\n",
       "      <td>NY</td>\n",
       "      <td>NaN</td>\n",
       "      <td>CL1</td>\n",
       "      <td>VWW</td>\n",
       "      <td>12/11/1987 12:00:00 AM</td>\n",
       "      <td>Y</td>\n",
       "      <td>NaN</td>\n",
       "      <td>Y</td>\n",
       "      <td>U</td>\n",
       "      <td>N</td>\n",
       "      <td>LEFT</td>\n",
       "      <td>PCIV</td>\n",
       "      <td>U</td>\n",
       "      <td>NaN</td>\n",
       "      <td>NaN</td>\n",
       "      <td>12/13/2000 11:51:24 AM</td>\n",
       "      <td>dbo</td>\n",
       "      <td>NaN</td>\n",
       "      <td>NaN</td>\n",
       "      <td>NaN</td>\n",
       "      <td>NaN</td>\n",
       "      <td>NaN</td>\n",
       "      <td>NaN</td>\n",
       "      <td>0</td>\n",
       "      <td>NaN</td>\n",
       "      <td>NaN</td>\n",
       "    </tr>\n",
       "    <tr>\n",
       "      <th>111</th>\n",
       "      <td>20140619X32751</td>\n",
       "      <td>1</td>\n",
       "      <td>1</td>\n",
       "      <td>PLT</td>\n",
       "      <td>45.0</td>\n",
       "      <td>NaN</td>\n",
       "      <td>Kihei</td>\n",
       "      <td>HI</td>\n",
       "      <td>USA</td>\n",
       "      <td>CL2</td>\n",
       "      <td>WOWL</td>\n",
       "      <td>08/27/2013 12:00:00 AM</td>\n",
       "      <td>NaN</td>\n",
       "      <td>NONE</td>\n",
       "      <td>NaN</td>\n",
       "      <td>NaN</td>\n",
       "      <td>N</td>\n",
       "      <td>RGT</td>\n",
       "      <td>Y</td>\n",
       "      <td>NaN</td>\n",
       "      <td>NaN</td>\n",
       "      <td>NaN</td>\n",
       "      <td>06/26/2014 04:49:41 PM</td>\n",
       "      <td>lewl</td>\n",
       "      <td>NaN</td>\n",
       "      <td>NaN</td>\n",
       "      <td>NaN</td>\n",
       "      <td>NaN</td>\n",
       "      <td>NaN</td>\n",
       "      <td>NaN</td>\n",
       "      <td>0</td>\n",
       "      <td>NaN</td>\n",
       "      <td>NaN</td>\n",
       "    </tr>\n",
       "  </tbody>\n",
       "</table>\n",
       "</div>"
      ],
      "text/plain": [
       "              ev_id  Aircraft_Key  crew_no crew_category  crew_age crew_sex  \\\n",
       "41   20140507X51410             1        1         PLT        53.0      NaN   \n",
       "42   20140507X51410             1        2         CPLT       43.0      NaN   \n",
       "48   20001213X30836             1        1         PLT        40.0        M   \n",
       "52   20001213X26058             1        1         PLT        33.0        M   \n",
       "111  20140619X32751             1        1         PLT        45.0      NaN   \n",
       "\n",
       "           crew_city crew_res_state crew_res_country med_certf med_crtf_vldty  \\\n",
       "41         Lexington             SC             USA       CL1             NaN   \n",
       "42             Sandy             UT             USA       CL1             NaN   \n",
       "48   DILLINGHAM                  AK              NaN      CL1            VWW    \n",
       "52   CADYVILLE                   NY              NaN      CL1            VWW    \n",
       "111            Kihei             HI             USA       CL2            WOWL   \n",
       "\n",
       "               date_lst_med crew_rat_endorse crew_inj_level seatbelts_used  \\\n",
       "41   01/21/2014 12:00:00 AM              NaN           NONE            NaN   \n",
       "42   03/06/2013 12:00:00 AM              NaN           NONE            NaN   \n",
       "48   02/07/1987 12:00:00 AM                N            NaN              Y   \n",
       "52   12/11/1987 12:00:00 AM                Y            NaN              Y   \n",
       "111  08/27/2013 12:00:00 AM              NaN           NONE            NaN   \n",
       "\n",
       "    shldr_harn_used crew_tox_perf seat_occ_pic pc_profession  bfr  \\\n",
       "41              NaN             N         LEFT          Y     NaN   \n",
       "42              NaN             N         RGT           Y     NaN   \n",
       "48                N             Y         LEFT          AM      Y   \n",
       "52                U             N         LEFT          PCIV    U   \n",
       "111             NaN             N         RGT           Y     NaN   \n",
       "\n",
       "                   bfr_date ft_as_of               lchg_date  \\\n",
       "41   02/20/2014 12:00:00 AM      NaN  09/10/2015 05:10:53 PM   \n",
       "42                      NaN      NaN  09/10/2015 04:14:54 PM   \n",
       "48                      NaN      NaN  12/13/2000 02:22:27 PM   \n",
       "52                      NaN      NaN  12/13/2000 11:51:24 AM   \n",
       "111                     NaN      NaN  06/26/2014 04:49:41 PM   \n",
       "\n",
       "            lchg_userid  seat_occ_row  infl_rest_inst  infl_rest_depl  \\\n",
       "41                 lovj           NaN             NaN             NaN   \n",
       "42                 lovj           NaN             NaN             NaN   \n",
       "48   dbo                          NaN             NaN             NaN   \n",
       "52   dbo                          NaN             NaN             NaN   \n",
       "111                lewl           NaN             NaN             NaN   \n",
       "\n",
       "     child_restraint  med_crtf_limit  mr_faa_med_certf  pilot_flying  \\\n",
       "41               NaN             NaN               NaN             0   \n",
       "42               NaN             NaN               NaN             0   \n",
       "48               NaN             NaN               NaN             0   \n",
       "52               NaN             NaN               NaN             0   \n",
       "111              NaN             NaN               NaN             0   \n",
       "\n",
       "     available_restraint  restraint_used  \n",
       "41                   NaN             NaN  \n",
       "42                   NaN             NaN  \n",
       "48                   NaN             NaN  \n",
       "52                   NaN             NaN  \n",
       "111                  NaN             NaN  "
      ]
     },
     "execution_count": 33,
     "metadata": {},
     "output_type": "execute_result"
    }
   ],
   "source": [
    "flight_crew = pd.read_csv('./data/flight_crew.csv')\n",
    "\n",
    "# Only crew for the selected events:\n",
    "flight_crew = flight_crew[flight_crew['ev_id'].isin(events['ev_id'])]\n",
    "flight_crew.head(5)"
   ]
  },
  {
   "cell_type": "code",
   "execution_count": 34,
   "metadata": {
    "collapsed": false
   },
   "outputs": [],
   "source": [
    "%matplotlib inline\n",
    "# Remove spaces\n",
    "flight_crew['crew_category'] = flight_crew['crew_category'].str.strip()\n",
    "\n",
    "# Pilots and copilots\n",
    "crew_cat = ['PLT', 'CPLT']\n",
    "# crew_cat = ['PLT']\n",
    "is_plt_cplt = flight_crew['crew_category'].isin(crew_cat)"
   ]
  },
  {
   "cell_type": "code",
   "execution_count": 35,
   "metadata": {
    "collapsed": false
   },
   "outputs": [
    {
     "data": {
      "text/plain": [
       "count    4546.000000\n",
       "mean       41.307523\n",
       "std        11.333101\n",
       "min        20.000000\n",
       "25%        32.000000\n",
       "50%        40.000000\n",
       "75%        50.000000\n",
       "max        78.000000\n",
       "Name: crew_age, dtype: float64"
      ]
     },
     "execution_count": 35,
     "metadata": {},
     "output_type": "execute_result"
    }
   ],
   "source": [
    "flight_crew = flight_crew[is_plt_cplt]\n",
    "\n",
    "flight_crew['crew_age'].describe()"
   ]
  },
  {
   "cell_type": "code",
   "execution_count": 36,
   "metadata": {
    "collapsed": false
   },
   "outputs": [
    {
     "data": {
      "text/plain": [
       "<matplotlib.axes._subplots.AxesSubplot at 0x7f973e975198>"
      ]
     },
     "execution_count": 36,
     "metadata": {},
     "output_type": "execute_result"
    },
    {
     "data": {
      "image/png": "[encoded data removed]",
      "text/plain": [
       "<matplotlib.figure.Figure at 0x7f973e43d9e8>"
      ]
     },
     "metadata": {},
     "output_type": "display_data"
    }
   ],
   "source": [
    "bins = np.arange(14,85,5)\n",
    "flight_crew['crew_age'].hist(bins=bins)"
   ]
  },
  {
   "cell_type": "code",
   "execution_count": 37,
   "metadata": {
    "collapsed": false
   },
   "outputs": [
    {
     "data": {
      "text/plain": [
       "<matplotlib.axes._subplots.AxesSubplot at 0x7f973e095c50>"
      ]
     },
     "execution_count": 37,
     "metadata": {},
     "output_type": "execute_result"
    },
    {
     "data": {
      "image/png": "[encoded data removed]",
      "text/plain": [
       "<matplotlib.figure.Figure at 0x7f973e79ca58>"
      ]
     },
     "metadata": {},
     "output_type": "display_data"
    }
   ],
   "source": [
    "flight_crew['crew_age'].plot.box()"
   ]
  },
  {
   "cell_type": "markdown",
   "metadata": {},
   "source": [
    "According to GAMMA databook:\n",
    "    http://www.gama.aero/files/GAMA_2015_Databook_LoRes%20updated%203-29-2016.pdf\n",
    "    http://www.gama.aero/media-center/industry-facts-and-statistics/statistical-databook-and-industry-outlook#year2015"
   ]
  },
  {
   "cell_type": "code",
   "execution_count": 38,
   "metadata": {
    "collapsed": true
   },
   "outputs": [],
   "source": [
    "licenses_by_age_commercial = np.array([262, 9621, 18564, 12848, 9132,\n",
    "                                                                   8153, 7897, 9245, 10139, 10523,\n",
    "                                                                   10420, 5151, 2732, 1604])\n",
    "\n",
    "licenses_by_age_airline = np.array([0, 572, 5199, 12003, 15507,\n",
    "                                                          18337, 23058, 25882, 24220, 16824,\n",
    "                                                          10184, 4284, 1766, 787])\n",
    "\n",
    "licenses_by_age = licenses_by_age_commercial + licenses_by_age_airline"
   ]
  },
  {
   "cell_type": "code",
   "execution_count": 39,
   "metadata": {
    "collapsed": false
   },
   "outputs": [
    {
     "data": {
      "text/plain": [
       "crew_age\n",
       "(14, 19]      0\n",
       "(19, 24]    190\n",
       "(24, 29]    612\n",
       "(29, 34]    694\n",
       "(34, 39]    670\n",
       "(39, 44]    597\n",
       "(44, 49]    584\n",
       "(49, 54]    514\n",
       "(54, 59]    435\n",
       "(59, 64]    162\n",
       "(64, 69]     66\n",
       "(69, 74]     18\n",
       "(74, 79]      4\n",
       "(79, 84]      0\n",
       "dtype: int64"
      ]
     },
     "execution_count": 39,
     "metadata": {},
     "output_type": "execute_result"
    }
   ],
   "source": [
    "age_group = pd.cut(flight_crew['crew_age'], bins)\n",
    "gby_age = flight_crew['ev_id'].groupby(age_group).count()\n",
    "gby_age"
   ]
  },
  {
   "cell_type": "code",
   "execution_count": 40,
   "metadata": {
    "collapsed": false
   },
   "outputs": [
    {
     "data": {
      "text/plain": [
       "<matplotlib.axes._subplots.AxesSubplot at 0x7f973dab2550>"
      ]
     },
     "execution_count": 40,
     "metadata": {},
     "output_type": "execute_result"
    },
    {
     "data": {
      "image/png": "[encoded data removed]",
      "text/plain": [
       "<matplotlib.figure.Figure at 0x7f973dab7860>"
      ]
     },
     "metadata": {},
     "output_type": "display_data"
    }
   ],
   "source": [
    "accident_rate_age_1 = gby_age / licenses_by_age_airline\n",
    "accident_rate_age_1.plot.bar()"
   ]
  },
  {
   "cell_type": "code",
   "execution_count": 41,
   "metadata": {
    "collapsed": false
   },
   "outputs": [
    {
     "data": {
      "text/plain": [
       "<matplotlib.axes._subplots.AxesSubplot at 0x7f973d9fcb00>"
      ]
     },
     "execution_count": 41,
     "metadata": {},
     "output_type": "execute_result"
    },
    {
     "data": {
      "image/png": "[encoded data removed]",
      "text/plain": [
       "<matplotlib.figure.Figure at 0x7f973da9c320>"
      ]
     },
     "metadata": {},
     "output_type": "display_data"
    }
   ],
   "source": [
    "# Esta se quitará\n",
    "accident_rate_age_2 = gby_age / licenses_by_age_commercial\n",
    "accident_rate_age_2.plot.bar()"
   ]
  },
  {
   "cell_type": "code",
   "execution_count": 42,
   "metadata": {
    "collapsed": false
   },
   "outputs": [
    {
     "data": {
      "text/plain": [
       "<matplotlib.axes._subplots.AxesSubplot at 0x7f973d973588>"
      ]
     },
     "execution_count": 42,
     "metadata": {},
     "output_type": "execute_result"
    },
    {
     "data": {
      "image/png": "[encoded data removed]",
      "text/plain": [
       "<matplotlib.figure.Figure at 0x7f973d9b2908>"
      ]
     },
     "metadata": {},
     "output_type": "display_data"
    }
   ],
   "source": [
    "# Esta se quitará\n",
    "accident_rate_age_3 = gby_age / licenses_by_age\n",
    "accident_rate_age_3.plot.bar()"
   ]
  },
  {
   "cell_type": "raw",
   "metadata": {},
   "source": [
    "Plot total (as pilot, copilot...) flight hours in make aircraft (the one of the accident)\n",
    "\n",
    "Compare age with total flight hours"
   ]
  },
  {
   "cell_type": "code",
   "execution_count": 43,
   "metadata": {
    "collapsed": false
   },
   "outputs": [],
   "source": [
    "flight_time = pd.read_csv('./data/flight_time.csv', sep=';', usecols=(0,1,2,3,4,5))"
   ]
  },
  {
   "cell_type": "code",
   "execution_count": 44,
   "metadata": {
    "collapsed": false
   },
   "outputs": [
    {
     "data": {
      "text/html": [
       "<div>\n",
       "<table border=\"1\" class=\"dataframe\">\n",
       "  <thead>\n",
       "    <tr style=\"text-align: right;\">\n",
       "      <th></th>\n",
       "      <th>ev_id</th>\n",
       "      <th>Aircraft_Key</th>\n",
       "      <th>crew_no</th>\n",
       "      <th>flight_type</th>\n",
       "      <th>flight_craft</th>\n",
       "      <th>flight_hours</th>\n",
       "    </tr>\n",
       "  </thead>\n",
       "  <tbody>\n",
       "    <tr>\n",
       "      <th>0</th>\n",
       "      <td>20001204X00000</td>\n",
       "      <td>1</td>\n",
       "      <td>1</td>\n",
       "      <td>L24H</td>\n",
       "      <td>ALL</td>\n",
       "      <td>6.0</td>\n",
       "    </tr>\n",
       "    <tr>\n",
       "      <th>1</th>\n",
       "      <td>20001204X00000</td>\n",
       "      <td>1</td>\n",
       "      <td>1</td>\n",
       "      <td>L30D</td>\n",
       "      <td>ALL</td>\n",
       "      <td>100.0</td>\n",
       "    </tr>\n",
       "    <tr>\n",
       "      <th>2</th>\n",
       "      <td>20001204X00000</td>\n",
       "      <td>1</td>\n",
       "      <td>1</td>\n",
       "      <td>L90D</td>\n",
       "      <td>ALL</td>\n",
       "      <td>238.0</td>\n",
       "    </tr>\n",
       "    <tr>\n",
       "      <th>3</th>\n",
       "      <td>20001204X00000</td>\n",
       "      <td>1</td>\n",
       "      <td>1</td>\n",
       "      <td>PIC</td>\n",
       "      <td>ALL</td>\n",
       "      <td>5230.0</td>\n",
       "    </tr>\n",
       "    <tr>\n",
       "      <th>4</th>\n",
       "      <td>20001204X00000</td>\n",
       "      <td>1</td>\n",
       "      <td>1</td>\n",
       "      <td>TOTL</td>\n",
       "      <td>ALL</td>\n",
       "      <td>5350.0</td>\n",
       "    </tr>\n",
       "  </tbody>\n",
       "</table>\n",
       "</div>"
      ],
      "text/plain": [
       "            ev_id  Aircraft_Key  crew_no flight_type flight_craft  \\\n",
       "0  20001204X00000             1        1        L24H         ALL    \n",
       "1  20001204X00000             1        1        L30D         ALL    \n",
       "2  20001204X00000             1        1        L90D         ALL    \n",
       "3  20001204X00000             1        1        PIC          ALL    \n",
       "4  20001204X00000             1        1        TOTL         ALL    \n",
       "\n",
       "   flight_hours  \n",
       "0           6.0  \n",
       "1         100.0  \n",
       "2         238.0  \n",
       "3        5230.0  \n",
       "4        5350.0  "
      ]
     },
     "execution_count": 44,
     "metadata": {},
     "output_type": "execute_result"
    }
   ],
   "source": [
    "flight_time.head()"
   ]
  },
  {
   "cell_type": "code",
   "execution_count": 45,
   "metadata": {
    "collapsed": false
   },
   "outputs": [],
   "source": [
    "flight_time['flight_type'] = flight_time['flight_type'].str.split().str[0]\n",
    "flight_time['flight_craft'] = flight_time['flight_craft'].str.split().str[0]"
   ]
  },
  {
   "cell_type": "code",
   "execution_count": 46,
   "metadata": {
    "collapsed": false
   },
   "outputs": [
    {
     "data": {
      "text/html": [
       "<div>\n",
       "<table border=\"1\" class=\"dataframe\">\n",
       "  <thead>\n",
       "    <tr style=\"text-align: right;\">\n",
       "      <th></th>\n",
       "      <th>ev_id</th>\n",
       "      <th>Aircraft_Key</th>\n",
       "      <th>crew_no</th>\n",
       "      <th>flight_type</th>\n",
       "      <th>flight_craft</th>\n",
       "      <th>flight_hours</th>\n",
       "    </tr>\n",
       "  </thead>\n",
       "  <tbody>\n",
       "    <tr>\n",
       "      <th>4</th>\n",
       "      <td>20001204X00000</td>\n",
       "      <td>1</td>\n",
       "      <td>1</td>\n",
       "      <td>TOTL</td>\n",
       "      <td>ALL</td>\n",
       "      <td>5350.0</td>\n",
       "    </tr>\n",
       "    <tr>\n",
       "      <th>5</th>\n",
       "      <td>20001204X00000</td>\n",
       "      <td>1</td>\n",
       "      <td>1</td>\n",
       "      <td>TOTL</td>\n",
       "      <td>MAKE</td>\n",
       "      <td>1100.0</td>\n",
       "    </tr>\n",
       "    <tr>\n",
       "      <th>6</th>\n",
       "      <td>20001204X00000</td>\n",
       "      <td>1</td>\n",
       "      <td>1</td>\n",
       "      <td>TOTL</td>\n",
       "      <td>NGHT</td>\n",
       "      <td>500.0</td>\n",
       "    </tr>\n",
       "    <tr>\n",
       "      <th>7</th>\n",
       "      <td>20001204X00000</td>\n",
       "      <td>1</td>\n",
       "      <td>1</td>\n",
       "      <td>TOTL</td>\n",
       "      <td>SENG</td>\n",
       "      <td>5350.0</td>\n",
       "    </tr>\n",
       "    <tr>\n",
       "      <th>8</th>\n",
       "      <td>20001204X00000</td>\n",
       "      <td>1</td>\n",
       "      <td>1</td>\n",
       "      <td>TOTL</td>\n",
       "      <td>SIMU</td>\n",
       "      <td>50.0</td>\n",
       "    </tr>\n",
       "  </tbody>\n",
       "</table>\n",
       "</div>"
      ],
      "text/plain": [
       "            ev_id  Aircraft_Key  crew_no flight_type flight_craft  \\\n",
       "4  20001204X00000             1        1        TOTL          ALL   \n",
       "5  20001204X00000             1        1        TOTL         MAKE   \n",
       "6  20001204X00000             1        1        TOTL         NGHT   \n",
       "7  20001204X00000             1        1        TOTL         SENG   \n",
       "8  20001204X00000             1        1        TOTL         SIMU   \n",
       "\n",
       "   flight_hours  \n",
       "4        5350.0  \n",
       "5        1100.0  \n",
       "6         500.0  \n",
       "7        5350.0  \n",
       "8          50.0  "
      ]
     },
     "execution_count": 46,
     "metadata": {},
     "output_type": "execute_result"
    }
   ],
   "source": [
    "cond1 = flight_time['flight_type'] == 'TOTL'\n",
    "flight_time = flight_time[cond1]\n",
    "flight_time.head()"
   ]
  },
  {
   "cell_type": "code",
   "execution_count": 47,
   "metadata": {
    "collapsed": false
   },
   "outputs": [
    {
     "data": {
      "text/html": [
       "<div>\n",
       "<table border=\"1\" class=\"dataframe\">\n",
       "  <thead>\n",
       "    <tr style=\"text-align: right;\">\n",
       "      <th></th>\n",
       "      <th>ev_id</th>\n",
       "      <th>Aircraft_Key</th>\n",
       "      <th>crew_no</th>\n",
       "      <th>flight_type</th>\n",
       "      <th>flight_craft</th>\n",
       "      <th>flight_hours</th>\n",
       "    </tr>\n",
       "  </thead>\n",
       "  <tbody>\n",
       "    <tr>\n",
       "      <th>4</th>\n",
       "      <td>20001204X00000</td>\n",
       "      <td>1</td>\n",
       "      <td>1</td>\n",
       "      <td>TOTL</td>\n",
       "      <td>ALL</td>\n",
       "      <td>5350.0</td>\n",
       "    </tr>\n",
       "    <tr>\n",
       "      <th>5</th>\n",
       "      <td>20001204X00000</td>\n",
       "      <td>1</td>\n",
       "      <td>1</td>\n",
       "      <td>TOTL</td>\n",
       "      <td>MAKE</td>\n",
       "      <td>1100.0</td>\n",
       "    </tr>\n",
       "    <tr>\n",
       "      <th>21</th>\n",
       "      <td>20001204X00001</td>\n",
       "      <td>1</td>\n",
       "      <td>1</td>\n",
       "      <td>TOTL</td>\n",
       "      <td>ALL</td>\n",
       "      <td>23000.0</td>\n",
       "    </tr>\n",
       "    <tr>\n",
       "      <th>22</th>\n",
       "      <td>20001204X00001</td>\n",
       "      <td>1</td>\n",
       "      <td>1</td>\n",
       "      <td>TOTL</td>\n",
       "      <td>MAKE</td>\n",
       "      <td>3000.0</td>\n",
       "    </tr>\n",
       "    <tr>\n",
       "      <th>47</th>\n",
       "      <td>20001204X00002</td>\n",
       "      <td>1</td>\n",
       "      <td>1</td>\n",
       "      <td>TOTL</td>\n",
       "      <td>ALL</td>\n",
       "      <td>10000.0</td>\n",
       "    </tr>\n",
       "  </tbody>\n",
       "</table>\n",
       "</div>"
      ],
      "text/plain": [
       "             ev_id  Aircraft_Key  crew_no flight_type flight_craft  \\\n",
       "4   20001204X00000             1        1        TOTL          ALL   \n",
       "5   20001204X00000             1        1        TOTL         MAKE   \n",
       "21  20001204X00001             1        1        TOTL          ALL   \n",
       "22  20001204X00001             1        1        TOTL         MAKE   \n",
       "47  20001204X00002             1        1        TOTL          ALL   \n",
       "\n",
       "    flight_hours  \n",
       "4         5350.0  \n",
       "5         1100.0  \n",
       "21       23000.0  \n",
       "22        3000.0  \n",
       "47       10000.0  "
      ]
     },
     "execution_count": 47,
     "metadata": {},
     "output_type": "execute_result"
    }
   ],
   "source": [
    "cond2 = flight_time['flight_craft'].isin(['ALL', 'MAKE'])\n",
    "flight_time = flight_time[cond2]\n",
    "flight_time.head()"
   ]
  },
  {
   "cell_type": "code",
   "execution_count": 48,
   "metadata": {
    "collapsed": false
   },
   "outputs": [
    {
     "data": {
      "text/plain": [
       "count     65459.000000\n",
       "mean        945.199840\n",
       "std       15236.880096\n",
       "min           0.000000\n",
       "25%          40.000000\n",
       "50%         150.000000\n",
       "75%         592.000000\n",
       "max      999999.000000\n",
       "Name: flight_hours, dtype: float64"
      ]
     },
     "execution_count": 48,
     "metadata": {},
     "output_type": "execute_result"
    }
   ],
   "source": [
    "exp_in_acc_ac = flight_time.groupby('flight_craft').get_group('MAKE')\n",
    "exp_in_acc_ac['flight_hours'].describe()"
   ]
  },
  {
   "cell_type": "raw",
   "metadata": {},
   "source": [
    "999999 hours???????\n",
    "IMPOSSIBLE!!\n",
    "\n",
    "<<Con 30 años como piloto atesora más de 15.000 horas de vuelo, una experiencia que define como fundamental para poder reaccionar ante cualquier problema que surja en el aire, algo que reconoce que no pasa casi nunca.>>\n",
    "\n",
    "Hay que quitar las que estén por encima de ¿60000?"
   ]
  },
  {
   "cell_type": "code",
   "execution_count": 49,
   "metadata": {
    "collapsed": false
   },
   "outputs": [
    {
     "data": {
      "text/html": [
       "<div>\n",
       "<table border=\"1\" class=\"dataframe\">\n",
       "  <thead>\n",
       "    <tr style=\"text-align: right;\">\n",
       "      <th></th>\n",
       "      <th>Aircraft_Key</th>\n",
       "      <th>crew_no</th>\n",
       "      <th>flight_hours</th>\n",
       "    </tr>\n",
       "  </thead>\n",
       "  <tbody>\n",
       "    <tr>\n",
       "      <th>count</th>\n",
       "      <td>65449.000000</td>\n",
       "      <td>65449.000000</td>\n",
       "      <td>65440.000000</td>\n",
       "    </tr>\n",
       "    <tr>\n",
       "      <th>mean</th>\n",
       "      <td>1.013262</td>\n",
       "      <td>1.044157</td>\n",
       "      <td>709.844778</td>\n",
       "    </tr>\n",
       "    <tr>\n",
       "      <th>std</th>\n",
       "      <td>0.116251</td>\n",
       "      <td>0.213182</td>\n",
       "      <td>1649.847967</td>\n",
       "    </tr>\n",
       "    <tr>\n",
       "      <th>min</th>\n",
       "      <td>1.000000</td>\n",
       "      <td>1.000000</td>\n",
       "      <td>0.000000</td>\n",
       "    </tr>\n",
       "    <tr>\n",
       "      <th>25%</th>\n",
       "      <td>1.000000</td>\n",
       "      <td>1.000000</td>\n",
       "      <td>40.000000</td>\n",
       "    </tr>\n",
       "    <tr>\n",
       "      <th>50%</th>\n",
       "      <td>1.000000</td>\n",
       "      <td>1.000000</td>\n",
       "      <td>150.000000</td>\n",
       "    </tr>\n",
       "    <tr>\n",
       "      <th>75%</th>\n",
       "      <td>1.000000</td>\n",
       "      <td>1.000000</td>\n",
       "      <td>590.000000</td>\n",
       "    </tr>\n",
       "    <tr>\n",
       "      <th>max</th>\n",
       "      <td>4.000000</td>\n",
       "      <td>5.000000</td>\n",
       "      <td>38200.000000</td>\n",
       "    </tr>\n",
       "  </tbody>\n",
       "</table>\n",
       "</div>"
      ],
      "text/plain": [
       "       Aircraft_Key       crew_no  flight_hours\n",
       "count  65449.000000  65449.000000  65440.000000\n",
       "mean       1.013262      1.044157    709.844778\n",
       "std        0.116251      0.213182   1649.847967\n",
       "min        1.000000      1.000000      0.000000\n",
       "25%        1.000000      1.000000     40.000000\n",
       "50%        1.000000      1.000000    150.000000\n",
       "75%        1.000000      1.000000    590.000000\n",
       "max        4.000000      5.000000  38200.000000"
      ]
     },
     "execution_count": 49,
     "metadata": {},
     "output_type": "execute_result"
    }
   ],
   "source": [
    "idx_2_rm = exp_in_acc_ac[exp_in_acc_ac['flight_hours']>60000].index\n",
    "exp_in_acc_ac = exp_in_acc_ac.drop(idx_2_rm)\n",
    "exp_in_acc_ac.describe()"
   ]
  },
  {
   "cell_type": "code",
   "execution_count": 50,
   "metadata": {
    "collapsed": false
   },
   "outputs": [
    {
     "data": {
      "text/plain": [
       "<matplotlib.axes._subplots.AxesSubplot at 0x7f970df58e10>"
      ]
     },
     "execution_count": 50,
     "metadata": {},
     "output_type": "execute_result"
    },
    {
     "data": {
      "image/png": "[encoded data removed]",
      "text/plain": [
       "<matplotlib.figure.Figure at 0x7f973d97f668>"
      ]
     },
     "metadata": {},
     "output_type": "display_data"
    }
   ],
   "source": [
    "%matplotlib inline\n",
    "exp_in_acc_ac.plot.box()"
   ]
  },
  {
   "cell_type": "code",
   "execution_count": 51,
   "metadata": {
    "collapsed": false
   },
   "outputs": [
    {
     "data": {
      "text/plain": [
       "<matplotlib.axes._subplots.AxesSubplot at 0x7f970ef7a780>"
      ]
     },
     "execution_count": 51,
     "metadata": {},
     "output_type": "execute_result"
    },
    {
     "data": {
      "image/png": "[encoded data removed]",
      "text/plain": [
       "<matplotlib.figure.Figure at 0x7f970df58e48>"
      ]
     },
     "metadata": {},
     "output_type": "display_data"
    }
   ],
   "source": [
    "exp_in_acc_ac['flight_hours'].hist()"
   ]
  },
  {
   "cell_type": "code",
   "execution_count": 52,
   "metadata": {
    "collapsed": false
   },
   "outputs": [],
   "source": [
    "exp_total = flight_time.groupby('flight_craft').get_group('ALL')"
   ]
  },
  {
   "cell_type": "code",
   "execution_count": 53,
   "metadata": {
    "collapsed": false
   },
   "outputs": [
    {
     "data": {
      "text/plain": [
       "Int64Index([1018057, 1018062, 1018494, 1065298], dtype='int64')"
      ]
     },
     "execution_count": 53,
     "metadata": {},
     "output_type": "execute_result"
    }
   ],
   "source": [
    "idx_2_rm = exp_total[exp_total['flight_hours']==999999].index\n",
    "idx_2_rm"
   ]
  },
  {
   "cell_type": "code",
   "execution_count": 54,
   "metadata": {
    "collapsed": false
   },
   "outputs": [
    {
     "data": {
      "text/plain": [
       "count     74099.000000\n",
       "mean       3533.611578\n",
       "std        5630.275036\n",
       "min           0.000000\n",
       "25%         305.000000\n",
       "50%        1188.000000\n",
       "75%        4200.000000\n",
       "max      199334.000000\n",
       "Name: flight_hours, dtype: float64"
      ]
     },
     "execution_count": 54,
     "metadata": {},
     "output_type": "execute_result"
    }
   ],
   "source": [
    "exp_total = exp_total.drop(idx_2_rm)\n",
    "exp_total['flight_hours'].describe()"
   ]
  },
  {
   "cell_type": "code",
   "execution_count": 55,
   "metadata": {
    "collapsed": false
   },
   "outputs": [
    {
     "data": {
      "text/plain": [
       "<matplotlib.axes._subplots.AxesSubplot at 0x7f9729a34b38>"
      ]
     },
     "execution_count": 55,
     "metadata": {},
     "output_type": "execute_result"
    },
    {
     "data": {
      "image/png": "[encoded data removed]",
      "text/plain": [
       "<matplotlib.figure.Figure at 0x7f970df586d8>"
      ]
     },
     "metadata": {},
     "output_type": "display_data"
    }
   ],
   "source": [
    "exp_total['flight_hours'].hist()"
   ]
  },
  {
   "cell_type": "markdown",
   "metadata": {},
   "source": [
    "#### And finally... is commercial air transport safer now than 30 years ago?"
   ]
  },
  {
   "cell_type": "code",
   "execution_count": 56,
   "metadata": {
    "collapsed": false
   },
   "outputs": [
    {
     "data": {
      "text/html": [
       "<div>\n",
       "<table border=\"1\" class=\"dataframe\">\n",
       "  <thead>\n",
       "    <tr style=\"text-align: right;\">\n",
       "      <th></th>\n",
       "      <th>inj_tot_f</th>\n",
       "      <th>inj_tot_s</th>\n",
       "      <th>inj_tot_m</th>\n",
       "    </tr>\n",
       "    <tr>\n",
       "      <th>ev_date</th>\n",
       "      <th></th>\n",
       "      <th></th>\n",
       "      <th></th>\n",
       "    </tr>\n",
       "  </thead>\n",
       "  <tbody>\n",
       "    <tr>\n",
       "      <th>1982.0</th>\n",
       "      <td>40</td>\n",
       "      <td>37</td>\n",
       "      <td>41</td>\n",
       "    </tr>\n",
       "    <tr>\n",
       "      <th>1983.0</th>\n",
       "      <td>34</td>\n",
       "      <td>32</td>\n",
       "      <td>47</td>\n",
       "    </tr>\n",
       "    <tr>\n",
       "      <th>1984.0</th>\n",
       "      <td>31</td>\n",
       "      <td>37</td>\n",
       "      <td>54</td>\n",
       "    </tr>\n",
       "    <tr>\n",
       "      <th>1985.0</th>\n",
       "      <td>49</td>\n",
       "      <td>37</td>\n",
       "      <td>52</td>\n",
       "    </tr>\n",
       "    <tr>\n",
       "      <th>1986.0</th>\n",
       "      <td>36</td>\n",
       "      <td>42</td>\n",
       "      <td>43</td>\n",
       "    </tr>\n",
       "  </tbody>\n",
       "</table>\n",
       "</div>"
      ],
      "text/plain": [
       "         inj_tot_f  inj_tot_s  inj_tot_m\n",
       "ev_date                                 \n",
       "1982.0          40         37         41\n",
       "1983.0          34         32         47\n",
       "1984.0          31         37         54\n",
       "1985.0          49         37         52\n",
       "1986.0          36         42         43"
      ]
     },
     "execution_count": 56,
     "metadata": {},
     "output_type": "execute_result"
    }
   ],
   "source": [
    "ev_before_2016 = events[events['ev_date'].dt.year < 2016]\n",
    "gby_year = events.groupby(ev_before_2016.ev_date.dt.year)\n",
    "\n",
    "injured_per_year = gby_year[['inj_tot_f', 'inj_tot_s', 'inj_tot_m']].count()\n",
    "#injured_per_year.index = np.arange(1982, 2016)\n",
    "injured_per_year.head()"
   ]
  },
  {
   "cell_type": "code",
   "execution_count": 57,
   "metadata": {
    "collapsed": false
   },
   "outputs": [
    {
     "data": {
      "text/plain": [
       "<matplotlib.axes._subplots.AxesSubplot at 0x7f970ef20860>"
      ]
     },
     "execution_count": 57,
     "metadata": {},
     "output_type": "execute_result"
    },
    {
     "data": {
      "image/png": "[encoded data removed]",
      "text/plain": [
       "<matplotlib.figure.Figure at 0x7f970f0180b8>"
      ]
     },
     "metadata": {},
     "output_type": "display_data"
    }
   ],
   "source": [
    "injured_per_year.plot.area(alpha=0.8, figsize=(11,5))"
   ]
  },
  {
   "cell_type": "code",
   "execution_count": 58,
   "metadata": {
    "collapsed": false
   },
   "outputs": [],
   "source": [
    "passengers = pd.read_csv('./data/annual_passengers_carried/data.csv', nrows=1, usecols=range(4,60))\n",
    "passengers = passengers.transpose()\n",
    "# renaming column\n",
    "passengers.columns = ['passengers']\n",
    "passengers\n",
    "# parsing date in index \n",
    "passengers.index = pd.to_datetime(passengers.index.str[:4])\n",
    "# converting flight number to number\n",
    "passengers['passengers'] = pd.to_numeric(passengers['passengers'], errors='coerce') / 1e6\n",
    "passengers.index = passengers.index.year"
   ]
  },
  {
   "cell_type": "code",
   "execution_count": 59,
   "metadata": {
    "collapsed": false
   },
   "outputs": [],
   "source": [
    "flights = pd.read_csv('./data/annual_worldwide_departures/data.csv', nrows=1, usecols=range(4,59))\n",
    "flights = flights.transpose()\n",
    "# renaming column\n",
    "flights.columns = ['flights']\n",
    "flights\n",
    "# parsing date in index \n",
    "flights.index = pd.to_datetime(flights.index.str[:4])\n",
    "# converting flight number to number\n",
    "flights['flights'] = pd.to_numeric(flights['flights'], errors='coerce') / 1e6\n",
    "\n",
    "flights.index = np.arange(1960,2015)"
   ]
  },
  {
   "cell_type": "code",
   "execution_count": 60,
   "metadata": {
    "collapsed": false
   },
   "outputs": [
    {
     "data": {
      "image/png": "[encoded data removed]",
      "text/plain": [
       "<matplotlib.figure.Figure at 0x7f970f1807b8>"
      ]
     },
     "metadata": {},
     "output_type": "display_data"
    }
   ],
   "source": [
    "fig, ax = plt.subplots(2, 1, figsize=(12,6))\n",
    "ax[0].set_title('Millions of passengers transported')\n",
    "passengers['passengers'].plot.area(ax=ax[0], alpha=0.6, color=\"#0072B2\")\n",
    "ax[0].set_xlim(1975, 2014)\n",
    "\n",
    "ax[1].set_title('Number of flights (millions)')\n",
    "flights['flights'].plot.area(ax=ax[1], alpha=0.6)\n",
    "ax[1].set_xlim(1975, 2014)\n",
    "\n",
    "plt.tight_layout()"
   ]
  },
  {
   "cell_type": "code",
   "execution_count": 61,
   "metadata": {
    "collapsed": false
   },
   "outputs": [
    {
     "data": {
      "text/plain": [
       "(1982, 2015)"
      ]
     },
     "execution_count": 61,
     "metadata": {},
     "output_type": "execute_result"
    },
    {
     "data": {
      "image/png": "[encoded data removed]",
      "text/plain": [
       "<matplotlib.figure.Figure at 0x7f970f058f60>"
      ]
     },
     "metadata": {},
     "output_type": "display_data"
    }
   ],
   "source": [
    "letality_rate = injured_per_year['inj_tot_f'] / passengers['passengers']\n",
    "ax = letality_rate.plot.area(alpha=0.8, figsize=(11,5))\n",
    "ax.set_xlim(1982, 2015)"
   ]
  },
  {
   "cell_type": "code",
   "execution_count": 62,
   "metadata": {
    "collapsed": false
   },
   "outputs": [
    {
     "data": {
      "text/plain": [
       "(1982, 2015)"
      ]
     },
     "execution_count": 62,
     "metadata": {},
     "output_type": "execute_result"
    },
    {
     "data": {
      "image/png": "[encoded data removed]",
      "text/plain": [
       "<matplotlib.figure.Figure at 0x7f972a184630>"
      ]
     },
     "metadata": {},
     "output_type": "display_data"
    }
   ],
   "source": [
    "accidents_gby_year = events['ev_id'].groupby(events.ev_date.dt.year).count()\n",
    "ax = accidents_gby_year.plot.area(alpha=0.8, figsize=(11,5))\n",
    "ax.set_xlim(1982, 2015)"
   ]
  },
  {
   "cell_type": "code",
   "execution_count": 63,
   "metadata": {
    "collapsed": false
   },
   "outputs": [
    {
     "data": {
      "text/plain": [
       "2012    3.152291\n",
       "2013    2.897382\n",
       "2014    2.531777\n",
       "2015         NaN\n",
       "2016         NaN\n",
       "dtype: float64"
      ]
     },
     "execution_count": 63,
     "metadata": {},
     "output_type": "execute_result"
    }
   ],
   "source": [
    "accident_rate = accidents_gby_year / flights.flights\n",
    "accident_rate.tail()"
   ]
  },
  {
   "cell_type": "code",
   "execution_count": 64,
   "metadata": {
    "collapsed": false
   },
   "outputs": [
    {
     "data": {
      "text/plain": [
       "(1982, 2014)"
      ]
     },
     "execution_count": 64,
     "metadata": {},
     "output_type": "execute_result"
    },
    {
     "data": {
      "image/png": "[encoded data removed]",
      "text/plain": [
       "<matplotlib.figure.Figure at 0x7f973d07f470>"
      ]
     },
     "metadata": {},
     "output_type": "display_data"
    }
   ],
   "source": [
    "ax = accident_rate.plot.area(alpha=0.8, figsize=(11,5))\n",
    "ax.set_xlim(1982, 2014)"
   ]
  },
  {
   "cell_type": "markdown",
   "metadata": {},
   "source": [
    "#### Other Questions... "
   ]
  },
  {
   "cell_type": "markdown",
   "metadata": {},
   "source": [
    "### Conclusions "
   ]
  },
  {
   "cell_type": "markdown",
   "metadata": {},
   "source": [
    "# Thanks for yor attention! "
   ]
  },
  {
   "cell_type": "markdown",
   "metadata": {},
   "source": [
    "![PyData_logo](./static/pydata-logo-madrid-2016.png)"
   ]
  },
  {
   "cell_type": "markdown",
   "metadata": {},
   "source": [
    "## Any Questions?"
   ]
  },
  {
   "cell_type": "markdown",
   "metadata": {},
   "source": [
    "\n",
    "---\n"
   ]
  },
  {
   "cell_type": "code",
   "execution_count": 65,
   "metadata": {
    "collapsed": false
   },
   "outputs": [
    {
     "data": {
      "text/html": [
       "<link href='http://fonts.googleapis.com/css?family=Source+Sans+Pro|Josefin+Sans:400,700,400italic|Ubuntu+Condensed' rel='stylesheet' type='text/css'>\n",
       "\n",
       "\n",
       "<style>\n",
       "\n",
       "#notebook_panel { /* main background */\n",
       "    background: #f7f7f7;\n",
       "}\n",
       "\n",
       "div.cell { /* set cell width */\n",
       "    width: 900px;\n",
       "}\n",
       "\n",
       "div #notebook { /* centre the content */\n",
       "    background: #fff; /* white background for content */\n",
       "    width: 950px;\n",
       "    margin: auto;\n",
       "    padding-left: 0em;\n",
       "}\n",
       "\n",
       "#notebook li { /* More space between bullet points */\n",
       "    margin-top:0.7em;\n",
       "}\n",
       "\n",
       "/* draw border around running cells */\n",
       "div.cell.border-box-sizing.code_cell.running { \n",
       "    border: 1px solid #111;\n",
       "}\n",
       "\n",
       "/* Put a solid color box around each cell and its output, visually linking them*/\n",
       "div.cell.code_cell {\n",
       "    font-family: 'Source Sans Pro', sans-serif;\n",
       "    background-color: rgb(256,256,256);\n",
       "    font-size: 110%;\n",
       "    border-radius: 0px; \n",
       "    padding: 0.5em;\n",
       "    margin-left:1em;\n",
       "    margin-top: 1em;\n",
       "}\n",
       "\n",
       "div.text_cell_render{\n",
       "    font-family: 'Josefin Sans', serif;\n",
       "    line-height: 145%;\n",
       "    font-size: 125%;\n",
       "    font-weight: 500;\n",
       "    width:750px;\n",
       "    margin-left:auto;\n",
       "    margin-right:auto;\n",
       "}\n",
       "\n",
       "\n",
       "/* Formatting for header cells */\n",
       ".text_cell_render h1, .text_cell_render h2, .text_cell_render h3,\n",
       ".text_cell_render h4, .text_cell_render h5 {\n",
       "    font-family: 'Ubuntu Condensed', sans-serif;\n",
       "}\n",
       "\n",
       ".text_cell_render h1 {    /*Use this for Title*/\n",
       "    font-weight: 500;\n",
       "    font-size: 38pt;\n",
       "    line-height: 100%;\n",
       "    color: #EE9141;\n",
       "    text-align: center;\n",
       "    margin-bottom: 0.1em;\n",
       "    margin-top: 0.3em;\n",
       "    display: block;\n",
       "}\n",
       "\n",
       ".text_cell_render h2 {    /*Use this for Subtitle*/\n",
       "    margin-top:16px;\n",
       "    font-size: 32pt;\n",
       "    font-weight: 500;\n",
       "    margin-bottom: 0.1em;\n",
       "    margin-top: 0.3em;\n",
       "    text-align: center;\n",
       "    font-style: regular;\n",
       "    color: #459EBA;\n",
       "}\t\n",
       "\n",
       ".text_cell_render h3 {   /*Sections*/ \n",
       "    font-size: 30pt;\n",
       "    font-weight: 300;\n",
       "    text-align: left;\n",
       "    margin-bottom: 0.1em;\n",
       "    margin-top: 0.3em;\n",
       "    font-style: regular;\n",
       "    color:  #252525;\n",
       "}\n",
       "\n",
       ".text_cell_render h4 {    /*Subsections*/\n",
       "    font-size: 28pt;\n",
       "    font-weight: 200;\n",
       "    text-align: left;\n",
       "    margin-bottom: 0.1em;\n",
       "    margin-top: 0.3em;\n",
       "    font-style: regular;\n",
       "    color:  #377e95;\n",
       "}\n",
       "\n",
       ".text_cell_render h5 {    /*Subsubsections*/\n",
       "    font-size: 20pt;\n",
       "    font-weight: 300;\n",
       "    font-style: italic;\n",
       "    margin-bottom: .1em;\n",
       "    margin-top: 0.8em;\n",
       "    display: block;\n",
       "    color:  #e77615;\n",
       "}\n",
       "\n",
       ".text_cell_render h6 {    /*Author*/\n",
       "    font-family: 'Ubuntu Condensed', sans-serif;\n",
       "    font-weight: 100;\n",
       "    font-size: 14pt;\n",
       "    line-height: 100%;\n",
       "    color: #252525;\n",
       "    text-align: right;\n",
       "    margin-bottom: 1px;\n",
       "    margin-top: 3px;\n",
       "}\n",
       "\n",
       ".CodeMirror{\n",
       "        font-family: 'Duru Sans', sans-serif;\n",
       "        font-size: 100%;\n",
       "}\n",
       "\n",
       "</style>\n",
       "<script>\n",
       "    MathJax.Hub.Config({\n",
       "                        TeX: {\n",
       "                           extensions: [\"AMSmath.js\"],\n",
       "                           equationNumbers: { autoNumber: \"AMS\", useLabelIds: true}\n",
       "                           },\n",
       "                tex2jax: {\n",
       "                    inlineMath: [ ['$','$'], [\"\\\\(\",\"\\\\)\"] ],\n",
       "                    displayMath: [ ['$$','$$'], [\"\\\\[\",\"\\\\]\"] ]\n",
       "                },\n",
       "                displayAlign: 'center', // Change this to 'center' to center equations.\n",
       "                \"HTML-CSS\": {\n",
       "                    styles: {'.MathJax_Display': {\"margin\": 4}}\n",
       "                }\n",
       "        });\n",
       "</script>\n"
      ],
      "text/plain": [
       "<IPython.core.display.HTML object>"
      ]
     },
     "execution_count": 65,
     "metadata": {},
     "output_type": "execute_result"
    }
   ],
   "source": [
    "# Notebook style\n",
    "from IPython.core.display import HTML\n",
    "css_file = './static/style.css'\n",
    "HTML(open(css_file, \"r\").read())"
   ]
  }
 ],
 "metadata": {
  "kernelspec": {
   "display_name": "Python 3",
   "language": "python",
   "name": "python3"
  },
  "language_info": {
   "codemirror_mode": {
    "name": "ipython",
    "version": 3
   },
   "file_extension": ".py",
   "mimetype": "text/x-python",
   "name": "python",
   "nbconvert_exporter": "python",
   "pygments_lexer": "ipython3",
   "version": "3.5.1"
  }
 },
 "nbformat": 4,
 "nbformat_minor": 0
}
