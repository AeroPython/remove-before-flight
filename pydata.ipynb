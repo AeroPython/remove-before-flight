{
 "cells": [
  {
   "cell_type": "code",
   "execution_count": 24,
   "metadata": {
    "collapsed": true
   },
   "outputs": [],
   "source": [
    "import pandas as pd\n",
    "import numpy as np\n",
    "%matplotlib inline"
   ]
  },
  {
   "cell_type": "code",
   "execution_count": 25,
   "metadata": {
    "collapsed": false
   },
   "outputs": [
    {
     "name": "stderr",
     "output_type": "stream",
     "text": [
      "C:\\Users\\jesus\\Anaconda3\\lib\\site-packages\\IPython\\core\\interactiveshell.py:2723: DtypeWarning: Columns (4,7,17,27,28,32,37,38,47,48,53,63,70,72,73,76,82) have mixed types. Specify dtype option on import or set low_memory=False.\n",
      "  interactivity=interactivity, compiler=compiler, result=result)\n"
     ]
    },
    {
     "data": {
      "text/plain": [
       "121    2124\n",
       "Name: far_part, dtype: int64"
      ]
     },
     "execution_count": 25,
     "metadata": {},
     "output_type": "execute_result"
    }
   ],
   "source": [
    "pd.options.display.max_columns = 93\n",
    "pd.options.display.max_rows = 40\n",
    "\n",
    "aircraft = pd.read_csv(\"./data/aircraft.csv\",\n",
    "                                    encoding = \"ISO-8859-1\",\n",
    "                                    sep=';')  \n",
    "aircraft = aircraft.drop_duplicates('ev_id')\n",
    "aircraft = aircraft[ aircraft['far_part'] == '121']\n",
    "\n",
    "far_121 = aircraft.where(aircraft['ev_id'])\n",
    "#far_121.info()\n",
    "\n",
    "aircraft['far_part'].value_counts()"
   ]
  },
  {
   "cell_type": "code",
   "execution_count": 26,
   "metadata": {
    "collapsed": false
   },
   "outputs": [
    {
     "name": "stdout",
     "output_type": "stream",
     "text": [
      "<class 'pandas.core.frame.DataFrame'>\n",
      "Int64Index: 140332 entries, 0 to 140331\n",
      "Data columns (total 8 columns):\n",
      "ev_id              140332 non-null object\n",
      "Aircraft_Key       140332 non-null int64\n",
      "Occurrence_No      140332 non-null int64\n",
      "Occurrence_Code    140332 non-null int64\n",
      "Phase_of_Flight    140332 non-null int64\n",
      "Altitude           140332 non-null int64\n",
      "lchg_date          139681 non-null object\n",
      "lchg_userid        137311 non-null object\n",
      "dtypes: int64(5), object(3)\n",
      "memory usage: 9.6+ MB\n"
     ]
    }
   ],
   "source": [
    "pd.options.display.max_columns = 8\n",
    "pd.options.display.max_rows = 71\n",
    "\n",
    "Occurrences = pd.read_csv(\"./data/Occurrences1.csv\",\n",
    "                                    sep=';')  \n",
    "Occurrences.info()"
   ]
  },
  {
   "cell_type": "code",
   "execution_count": 37,
   "metadata": {
    "collapsed": false
   },
   "outputs": [
    {
     "data": {
      "image/png": "[encoded data removed]",
      "text/plain": [
       "<matplotlib.figure.Figure at 0x95742bd3c8>"
      ]
     },
     "metadata": {},
     "output_type": "display_data"
    }
   ],
   "source": [
    "a = Occurrences['ev_id'].isin(far_121['ev_id'])\n",
    "Occurrences_121 = Occurrences[a]\n",
    "b = Occurrences_121['Occurrence_Code'].value_counts()\n",
    "b = b[0:10]\n",
    "\n",
    "Occurrences_dict = {171:'FIRE',\n",
    "             250:'LOSS OF CONTROL - IN FLIGHT',\n",
    "             260:'LOSS OF CONTROL - ON GROUND/WATER',\n",
    "             280:'NEAR COLLISION BETWEEN AIRCRAFT',\n",
    "             310:'ON GROUND/WATER COLLISION WITH OBJECT',\n",
    "             320:'ON GROUND/WATER ENCOUNTER WITH TERRAIN/WATER',\n",
    "             350:'LOSS OF ENGINE POWER (includes loss of power for unknown reason)',\n",
    "             220:'IN FLIGHT COLLISION WITH OBJECT',\n",
    "             130:'AIRFRAME/COMPONENT/SYSTEM FAILURE/MALFUNCTION',\n",
    "             240:'IN FLIGHT ENCOUNTER WITH WEATHER*',\n",
    "             230:'IN FLIGHT COLLISION WITH TERRAIN/WATER',\n",
    "             430:'MISCELLANEOUS/OTHER',\n",
    "             351:'LOSS OF ENGINE POWER(TOTAL) - MECH FAILURE/MALFUNCTION'}\n",
    "\n",
    "b = b.rename_axis(Occurrences_dict)\n",
    "b.plot.barh(stacked=True);\n"
   ]
  },
  {
   "cell_type": "code",
   "execution_count": null,
   "metadata": {
    "collapsed": true
   },
   "outputs": [],
   "source": []
  }
 ],
 "metadata": {
  "kernelspec": {
   "display_name": "Python 3",
   "language": "python",
   "name": "python3"
  },
  "language_info": {
   "codemirror_mode": {
    "name": "ipython",
    "version": 3
   },
   "file_extension": ".py",
   "mimetype": "text/x-python",
   "name": "python",
   "nbconvert_exporter": "python",
   "pygments_lexer": "ipython3",
   "version": "3.5.1"
  }
 },
 "nbformat": 4,
 "nbformat_minor": 0
}
