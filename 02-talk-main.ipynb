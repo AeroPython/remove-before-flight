{
 "cells": [
  {
   "cell_type": "markdown",
   "metadata": {},
   "source": [
    "![PyData_logo](./static/pydata-logo-madrid-2016.png)"
   ]
  },
  {
   "cell_type": "markdown",
   "metadata": {},
   "source": [
    "# Remove Before Flight\n",
    "## Analyzing Flight Safety Data with Python"
   ]
  },
  {
   "cell_type": "markdown",
   "metadata": {},
   "source": [
    "###### Jesús Martos Carrizo\n",
    "###### Alejandro Sáez Mollejo"
   ]
  },
  {
   "cell_type": "markdown",
   "metadata": {},
   "source": [
    "### Loading & Cleaning data "
   ]
  },
  {
   "cell_type": "code",
   "execution_count": null,
   "metadata": {
    "collapsed": false
   },
   "outputs": [],
   "source": [
    "import pandas as pd\n",
    "import numpy as np\n",
    "\n",
    "%matplotlib inline\n",
    "import matplotlib.pyplot as plt\n",
    "import matplotlib as mpl\n"
   ]
  },
  {
   "cell_type": "code",
   "execution_count": null,
   "metadata": {
    "collapsed": true
   },
   "outputs": [],
   "source": [
    "# Some configuration options:\n",
    "pd.set_option('max_columns', 70)\n",
    "pd.set_option('max_rows', 50)\n",
    "\n",
    "mpl.rcParams['figure.figsize'] = 10, 5\n",
    "plt.style.use('ggplot')"
   ]
  },
  {
   "cell_type": "markdown",
   "metadata": {},
   "source": [
    "##### A first glipse of the data: events"
   ]
  },
  {
   "cell_type": "markdown",
   "metadata": {},
   "source": [
    "[Data base structure](./data/admsrel.pdf)"
   ]
  },
  {
   "cell_type": "code",
   "execution_count": null,
   "metadata": {
    "collapsed": false
   },
   "outputs": [],
   "source": [
    "events = pd.read_csv(\"./data/events.csv\", sep='|', low_memory=False)\n",
    "events.head()"
   ]
  },
  {
   "cell_type": "code",
   "execution_count": null,
   "metadata": {
    "collapsed": false
   },
   "outputs": [],
   "source": [
    "events.info(memory_usage='deep')"
   ]
  },
  {
   "cell_type": "code",
   "execution_count": null,
   "metadata": {
    "collapsed": false
   },
   "outputs": [],
   "source": [
    "# Parsing dates\n",
    "date_format = \"%m/%d/%Y %I:%M:%S %p\"\n",
    "date = events['ev_date'].dropna()\n",
    "date = pd.to_datetime(date, format=date_format)\n",
    "time = events['ev_time'].astype(str).str.split('.').str[0].str.zfill(4)\n",
    "time = pd.to_datetime(time, format=\"%H%M\", errors='coerce') # for nan values\n",
    "\n",
    "time.fillna('0000', inplace=True)\n",
    "\n",
    "str_date = date.dt.date.astype(str)\n",
    "str_time = time.dt.time.astype(str)\n",
    "date_time = pd.to_datetime(str_date + ' ' + str_time,\n",
    "                           format=\"%Y-%m-%d %H:%M:%S\")\n",
    "events['ev_date'] = date_time"
   ]
  },
  {
   "cell_type": "code",
   "execution_count": null,
   "metadata": {
    "collapsed": false
   },
   "outputs": [],
   "source": [
    "events.info(memory_usage='deep', max_cols=1)"
   ]
  },
  {
   "cell_type": "code",
   "execution_count": null,
   "metadata": {
    "collapsed": false
   },
   "outputs": [],
   "source": [
    "events.columns"
   ]
  },
  {
   "cell_type": "markdown",
   "metadata": {},
   "source": [
    "What we don't really need..."
   ]
  },
  {
   "cell_type": "code",
   "execution_count": null,
   "metadata": {
    "collapsed": true
   },
   "outputs": [],
   "source": [
    "events.drop(['ev_dow', 'ev_time', 'ev_tmzn', 'ev_year', 'ev_month'], axis=1, inplace=True)"
   ]
  },
  {
   "cell_type": "markdown",
   "metadata": {},
   "source": [
    "Dropping events previuos to 1982 (They shouldn't be here!)"
   ]
  },
  {
   "cell_type": "code",
   "execution_count": null,
   "metadata": {
    "collapsed": false
   },
   "outputs": [],
   "source": [
    "cond = events['ev_date'].dt.year < 1982\n",
    "print('Dates before 1982: ',cond.sum())\n",
    "indx = events[cond].index\n",
    "events.drop(indx, inplace=True)"
   ]
  },
  {
   "cell_type": "markdown",
   "metadata": {},
   "source": [
    "##### Analysing *accidents*: discarding *incidents* "
   ]
  },
  {
   "cell_type": "code",
   "execution_count": null,
   "metadata": {
    "collapsed": false
   },
   "outputs": [],
   "source": [
    "gby_ev_type = events.groupby('ev_type')\n",
    "gby_ev_type.groups.keys()"
   ]
  },
  {
   "cell_type": "markdown",
   "metadata": {},
   "source": [
    "<div class=\"alert alert-danger\">\n",
    "  <strong>Accident</strong>:  An occurrence associated with the operation of an aircraft which takes place between the time any person boards the aircraft with the intention of flight until such time as all such persons have disembarked, in which:\n",
    "  <ol type=\"a\">\n",
    "  <li>a person is fatally or seriously injured</li>\n",
    "  <li>the aircraft sustains damage or structural failure</li>\n",
    "  <li>the aircraft is missing or is completely inaccessible</li>\n",
    "</ol>\n",
    "</div>"
   ]
  },
  {
   "cell_type": "markdown",
   "metadata": {},
   "source": [
    "<div class=\"alert alert-warning\">\n",
    "<strong>Incident</strong>:\n",
    "An occurrence, other than an accident, associated with the operation of an aircraft which affects or could affect the \n",
    "safety of operation. \n",
    "</div>"
   ]
  },
  {
   "cell_type": "code",
   "execution_count": null,
   "metadata": {
    "collapsed": false
   },
   "outputs": [],
   "source": [
    "events = gby_ev_type.get_group('ACC')\n",
    "\n",
    "events['ev_id'].count()"
   ]
  },
  {
   "cell_type": "markdown",
   "metadata": {},
   "source": [
    "##### Focus on commercial flights "
   ]
  },
  {
   "cell_type": "code",
   "execution_count": null,
   "metadata": {
    "collapsed": false
   },
   "outputs": [],
   "source": [
    "aircraft = pd.read_csv(\"./data/aircraft.csv\",\n",
    "                                    encoding = \"ISO-8859-1\",  # export the table again.\n",
    "                                    sep=';')\n",
    "\n",
    "aircraft.head(2)"
   ]
  },
  {
   "cell_type": "markdown",
   "metadata": {
    "collapsed": false
   },
   "source": [
    "Aircrafts are classified according to different criteria (**Model,Model of the engine,far_part**, etc) in the NTSB database.\n",
    "\n",
    "For this talk we are going to focus on **revenue commercial Air Transport**. In order to do this, we are going to filter the data according to the FAA (Federal Aviation Administration) criteria:\n",
    "\n",
    "Code of Federal Regulations (CFR) title 14:\n",
    "\n",
    "* **Part 121**: Large transport aircraft engaged in revenue operations involving the transport of both passengers and cargo.\n",
    "\n",
    "* **Non US and commercial**\n",
    "\n",
    "* Part 135: Both scheduled (primarily passenger service) carriers flying aircraft with fewer than 10 passenger seats and on-demand passenger or cargo services using either fixed-wing airplanes or helicopters. On-demand passenger services include air taxi, air medical, and certain air tour operations."
   ]
  },
  {
   "cell_type": "code",
   "execution_count": null,
   "metadata": {
    "collapsed": false
   },
   "outputs": [],
   "source": [
    "# are accidents\n",
    "cond = aircraft['ev_id'].isin(events['ev_id'])\n",
    "aircraft = aircraft[cond]"
   ]
  },
  {
   "cell_type": "code",
   "execution_count": null,
   "metadata": {
    "collapsed": false
   },
   "outputs": [],
   "source": [
    "gby_far_part = aircraft.groupby('far_part')\n",
    "gby_far_part.groups.keys()"
   ]
  },
  {
   "cell_type": "code",
   "execution_count": null,
   "metadata": {
    "collapsed": true
   },
   "outputs": [],
   "source": [
    "desired_far_parts = ['NUSC',  # Non-U.S. Commercial\n",
    "                                 '121']      # Air Carrier"
   ]
  },
  {
   "cell_type": "markdown",
   "metadata": {},
   "source": [
    "<img src=\"./static/pict1.png\" style=\"width:700px;\"/>"
   ]
  },
  {
   "cell_type": "code",
   "execution_count": null,
   "metadata": {
    "collapsed": false
   },
   "outputs": [],
   "source": [
    "cond = aircraft['far_part'].isin(desired_far_parts)\n",
    "aircraft = aircraft[cond]\n",
    "\n",
    "aircraft['acft_category'].value_counts()"
   ]
  },
  {
   "cell_type": "code",
   "execution_count": null,
   "metadata": {
    "collapsed": false
   },
   "outputs": [],
   "source": [
    "cond_2 = aircraft['acft_category'] == 'AIR'\n",
    "aircraft= aircraft[cond_2]\n",
    "aircraft.head(2)"
   ]
  },
  {
   "cell_type": "code",
   "execution_count": null,
   "metadata": {
    "collapsed": false
   },
   "outputs": [],
   "source": [
    "ev_ids_for_desired_criteria = aircraft['ev_id'].drop_duplicates()\n",
    "# How many different events do we have after this?\n",
    "print('Number of events: ', ev_ids_for_desired_criteria.count())\n",
    "\n",
    "mask = events['ev_id'].isin(ev_ids_for_desired_criteria.values)\n",
    "events = events[mask]"
   ]
  },
  {
   "cell_type": "code",
   "execution_count": null,
   "metadata": {
    "collapsed": false,
    "scrolled": true
   },
   "outputs": [],
   "source": [
    "events.info(memory_usage='deep')"
   ]
  },
  {
   "cell_type": "code",
   "execution_count": null,
   "metadata": {
    "collapsed": false,
    "scrolled": true
   },
   "outputs": [],
   "source": [
    "aircraft.info(memory_usage='deep')"
   ]
  },
  {
   "cell_type": "code",
   "execution_count": null,
   "metadata": {
    "collapsed": false
   },
   "outputs": [],
   "source": [
    "aircraft['far_part'].value_counts()"
   ]
  },
  {
   "cell_type": "markdown",
   "metadata": {},
   "source": [
    "### Data Analysis "
   ]
  },
  {
   "cell_type": "markdown",
   "metadata": {},
   "source": [
    "From now on, `events` and `aircraft` only contain **accident** data from flights corresponding to **FAR parts** in desired_far_parts."
   ]
  },
  {
   "cell_type": "markdown",
   "metadata": {},
   "source": [
    "#### Where do accidents occur?"
   ]
  },
  {
   "cell_type": "markdown",
   "metadata": {},
   "source": [
    "##### What information do we have about location? "
   ]
  },
  {
   "cell_type": "code",
   "execution_count": null,
   "metadata": {
    "collapsed": false
   },
   "outputs": [],
   "source": [
    "events[['ev_city', 'ev_state', 'ev_country', 'latitude', 'longitude']].head(10)"
   ]
  },
  {
   "cell_type": "markdown",
   "metadata": {},
   "source": [
    "##### So, let's parse it!"
   ]
  },
  {
   "cell_type": "code",
   "execution_count": null,
   "metadata": {
    "collapsed": true
   },
   "outputs": [],
   "source": [
    "def convert_lat(string):\n",
    "    degs = float(string[0:2])\n",
    "    mins = float(string[2:4])\n",
    "    secs = float(string[4:6])\n",
    "    last = string[6].lower()\n",
    "    if last == 's':\n",
    "        factor = -1.0\n",
    "    elif last == 'n':\n",
    "        factor = 1.0\n",
    "    else:\n",
    "        raise ValueError(\"invalid hemisphere\")\n",
    "    return factor * (degs + mins / 60 + secs / 3600)\n",
    "\n",
    "def convert_lon(string):\n",
    "    degs = float(string[0:3])\n",
    "    mins = float(string[3:5])\n",
    "    secs = float(string[5:7])\n",
    "    last = string[7].lower()\n",
    "    if last == 'w':\n",
    "        factor = -1.0\n",
    "    elif last == 'e':\n",
    "        factor = 1.0\n",
    "    else:\n",
    "        raise ValueError(\"invalid direction\")\n",
    "    return factor * (degs + mins / 60 + secs / 3600)"
   ]
  },
  {
   "cell_type": "code",
   "execution_count": null,
   "metadata": {
    "collapsed": false
   },
   "outputs": [],
   "source": [
    "# Parsing latitude\n",
    "events['latitude'] = events['latitude'].replace('       ', np.nan)\n",
    "lat = events['latitude']\n",
    "lat.dropna(inplace=True)\n",
    "\n",
    "mask = lat.str.contains(r'^[0-9]{6}[NnSs]$')\n",
    "events['latitude_num'] = lat[mask].apply(convert_lat)\n",
    "\n",
    "# Parsing longitude\n",
    "events['longitude'] = events['longitude'].replace('        ', np.nan)\n",
    "lon = events['longitude']\n",
    "lon.dropna(inplace=True)\n",
    "\n",
    "mask = lon.str.contains(r'^[0-9]{7}[EeWw]$')\n",
    "events['longitude_num'] = lon[mask].apply(convert_lon)\n",
    "\n",
    "events[['longitude_num', 'latitude_num']].head()"
   ]
  },
  {
   "cell_type": "markdown",
   "metadata": {},
   "source": [
    "##### Using Google Geocode API"
   ]
  },
  {
   "cell_type": "markdown",
   "metadata": {},
   "source": [
    " ![](./static/googlemaps.png)"
   ]
  },
  {
   "cell_type": "markdown",
   "metadata": {},
   "source": [
    "Due to the limitation on the daily number of requests we will load data that have requested previously."
   ]
  },
  {
   "cell_type": "code",
   "execution_count": null,
   "metadata": {
    "collapsed": false
   },
   "outputs": [],
   "source": [
    "cond = events['longitude_num'].isnull() | events['latitude_num'].isnull()\n",
    "\n",
    "print(\"No lat lon:\", events['ev_id'][cond].count())"
   ]
  },
  {
   "cell_type": "code",
   "execution_count": null,
   "metadata": {
    "collapsed": false
   },
   "outputs": [],
   "source": [
    "need_location = events.loc[cond][['ev_city', 'ev_country', 'ev_state', 'latitude_num', 'longitude_num']]\n",
    "need_location.head()"
   ]
  },
  {
   "cell_type": "code",
   "execution_count": null,
   "metadata": {
    "collapsed": false
   },
   "outputs": [],
   "source": [
    "need_location.count()"
   ]
  },
  {
   "cell_type": "raw",
   "metadata": {},
   "source": [
    "need_location.to_csv('./data/need_location.csv')"
   ]
  },
  {
   "cell_type": "markdown",
   "metadata": {},
   "source": [
    "We use `need_location.csv` and generate ---> `have_location_part1.csv` & `have_location_part_2.csv`"
   ]
  },
  {
   "cell_type": "code",
   "execution_count": null,
   "metadata": {
    "collapsed": false
   },
   "outputs": [],
   "source": [
    "have_location1 = pd.read_csv('./data/have_location_part1.csv', index_col='Unnamed: 0')\n",
    "have_location2 = pd.read_csv('./data/have_location_part2.csv', index_col='Unnamed: 0')\n",
    "have_location = pd.concat([have_location1, have_location2], axis=0)\n",
    "\n",
    "events.loc[need_location.index, ['latitude_num']] = have_location['latitude']\n",
    "events.loc[need_location.index, ['longitude_num']] = have_location['longitude']\n",
    "events.loc[need_location.index, ['ev_city', 'ev_country', 'ev_state', 'latitude_num', 'longitude_num']].head()"
   ]
  },
  {
   "cell_type": "code",
   "execution_count": null,
   "metadata": {
    "collapsed": false
   },
   "outputs": [],
   "source": [
    "cond = events['longitude_num'].isnull() | events['latitude_num'].isnull()\n",
    "\n",
    "print(\"No lat lon:\", events['ev_id'][cond].count())"
   ]
  },
  {
   "cell_type": "markdown",
   "metadata": {},
   "source": [
    "##### and... plotting "
   ]
  },
  {
   "cell_type": "code",
   "execution_count": null,
   "metadata": {
    "collapsed": true
   },
   "outputs": [],
   "source": [
    "lon_ = events['longitude_num'].values\n",
    "lat_ = events['latitude_num'].values"
   ]
  },
  {
   "cell_type": "code",
   "execution_count": null,
   "metadata": {
    "collapsed": false
   },
   "outputs": [],
   "source": [
    "from mpl_toolkits.basemap import Basemap\n",
    "\n",
    "fig=plt.figure(figsize=(15, 15))\n",
    "\n",
    "m1 = Basemap('mill',lon_0=0, lat_0=0)\n",
    "m1.bluemarble()\n",
    "m1.drawcoastlines()\n",
    "m1.scatter(lon_, lat_, latlon=True, marker='.', color='r')"
   ]
  },
  {
   "cell_type": "markdown",
   "metadata": {},
   "source": [
    "#####  Really gathered right? but... where are the airports?"
   ]
  },
  {
   "cell_type": "code",
   "execution_count": null,
   "metadata": {
    "collapsed": false
   },
   "outputs": [],
   "source": [
    "header = ['name', 'city', 'country', 'lat', 'lon']\n",
    "airports = pd.read_csv('./data/openflights/airports.dat', usecols=(1,2,3,6,7), names=header)\n",
    "airports.head()"
   ]
  },
  {
   "cell_type": "code",
   "execution_count": null,
   "metadata": {
    "collapsed": false
   },
   "outputs": [],
   "source": [
    "fig, ax = plt.subplots(2, 1, sharex=True, sharey=True)\n",
    "\n",
    "fig.set_size_inches(15, 15)\n",
    "\n",
    "ax[0].set_title('airports')\n",
    "m1 = Basemap('mill',lon_0=0, lat_0=0, ax=ax[0])\n",
    "m1.drawcoastlines()\n",
    "m1.bluemarble()\n",
    "x, y = m1(airports['lon'], airports['lat'])\n",
    "# retocar para que se vea bien\n",
    "m1.scatter(x, y, latlon=False, marker='.', color='g')\n",
    "\n",
    "ax[1].set_title('accidents')\n",
    "m2 = Basemap('mill',lon_0=0, lat_0=0, ax=ax[1])\n",
    "m2.drawcoastlines()\n",
    "m2.bluemarble()\n",
    "m2.scatter(lon_, lat_, latlon=False, marker='.', color='r')"
   ]
  },
  {
   "cell_type": "markdown",
   "metadata": {},
   "source": [
    "#### When do accidents occur? Which flight phase is safer?"
   ]
  },
  {
   "cell_type": "markdown",
   "metadata": {
    "collapsed": true
   },
   "source": [
    "<img src=\"./static/PED_phase_flight.jpg\" style=\"width: 800px;\"/>"
   ]
  },
  {
   "cell_type": "markdown",
   "metadata": {},
   "source": [
    "<img src=\"./static/pict2.png\" style=\"width:700px;\"/>"
   ]
  },
  {
   "cell_type": "code",
   "execution_count": null,
   "metadata": {
    "collapsed": false
   },
   "outputs": [],
   "source": [
    "detailed_phase = [501,502,503,504,505,511,512,513,514,\n",
    "                  521,522,523,531,541,551,552,553,\n",
    "                  561,562,563,564,565,566,567,567,568,\n",
    "                  569,571,572,573,574,575,576,581,582,583,\n",
    "                  591,592, 542]\n",
    "\n",
    "general_phase = [(ii//10)*10 for ii in detailed_phase[:-1]]\n",
    "general_phase.append(580)\n",
    "\n",
    "aircraft['phase_gen'] = aircraft['phase_flt_spec'].replace(to_replace=detailed_phase,\n",
    "                                                           value=general_phase)\n",
    "\n",
    "occurrences_series = aircraft['phase_gen'].value_counts()\n",
    "\n",
    "# Only the ten most common\n",
    "occurrences_series.iloc[0:10]"
   ]
  },
  {
   "cell_type": "code",
   "execution_count": null,
   "metadata": {
    "collapsed": false
   },
   "outputs": [],
   "source": [
    "phases_dict = {500:'STANDING',\n",
    "             510:'TAXI',\n",
    "             520:'TAKEOFF',\n",
    "             530:'CLIMB',\n",
    "             540:'CRUISE',\n",
    "             550:'DESCENT',\n",
    "             560:'APPROACH',\n",
    "             570:'LANDING',\n",
    "             580:'MANEUVERING',\n",
    "             600:'OTHER',\n",
    "             610:'UNKNOWN'}\n",
    "            \n",
    "occurrences_series = occurrences_series.rename_axis(phases_dict)\n",
    "\n",
    "occurrences_series.plot.barh(stacked=True)\n",
    "plt.xlabel('number of accidents')"
   ]
  },
  {
   "cell_type": "code",
   "execution_count": null,
   "metadata": {
    "collapsed": false
   },
   "outputs": [],
   "source": [
    "aircraft.damage.value_counts()"
   ]
  },
  {
   "cell_type": "code",
   "execution_count": null,
   "metadata": {
    "collapsed": false
   },
   "outputs": [],
   "source": [
    "group = aircraft.groupby(['phase_gen', 'damage'])\n",
    "\n",
    "phases_list = phases_dict.keys()\n",
    "damage_list = ['NONE', 'SUBS', 'DEST', 'MINR', 'UNK']\n",
    "injured = ['injured', 'fatalities']\n",
    "phases = pd.DataFrame(columns=damage_list+injured)\n",
    "\n",
    "phases"
   ]
  },
  {
   "cell_type": "code",
   "execution_count": null,
   "metadata": {
    "collapsed": false
   },
   "outputs": [],
   "source": [
    "for phase in phases_list:\n",
    "    sum_inj = 0\n",
    "    sum_fat = 0\n",
    "    for dam in damage_list:\n",
    "        try:\n",
    "            gg = group.get_group((phase, dam))\n",
    "            phases.loc[phase, [dam]] = gg['ev_id'].count()\n",
    "            mask = events['ev_id'].isin(gg['ev_id'])\n",
    "            #print(mask.sum())\n",
    "            inj_m = events[mask]['inj_tot_m'].sum()\n",
    "            inj_s = events[mask]['inj_tot_s'].sum()\n",
    "            fat = events[mask]['inj_tot_f'].sum()\n",
    "            if not np.isnan(inj_m):\n",
    "                sum_inj += inj_m\n",
    "            if not np.isnan(inj_s):\n",
    "                sum_inj += inj_s\n",
    "            if not np.isnan(fat):\n",
    "                sum_fat += fat\n",
    "        except KeyError:\n",
    "            pass\n",
    "    \n",
    "    phases.loc[phase, ['injured']] = sum_inj\n",
    "    phases.loc[phase, ['fatalities']] = sum_fat\n",
    "\n",
    "phases.rename_axis(phases_dict, inplace=True)\n",
    "phases"
   ]
  },
  {
   "cell_type": "code",
   "execution_count": null,
   "metadata": {
    "collapsed": false
   },
   "outputs": [],
   "source": [
    "phases['TOTAL'] = phases[['NONE', 'MINR', 'SUBS', 'DEST']].sum(axis=1)\n",
    "phases = phases.sort_values(by='TOTAL', ascending=False)\n",
    "\n",
    "phases[['NONE', 'MINR', 'SUBS', 'DEST']].plot.barh(stacked=True)"
   ]
  },
  {
   "cell_type": "code",
   "execution_count": null,
   "metadata": {
    "collapsed": false
   },
   "outputs": [],
   "source": [
    "phases[['injured', 'fatalities']].plot.barh()"
   ]
  },
  {
   "cell_type": "code",
   "execution_count": null,
   "metadata": {
    "collapsed": false
   },
   "outputs": [],
   "source": [
    "phases = phases.sort_values(by='fatalities', ascending=False)\n",
    "phases[['injured', 'fatalities']].plot.barh()"
   ]
  },
  {
   "cell_type": "markdown",
   "metadata": {},
   "source": [
    "#### Which are the main accident occurrences?"
   ]
  },
  {
   "cell_type": "code",
   "execution_count": null,
   "metadata": {
    "collapsed": false
   },
   "outputs": [],
   "source": [
    "occurrences = pd.read_csv(\"./data/ocurrences.csv\", sep=';')\n",
    "occurrences = occurrences[occurrences['ev_id'].isin(events['ev_id'])]"
   ]
  },
  {
   "cell_type": "code",
   "execution_count": null,
   "metadata": {
    "collapsed": false
   },
   "outputs": [],
   "source": [
    "# ocurrences_filtered['ev_id'].value_counts()\n",
    "occurrences[occurrences['ev_id']=='20001214X36685']"
   ]
  },
  {
   "cell_type": "code",
   "execution_count": null,
   "metadata": {
    "collapsed": false
   },
   "outputs": [],
   "source": [
    "events[events['ev_id']=='20001214X36685']"
   ]
  },
  {
   "cell_type": "code",
   "execution_count": null,
   "metadata": {
    "collapsed": false
   },
   "outputs": [],
   "source": [
    "from IPython.display import HTML\n",
    "HTML('<iframe src=\"http://www.ntsb.gov/_layouts/ntsb.aviation/brief.aspx?ev_id=20001214X36685&key=2&queryId=9811677a-e5d5-43d4-8d8e-89599d9d47a4&pgno=3&pgsize=50\"\\\n",
    "      width=\"700\" height=\"400\"></iframe>')"
   ]
  },
  {
   "cell_type": "code",
   "execution_count": null,
   "metadata": {
    "collapsed": true
   },
   "outputs": [],
   "source": [
    "occurrences['Occurrence_Code'] = occurrences['Occurrence_Code'].replace(\n",
    "    to_replace=[131,171,172,191,192,193,195,232,271,351,352, 353,351,354],\n",
    "    value=[130,170,170,190,190,190,190,230,270,520,520,350,350,350])\n",
    "\n",
    "occurrences_series_2 = occurrences['Occurrence_Code'].value_counts()\n",
    "occurrences_series_2 = occurrences_series_2[0:13]"
   ]
  },
  {
   "cell_type": "code",
   "execution_count": null,
   "metadata": {
    "collapsed": false
   },
   "outputs": [],
   "source": [
    "occurrences_dict = {130:'AIRFRAME/COMPONENT/SYSTEM FAILURE/MALFUNCTION',\n",
    "                    170:'FIRE/EXPLOSION',\n",
    "                    180:'FORCED LANDING',\n",
    "                    190:'GEAR COLLAPSED',\n",
    "                    200:'HARD LANDING',\n",
    "                    220:'IN FLIGHT COLLISION WITH OBJECT',\n",
    "                    230:'IN FLIGHT COLLISION WITH TERRAIN/WATER',\n",
    "                    240:'IN FLIGHT ENCOUNTER WITH WEATHER',\n",
    "                    250:'LOSS OF CONTROL - IN FLIGHT',\n",
    "                    260:'LOSS OF CONTROL - ON GROUND/WATER',\n",
    "                    270:'MIDAIR COLLISION',\n",
    "                    280:'NEAR COLLISION BETWEEN AIRCRAFT',\n",
    "                    300:'NOSE OVER',\n",
    "                    310:'ON GROUND/WATER COLLISION WITH OBJECT',\n",
    "                    320:'ON GROUND/WATER ENCOUNTER WITH TERRAIN/WATER',\n",
    "                    340:'OVERRUN',\n",
    "                    350:'LOSS OF ENGINE POWER',\n",
    "                    430:'MISCELLANEOUS/OTHER',\n",
    "                    520:'DESCENT'}\n",
    "            \n",
    "occurrences_series_2 = occurrences_series_2.rename_axis(occurrences_dict)"
   ]
  },
  {
   "cell_type": "code",
   "execution_count": null,
   "metadata": {
    "collapsed": false
   },
   "outputs": [],
   "source": [
    "occurrences_series_2.plot.barh(stacked=True)\n",
    "plt.xlabel('number of accidents')"
   ]
  },
  {
   "cell_type": "markdown",
   "metadata": {},
   "source": [
    "#### What impact does experience have?"
   ]
  },
  {
   "cell_type": "markdown",
   "metadata": {},
   "source": [
    "##### Age"
   ]
  },
  {
   "cell_type": "code",
   "execution_count": null,
   "metadata": {
    "collapsed": false
   },
   "outputs": [],
   "source": [
    "flight_crew = pd.read_csv('./data/flight_crew.csv')\n",
    "\n",
    "# Only crew for the selected events:\n",
    "flight_crew = flight_crew[flight_crew['ev_id'].isin(events['ev_id'])]\n",
    "flight_crew.head(5)"
   ]
  },
  {
   "cell_type": "code",
   "execution_count": null,
   "metadata": {
    "collapsed": false
   },
   "outputs": [],
   "source": [
    "flight_crew['crew_category'].value_counts()"
   ]
  },
  {
   "cell_type": "code",
   "execution_count": null,
   "metadata": {
    "collapsed": false
   },
   "outputs": [],
   "source": [
    "# Remove spaces\n",
    "flight_crew['crew_category'] = flight_crew['crew_category'].str.strip()\n",
    "\n",
    "# Pilots and copilots\n",
    "crew_cat = ['PLT', 'CPLT']\n",
    "# crew_cat = ['CPLT']\n",
    "is_plt_cplt = flight_crew['crew_category'].isin(crew_cat)\n",
    "\n",
    "flight_crew_pc = flight_crew[is_plt_cplt]\n",
    "\n",
    "flight_crew_pc['crew_age'].describe()"
   ]
  },
  {
   "cell_type": "code",
   "execution_count": null,
   "metadata": {
    "collapsed": false
   },
   "outputs": [],
   "source": [
    "flight_crew_pc['crew_age'].plot.box()\n",
    "plt.xticks([1],['crew age'])"
   ]
  },
  {
   "cell_type": "code",
   "execution_count": null,
   "metadata": {
    "collapsed": false
   },
   "outputs": [],
   "source": [
    "bins = np.arange(14, 85, 5)\n",
    "flight_crew_pc['crew_age'].hist(bins=bins)\n",
    "plt.xlabel('crew age')"
   ]
  },
  {
   "cell_type": "markdown",
   "metadata": {},
   "source": [
    "According to GAMMA databook:\n",
    "    http://www.gama.aero/files/GAMA_2015_Databook_LoRes%20updated%203-29-2016.pdf\n",
    "    http://www.gama.aero/media-center/industry-facts-and-statistics/statistical-databook-and-industry-outlook#year2015"
   ]
  },
  {
   "cell_type": "code",
   "execution_count": null,
   "metadata": {
    "collapsed": false
   },
   "outputs": [],
   "source": [
    "licenses_by_age_airline = np.array([0, 572, 5199, 12003, 15507,\n",
    "                                                          18337, 23058, 25882, 24220, 16824,\n",
    "                                                          10184, 4284, 1766, 787])\n",
    "\n",
    "age_group = pd.cut(flight_crew_pc['crew_age'], bins)\n",
    "gby_age = flight_crew_pc['ev_id'].groupby(age_group).count()\n",
    "\n",
    "accident_rate_age = gby_age / licenses_by_age_airline\n",
    "accident_rate_age.plot.bar()\n",
    "plt.ylabel('accidents / licenses')\n",
    "plt.xlabel('crew age')"
   ]
  },
  {
   "cell_type": "markdown",
   "metadata": {},
   "source": [
    "It seems that some people have investigated this issue before:\n",
    ">  [...] the accident rate of airline transport\n",
    "rated (ATR) pilots aged 55–59 (3.78/1,000) is approximately one-third of that of pilots with the\n",
    "same rating who are aged 20–24 (11.71/10,000). <cite>John A. Wise, V. David Hopkin, Daniel J. Garland, **Handbook of Aviation Human Factors**, Second Edition.</cite>"
   ]
  },
  {
   "cell_type": "markdown",
   "metadata": {},
   "source": [
    "##### Flight hours"
   ]
  },
  {
   "cell_type": "code",
   "execution_count": null,
   "metadata": {
    "collapsed": true
   },
   "outputs": [],
   "source": [
    "flight_time = pd.read_csv('./data/flight_time.csv', sep=';', usecols=(0,1,2,3,4,5))\n",
    "cond = flight_time['ev_id'].isin(events['ev_id'])\n",
    "flight_time = flight_time[cond]\n",
    "\n",
    "flight_time['flight_type'] = flight_time['flight_type'].str.split().str[0]\n",
    "flight_time['flight_craft'] = flight_time['flight_craft'].str.split().str[0]"
   ]
  },
  {
   "cell_type": "code",
   "execution_count": null,
   "metadata": {
    "collapsed": false
   },
   "outputs": [],
   "source": [
    "flight_type = list(flight_time.groupby('flight_type').groups.keys())\n",
    "print(flight_type)"
   ]
  },
  {
   "cell_type": "code",
   "execution_count": null,
   "metadata": {
    "collapsed": false
   },
   "outputs": [],
   "source": [
    "flight_craft = list(flight_time.groupby('flight_craft').groups.keys())\n",
    "print(flight_craft)"
   ]
  },
  {
   "cell_type": "code",
   "execution_count": null,
   "metadata": {
    "collapsed": false
   },
   "outputs": [],
   "source": [
    "gby_flight_time = flight_time.groupby(['flight_craft', 'flight_type'])"
   ]
  },
  {
   "cell_type": "code",
   "execution_count": null,
   "metadata": {
    "collapsed": true
   },
   "outputs": [],
   "source": [
    "from ipywidgets import interact"
   ]
  },
  {
   "cell_type": "code",
   "execution_count": null,
   "metadata": {
    "collapsed": false
   },
   "outputs": [],
   "source": [
    "def my_widget_function(fcraft, ftype, factor):\n",
    "    flight_h = gby_flight_time.get_group((fcraft, ftype))['flight_hours']\n",
    "    print(flight_h.describe())\n",
    "    max_v = flight_h\n",
    "    cond = flight_h < factor *  flight_h.max()\n",
    "    \n",
    "    fig, ax = plt.subplots(1, 2, figsize=(12,4))\n",
    "    flight_h[cond].hist(ax=ax[0])\n",
    "    ax[0].set_ylabel('flight hours')\n",
    "    flight_h[cond].plot.box(ax=ax[1])"
   ]
  },
  {
   "cell_type": "code",
   "execution_count": null,
   "metadata": {
    "collapsed": false
   },
   "outputs": [],
   "source": [
    "interact(my_widget_function,\n",
    "         fcraft=flight_craft,\n",
    "         ftype=flight_type,\n",
    "         factor=(0., 1., 0.05))"
   ]
  },
  {
   "cell_type": "markdown",
   "metadata": {},
   "source": [
    "---\n",
    "Is there a limit on flight hours per year?\n",
    "\n",
    "http://aviation.stackexchange.com/questions/1807/what-is-common-number-of-flight-hours-a-year-for-an-airline-pilot\n"
   ]
  },
  {
   "cell_type": "markdown",
   "metadata": {},
   "source": [
    "#### And finally... is commercial air transport safer now than 30 years ago?"
   ]
  },
  {
   "cell_type": "code",
   "execution_count": null,
   "metadata": {
    "collapsed": false
   },
   "outputs": [],
   "source": [
    "ev_before_2016 = events[events['ev_date'].dt.year < 2016]\n",
    "gby_year = events.groupby(ev_before_2016.ev_date.dt.year)\n",
    "\n",
    "injured_per_year = gby_year[['inj_tot_f', 'inj_tot_s', 'inj_tot_m']].count()\n",
    "\n",
    "injured_per_year.tail()"
   ]
  },
  {
   "cell_type": "code",
   "execution_count": null,
   "metadata": {
    "collapsed": false
   },
   "outputs": [],
   "source": [
    "injured_per_year.plot.area(alpha=0.8, figsize=(11,5))\n",
    "plt.xlabel('Year')\n",
    "plt.ylabel('Number of passengers')"
   ]
  },
  {
   "cell_type": "markdown",
   "metadata": {},
   "source": [
    "https://en.wikipedia.org/wiki/List_of_accidents_and_incidents_involving_commercial_aircraft#1999"
   ]
  },
  {
   "cell_type": "code",
   "execution_count": null,
   "metadata": {
    "collapsed": false
   },
   "outputs": [],
   "source": [
    "passengers = pd.read_csv('./data/annual_passengers_carried/data.csv', nrows=1, usecols=range(4,60))\n",
    "passengers = passengers.transpose()\n",
    "# renaming column\n",
    "passengers.columns = ['passengers']\n",
    "# parsing date in index \n",
    "passengers.index = pd.to_datetime(passengers.index.str[:4])\n",
    "# converting flight number to number\n",
    "passengers['passengers'] = pd.to_numeric(passengers['passengers'], errors='coerce') / 1e6\n",
    "passengers.index = passengers.index.year"
   ]
  },
  {
   "cell_type": "code",
   "execution_count": null,
   "metadata": {
    "collapsed": false
   },
   "outputs": [],
   "source": [
    "flights = pd.read_csv('./data/annual_worldwide_departures/data.csv', nrows=1, usecols=range(4,59))\n",
    "flights = flights.transpose()\n",
    "# renaming column\n",
    "flights.columns = ['flights']\n",
    "flights\n",
    "# parsing date in index \n",
    "flights.index = pd.to_datetime(flights.index.str[:4])\n",
    "# converting flight number to number\n",
    "flights['flights'] = pd.to_numeric(flights['flights'], errors='coerce') / 1e6\n",
    "\n",
    "flights.index = np.arange(1960,2015)"
   ]
  },
  {
   "cell_type": "code",
   "execution_count": null,
   "metadata": {
    "collapsed": false
   },
   "outputs": [],
   "source": [
    "fig, ax = plt.subplots(2, 1, figsize=(12,6))\n",
    "ax[0].set_title('Millions of passengers transported')\n",
    "passengers['passengers'].plot.area(ax=ax[0], alpha=0.6, color=\"#0072B2\")\n",
    "ax[0].set_xlim(1975, 2014)\n",
    "\n",
    "ax[1].set_title('Millions of flights')\n",
    "flights['flights'].plot.area(ax=ax[1], alpha=0.6)\n",
    "ax[1].set_xlim(1975, 2014)\n",
    "\n",
    "plt.tight_layout()"
   ]
  },
  {
   "cell_type": "code",
   "execution_count": null,
   "metadata": {
    "collapsed": false
   },
   "outputs": [],
   "source": [
    "letality_rate = injured_per_year['inj_tot_f'] / passengers['passengers']\n",
    "ax = letality_rate.plot.area(alpha=0.8, figsize=(11,5))\n",
    "ax.set_xlim(1982, 2015)\n",
    "\n",
    "ax.set_ylabel('fatalities rate')"
   ]
  },
  {
   "cell_type": "code",
   "execution_count": null,
   "metadata": {
    "collapsed": false
   },
   "outputs": [],
   "source": [
    "accidents_gby_year = events['ev_id'].groupby(events.ev_date.dt.year).count()\n",
    "ax = accidents_gby_year.plot.area(alpha=0.8, figsize=(11,5))\n",
    "ax.set_xlim(1982, 2015)\n",
    "\n",
    "ax.set_ylabel('Number of accidents')"
   ]
  },
  {
   "cell_type": "code",
   "execution_count": null,
   "metadata": {
    "collapsed": false
   },
   "outputs": [],
   "source": [
    "accident_rate = accidents_gby_year / flights.flights\n",
    "accident_rate.tail()"
   ]
  },
  {
   "cell_type": "code",
   "execution_count": null,
   "metadata": {
    "collapsed": false
   },
   "outputs": [],
   "source": [
    "ax = accident_rate.plot(alpha=0.8, figsize=(11,5), marker='o')\n",
    "ax.set_xlim(2000, 2009)\n",
    "ax.set_ylabel('accident rate')"
   ]
  },
  {
   "cell_type": "markdown",
   "metadata": {},
   "source": [
    "![FAA](./static/FAA.png)"
   ]
  },
  {
   "cell_type": "markdown",
   "metadata": {},
   "source": [
    "![PyData_logo](./static/pydata-logo-madrid-2016.png)"
   ]
  },
  {
   "cell_type": "markdown",
   "metadata": {},
   "source": [
    "\n",
    "---\n"
   ]
  },
  {
   "cell_type": "code",
   "execution_count": null,
   "metadata": {
    "collapsed": false
   },
   "outputs": [],
   "source": [
    "# Notebook style\n",
    "from IPython.core.display import HTML\n",
    "css_file = './static/style.css'\n",
    "HTML(open(css_file, \"r\").read())"
   ]
  }
 ],
 "metadata": {
  "kernelspec": {
   "display_name": "Python 3",
   "language": "python",
   "name": "python3"
  },
  "language_info": {
   "codemirror_mode": {
    "name": "ipython",
    "version": 3
   },
   "file_extension": ".py",
   "mimetype": "text/x-python",
   "name": "python",
   "nbconvert_exporter": "python",
   "pygments_lexer": "ipython3",
   "version": "3.5.1"
  }
 },
 "nbformat": 4,
 "nbformat_minor": 0
}
